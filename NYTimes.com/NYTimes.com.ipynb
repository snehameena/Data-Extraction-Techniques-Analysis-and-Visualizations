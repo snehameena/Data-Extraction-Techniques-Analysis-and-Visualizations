{
 "cells": [
  {
   "cell_type": "code",
   "execution_count": 1,
   "metadata": {},
   "outputs": [],
   "source": [
    "from urllib.request import urlopen as uReq\n",
    "from bs4 import BeautifulSoup as soup\n",
    "import bs4"
   ]
  },
  {
   "cell_type": "code",
   "execution_count": 490,
   "metadata": {},
   "outputs": [],
   "source": [
    "myUrl = 'http://nytimes.com'"
   ]
  },
  {
   "cell_type": "code",
   "execution_count": 491,
   "metadata": {},
   "outputs": [
    {
     "name": "stdout",
     "output_type": "stream",
     "text": [
      "<title data-rh=\"true\">The New York Times - Breaking News, US News, World News and Videos</title>\n"
     ]
    }
   ],
   "source": [
    "html = uReq(myUrl)\n",
    "page_soup = soup(html.read(), 'html.parser');\n",
    "print(page_soup.title)"
   ]
  },
  {
   "cell_type": "code",
   "execution_count": 22,
   "metadata": {},
   "outputs": [],
   "source": [
    "##writing News Feed to a CSV\n",
    "import csv\n",
    "csvFile = open(\"./NewsFeeds.csv\", 'w+', newline='')\n",
    "try:\n",
    "    writer = csv.writer(csvFile)\n",
    "    writer.writerow(('Headlines','DetailedNews','Category'))\n",
    "except:\n",
    "    print(\"Problem occured while opening the document!!!!!\")"
   ]
  },
  {
   "cell_type": "code",
   "execution_count": 79,
   "metadata": {},
   "outputs": [
    {
     "name": "stdout",
     "output_type": "stream",
     "text": [
      "1 : Reports of Private White House Virus Briefings Fueled Early Stock Sell-Off\n",
      "2 : Barrett, Vowing Independence, Is Haunted by Trump’s Demands\n",
      "3 : Harris’s New Strategy: A Hearing Appearance That Doesn’t Make Waves\n",
      "4 : Biden Raised $383 Million Last Month; Enters October With $432 Million\n",
      "5 : Nick Saban, Alabama’s Football Coach, Tests Positive for Coronavirus\n",
      "6 : White Woman Made 2nd 911 Call to Falsely Accuse Black Bird-Watcher\n"
     ]
    }
   ],
   "source": [
    "count = 0\n",
    "_todays_highlights_heading =  page_soup.find('section', attrs={'data-testid':'block-TopStories'}).findAll(\"h2\",{\"class\":\"css-1vvhd4r\"})\n",
    "for _each_highlights in _todays_highlights_heading:\n",
    "    _todays_highlights = _each_highlights.find('span')\n",
    "    count+=1\n",
    "    print(count,\":\",_todays_highlights.get_text())"
   ]
  },
  {
   "cell_type": "code",
   "execution_count": 500,
   "metadata": {},
   "outputs": [
    {
     "name": "stdout",
     "output_type": "stream",
     "text": [
      "1 : Trump’s Combative Town Hall Stands in Stark Contrast With Biden Event\n",
      "2 : On Two Networks, a Pair of Telecasts as Different as the Candidates\n",
      "3 : Headed Toward 3rd Peak, U.S. Surpasses 8 Million Known Cases\n",
      "4 : Republicans Clash on Stimulus as Trump Says ‘Go Big’ and McConnell Demurs\n",
      "5 : Trump Was Warned Giuliani Was Conveying Russian Disinformation, Officials Say\n",
      "6 : By Calling Climate Change ‘Controversial,’ Barrett Created Controversy\n"
     ]
    }
   ],
   "source": [
    "count = 0\n",
    "_todays_highlights_heading =  page_soup.find('section', attrs={'data-testid':'block-TopStories'}).findAll(\"h2\",{\"class\":\"css-1vvhd4r\"})\n",
    "for _each_highlights in _todays_highlights_heading:\n",
    "    _todays_highlights = _each_highlights.find('span')\n",
    "    count+=1\n",
    "    print(count,\":\",_todays_highlights.get_text())"
   ]
  },
  {
   "cell_type": "code",
   "execution_count": 501,
   "metadata": {},
   "outputs": [
    {
     "name": "stdout",
     "output_type": "stream",
     "text": [
      "Hot News Headline! 1 : On Two Networks, a Pair of Telecasts as Different as the Candidates\n",
      "Detialed News: On NBC, Savannah Guthrie pressed President Trump for answers, while Joe Biden and George Stephanopoulos engaged in a sober policy conversation on ABC.\n",
      "Hot News Headline! 2 : Republicans Clash on Stimulus as Trump Says ‘Go Big’ and McConnell Demurs\n",
      "Detialed News: President Trump called for a plan of the kind envisioned by Democrats. Senator Mitch McConnell said Republicans could not accept so large a deal.\n",
      "Hot News Headline! 3 : Trump Was Warned Giuliani Was Conveying Russian Disinformation, Officials Say\n",
      "Detialed News: President Trump shrugged off the warning from the intelligence agencies about Rudy Giuliani, his personal lawyer, officials said.\n",
      "Hot News Headline! 4 : By Calling Climate Change ‘Controversial,’ Barrett Created Controversy\n",
      "Detialed News: Judge Amy Coney Barrett refused to answer numerous questions, but it was her avoidance of acknowledging climate change that particularly resonated.\n"
     ]
    }
   ],
   "source": [
    "_todays_reports =  page_soup.find('section', attrs={'data-testid':'block-TopStories'}).findAll(\"a\")\n",
    "count1 = 0\n",
    "_news_list = []\n",
    "for _news_details in _todays_reports:\n",
    "    news = _news_details.find('p')\n",
    "    headings = _news_details.find('span')\n",
    "    if ((news != None) and (headings != None)):\n",
    "        count1+=1\n",
    "        print(\"Hot News Headline!\",count1,\":\",headings.get_text())\n",
    "        print(\"Detialed News:\",news.get_text())\n",
    "        _heading = headings.get_text()\n",
    "        _text = news.get_text()\n",
    "        writer.writerow((_heading,_text,'Breaking News'))\n",
    "        \n",
    "        \n",
    "        \n"
   ]
  },
  {
   "cell_type": "code",
   "execution_count": 502,
   "metadata": {},
   "outputs": [
    {
     "name": "stdout",
     "output_type": "stream",
     "text": [
      "Short heading:: Slamming Trump, G.O.P. Senator Warns of a ‘Republican Blood Bath’\n",
      "story: Senator Ben Sasse of Nebraska said President Trump cozied up to dictators and white supremacists during a telephone town hall with constituents.\n",
      "Short heading:: Christie Says He Was ‘Wrong’ Not to Wear Masks at White House\n",
      "story: Chris Christie, the former New Jersey governor who was hospitalized as he battled Covid-19, urged people to follow C.D.C. guidelines in public.\n",
      "Short heading:: As Virus Surges and Brexit Bears Down, Boris Johnson Stalls\n",
      "story: The prime minister’s delaying strategy carries risks if he misplays his hand, with the pandemic worsening and a Brexit deadline approaching.\n",
      "Short heading:: Facebook and Twitter Dodge a 2016 Repeat, and Ignite a 2020 Firestorm\n",
      "story: Tech companies have vowed to do more to fight misinformation and foreign interference. This is what “doing more” looks like, our columnist writes.\n",
      "Short heading:: In Hubbub Over New York Post Report, YouTube Is Silent\n",
      "story: It remains a mystery whether the platform has done anything to promote or suppress views of the Post’s video about its article on Hunter Biden.\n",
      "Short heading:: Analysis: 18 Hours of Questions, Few Answers\n",
      "story: Judge Amy Coney Barrett took a rigorous approach to the strategy used by all modern Supreme Court nominees: avoiding taking a stance on most issues.\n"
     ]
    }
   ],
   "source": [
    "_short_stories =  page_soup.find('section', attrs={'data-testid':'block-TopStories'}).findAll(\"article\")\n",
    "\n",
    "for _each_short_stories in _short_stories:\n",
    "    _short_heading = _each_short_stories.find('h2',attrs={'class':'css-1cmu9py e1voiwgp0'})\n",
    "    _msg = _each_short_stories.find('p')\n",
    "    if((_short_heading !=None and _msg !=None)):\n",
    "        print(\"Short heading::\",_short_heading.get_text())\n",
    "        print(\"story:\",_msg.get_text())"
   ]
  },
  {
   "cell_type": "code",
   "execution_count": 130,
   "metadata": {},
   "outputs": [
    {
     "name": "stdout",
     "output_type": "stream",
     "text": [
      "Short heading:: Europe, Which Thought It Had the Virus Tamed, Faces a Resurgence\n",
      "story: France imposed a curfew on Paris and other major cities, and other countries are taking similar steps as record caseloads fill hospitals.\n",
      "Short heading:: As Virus Hits Rural America, Smaller Numbers Mask the Toll\n",
      "story: See all new cases around the world\n",
      "Short heading:: Why ‘Supermom’ Gets Star Billing on Résumés for Public Office\n",
      "story: Judge Amy Coney Barrett and Senator Kamala Harris negotiate America’s loaded expectations for women.\n",
      "Short heading:: ‘Severability’ Could Save A.C.A., Graham Says and Barrett Seems to Agree\n",
      "story: Democrats’ warnings that the nominee threatened the health care law elicited reassuring words from Senator Lindsey Graham and Judge Amy Coney Barrett.\n",
      "Short heading:: The Day in Polls: Strong Results for Biden in the Sun Belt\n",
      "story: It was another bad day for the president. Here’s our analysis of recent polling, posted daily now through Election Day.\n",
      "Short heading:: 4 Election Falsehoods Now Circulating on Social Media\n",
      "story: The misinformation touches on ballot boxes, the “deep state,” and a conspiracy involving the coronavirus and the vote.\n",
      "Short heading:: Facebook and Twitter Deem Report on Biden Dubious and Limit Access to It\n",
      "story: The authenticity of email correspondence cited in the article could not be independently verified.\n",
      "Short heading:: Trump May Be Immune to the Coronavirus. But for How Long?\n",
      "story: A unique treatment course may have blunted his body’s production of antibodies, scientists warn.\n",
      "Short heading:: ‘Diamond Sweet 16’ Party Leaves 37 Infected and 270 in Quarantine\n",
      "story: More than 80 people attended the Sept. 25 birthday party, officials said, well above the 50-person limit. The Long Island venue was fined $12,000.\n"
     ]
    }
   ],
   "source": [
    "_short_stories =  page_soup.find('section', attrs={'data-testid':'block-TopStories'}).findAll(\"article\")\n",
    "\n",
    "for _each_short_stories in _short_stories:\n",
    "    _short_heading = _each_short_stories.find('h2',attrs={'class':'css-1cmu9py e1voiwgp0'})\n",
    "    _msg = _each_short_stories.find('p')\n",
    "    if((_short_heading !=None and _msg !=None)):\n",
    "        print(\"Short heading::\",_short_heading.get_text())\n",
    "        print(\"story:\",_msg.get_text())"
   ]
  },
  {
   "cell_type": "code",
   "execution_count": 138,
   "metadata": {},
   "outputs": [
    {
     "name": "stdout",
     "output_type": "stream",
     "text": [
      "Charles M. Blow\n",
      "Thomas B. Edsall\n",
      "Gail Collins\n",
      "Frank Bruni\n",
      "Geraldo L. Cadava\n",
      "Kara Swisher\n",
      "Farhad Manjoo\n",
      "Jennifer Finney Boylan\n",
      "Tala Schlossberg and Andrew Blackwell\n",
      "Veronique de Rugy\n"
     ]
    }
   ],
   "source": [
    "_opinion =  page_soup.find('section', attrs={'data-testid':'block-Opinion'}).findAll(\"article\")\n",
    "_opinion\n",
    "\n",
    "for _text in _opinion:\n",
    "    nameClass = _text.find('div',attrs={'class':'css-tnu8m6 e18df3gd0'})\n",
    "    if nameClass !=None:\n",
    "        print(nameClass.get_text())"
   ]
  },
  {
   "cell_type": "code",
   "execution_count": 158,
   "metadata": {},
   "outputs": [
    {
     "data": {
      "text/plain": [
       "['France imposed a curfew on Paris and other major cities, and other countries are taking similar steps as record caseloads fill hospitals.',\n",
       " 'See all new cases around the world',\n",
       " 'See the U.S. hot spots',\n",
       " 'Surges in rural areas have been just as severe as the spikes in densely populated cities in the Sun Belt over the summer. Here’s the latest.',\n",
       " 'Judge Amy Coney Barrett is not the first Supreme Court nominee to profess her independence, but her task has been made far more complicated by the president.',\n",
       " 'Judge Amy Coney Barrett and Senator Kamala Harris negotiate America’s loaded expectations for women.',\n",
       " 'Democrats’ warnings that the nominee threatened the health care law elicited reassuring words from Senator Lindsey Graham and Judge Amy Coney Barrett.',\n",
       " 'Senator Kamala Harris is known for her withering prosecutorial style, but she cut a more restrained profile while questioning Judge Amy Coney Barrett.',\n",
       " 'It was another bad day for the president. Here’s our analysis of recent polling, posted daily now through Election Day.',\n",
       " 'Joe Biden holds a significant financial advantage over President Trump. An estimated 5.2 million cannot vote because of felony records. Here’s the latest.',\n",
       " 'The misinformation touches on ballot boxes, the “deep state,” and a conspiracy involving the coronavirus and the vote.',\n",
       " 'The authenticity of email correspondence cited in the article could not be independently verified.',\n",
       " 'He is the most prominent figure in college sports known to have been infected. The school’s athletic director also tested positive.',\n",
       " 'A unique treatment course may have blunted his body’s production of antibodies, scientists warn.',\n",
       " 'More than 80 people attended the Sept. 25 birthday party, officials said, well above the 50-person limit. The Long Island venue was fined $12,000.',\n",
       " 'Prosecutors said Amy Cooper called the police twice, saying she had also been assaulted by a man in Central Park who had asked her to leash her dog.',\n",
       " 'France imposed a curfew on Paris and other major cities, and other countries are taking similar steps as record caseloads fill hospitals.',\n",
       " 'See all new cases around the world',\n",
       " 'See the U.S. hot spots',\n",
       " 'Surges in rural areas have been just as severe as the spikes in densely populated cities in the Sun Belt over the summer. Here’s the latest.',\n",
       " 'Judge Amy Coney Barrett is not the first Supreme Court nominee to profess her independence, but her task has been made far more complicated by the president.',\n",
       " 'Judge Amy Coney Barrett and Senator Kamala Harris negotiate America’s loaded expectations for women.',\n",
       " 'Democrats’ warnings that the nominee threatened the health care law elicited reassuring words from Senator Lindsey Graham and Judge Amy Coney Barrett.',\n",
       " 'Senator Kamala Harris is known for her withering prosecutorial style, but she cut a more restrained profile while questioning Judge Amy Coney Barrett.',\n",
       " 'It was another bad day for the president. Here’s our analysis of recent polling, posted daily now through Election Day.',\n",
       " 'Joe Biden holds a significant financial advantage over President Trump. An estimated 5.2 million cannot vote because of felony records. Here’s the latest.',\n",
       " 'The misinformation touches on ballot boxes, the “deep state,” and a conspiracy involving the coronavirus and the vote.',\n",
       " 'The authenticity of email correspondence cited in the article could not be independently verified.',\n",
       " 'He is the most prominent figure in college sports known to have been infected. The school’s athletic director also tested positive.',\n",
       " 'A unique treatment course may have blunted his body’s production of antibodies, scientists warn.',\n",
       " 'More than 80 people attended the Sept. 25 birthday party, officials said, well above the 50-person limit. The Long Island venue was fined $12,000.',\n",
       " 'Prosecutors said Amy Cooper called the police twice, saying she had also been assaulted by a man in Central Park who had asked her to leash her dog.']"
      ]
     },
     "execution_count": 158,
     "metadata": {},
     "output_type": "execute_result"
    }
   ],
   "source": [
    "_todays_reports1 =  page_soup.find('section', attrs={'data-testid':'block-TopStories'}).findAll(\"p\")\n",
    "_todays_reports2 =  page_soup.find('section', attrs={'data-testid':'block-TopStories'}).findAll(\"article\")\n",
    "_new_list = []\n",
    "for n1 in _todays_reports1:\n",
    "     _new_list.append(n1.get_text().strip())\n",
    "for n2 in _todays_reports2:\n",
    "    news = n2.findAll('p')\n",
    "    for news1 in news:\n",
    "        _new_list.append(news1.get_text())\n",
    "_new_list"
   ]
  },
  {
   "cell_type": "code",
   "execution_count": 245,
   "metadata": {},
   "outputs": [
    {
     "name": "stdout",
     "output_type": "stream",
     "text": [
      "[('curfew', 'NN'), ('major', 'JJ'), ('taking', 'VBG'), ('similar', 'JJ'), ('record', 'NN'), ('fill', 'NN'), ('See', 'NNP'), ('new', 'JJ'), ('around', 'IN'), ('world', 'NN'), ('See', 'NNP'), ('hot', 'JJ'), ('rural', 'JJ'), ('severe', 'JJ'), ('densely', 'RB'), ('Sun', 'NNP'), ('Belt', 'NNP'), ('summer', 'NN'), ('latest', 'JJS'), ('Judge', 'NNP'), ('Amy', 'NNP'), ('first', 'RB'), ('Supreme', 'NNP'), ('Court', 'NNP'), ('nominee', 'VBD'), ('profess', 'JJ'), ('independence', 'NN'), ('task', 'NN'), ('made', 'VBD'), ('far', 'RB'), ('complicated', 'VBN'), ('president', 'NN'), ('Judge', 'NNP'), ('Amy', 'NNP'), ('Senator', 'NNP'), ('Kamala', 'NNP'), ('negotiate', 'NN'), ('loaded', 'VBD'), ('nominee', 'JJ'), ('health', 'NN'), ('care', 'NN'), ('law', 'NN'), ('reassuring', 'VBG'), ('Senator', 'NNP'), ('Graham', 'NNP'), ('Judge', 'NNP'), ('Amy', 'NNP'), ('Senator', 'NNP'), ('Kamala', 'NNP'), ('known', 'VBN'), ('withering', 'VBG'), ('style', 'NN'), ('cut', 'NN'), ('restrained', 'VBD'), ('profile', 'IN'), ('Judge', 'NNP'), ('Amy', 'NNP'), ('another', 'DT'), ('bad', 'JJ'), ('day', 'NN'), ('president', 'NN'), ('analysis', 'NN'), ('recent', 'JJ'), ('polling', 'NN'), ('posted', 'VBD'), ('daily', 'JJ'), ('Election', 'NNP'), ('Day', 'NNP'), ('Joe', 'NNP'), ('significant', 'JJ'), ('financial', 'JJ'), ('advantage', 'NN'), ('President', 'NNP'), ('Trump', 'NNP'), ('million', 'CD'), ('vote', 'NN'), ('felony', 'NN'), ('latest', 'JJS'), ('misinformation', 'NN'), ('ballot', 'NN'), ('deep', 'JJ'), ('state', 'NN'), ('conspiracy', 'NN'), ('vote', 'NN'), ('authenticity', 'NN'), ('correspondence', 'NN'), ('article', 'NN'), ('could', 'MD'), ('independently', 'RB'), ('prominent', 'JJ'), ('figure', 'NN'), ('college', 'NN'), ('sports', 'NNS'), ('known', 'VBN'), ('infected', 'JJ'), ('school', 'NN'), ('athletic', 'JJ'), ('director', 'NN'), ('also', 'RB'), ('tested', 'VBD'), ('positive', 'JJ'), ('unique', 'JJ'), ('treatment', 'NN'), ('course', 'NN'), ('may', 'MD'), ('body', 'VB'), ('production', 'NN'), ('warn', 'JJ'), ('people', 'NNS'), ('birthday', 'VBP'), ('party', 'NN'), ('said', 'VBD'), ('well', 'RB'), ('limit', 'RB'), ('Long', 'NNP'), ('Island', 'NNP'), ('venue', 'NN'), ('said', 'VBD'), ('Amy', 'NNP'), ('Cooper', 'NNP'), ('police', 'NN'), ('twice', 'RB'), ('saying', 'VBG'), ('also', 'RB'), ('man', 'NN'), ('Central', 'NNP'), ('Park', 'NNP'), ('leash', 'NN'), ('dog', 'NN'), ('curfew', 'NN'), ('major', 'JJ'), ('taking', 'VBG'), ('similar', 'JJ'), ('record', 'NN'), ('fill', 'NN'), ('See', 'NNP'), ('new', 'JJ'), ('around', 'IN'), ('world', 'NN'), ('See', 'NNP'), ('hot', 'JJ'), ('rural', 'JJ'), ('severe', 'JJ'), ('densely', 'RB'), ('Sun', 'NNP'), ('Belt', 'NNP'), ('summer', 'NN'), ('latest', 'JJS'), ('Judge', 'NNP'), ('Amy', 'NNP'), ('first', 'RB'), ('Supreme', 'NNP'), ('Court', 'NNP'), ('nominee', 'VBD'), ('profess', 'JJ'), ('independence', 'NN'), ('task', 'NN'), ('made', 'VBD'), ('far', 'RB'), ('complicated', 'VBN'), ('president', 'NN'), ('Judge', 'NNP'), ('Amy', 'NNP'), ('Senator', 'NNP'), ('Kamala', 'NNP'), ('negotiate', 'NN'), ('loaded', 'VBD'), ('nominee', 'JJ'), ('health', 'NN'), ('care', 'NN'), ('law', 'NN'), ('reassuring', 'VBG'), ('Senator', 'NNP'), ('Graham', 'NNP'), ('Judge', 'NNP'), ('Amy', 'NNP'), ('Senator', 'NNP'), ('Kamala', 'NNP'), ('known', 'VBN'), ('withering', 'VBG'), ('style', 'NN'), ('cut', 'NN'), ('restrained', 'VBD'), ('profile', 'IN'), ('Judge', 'NNP'), ('Amy', 'NNP'), ('another', 'DT'), ('bad', 'JJ'), ('day', 'NN'), ('president', 'NN'), ('analysis', 'NN'), ('recent', 'JJ'), ('polling', 'NN'), ('posted', 'VBD'), ('daily', 'JJ'), ('Election', 'NNP'), ('Day', 'NNP'), ('Joe', 'NNP'), ('significant', 'JJ'), ('financial', 'JJ'), ('advantage', 'NN'), ('President', 'NNP'), ('Trump', 'NNP'), ('million', 'CD'), ('vote', 'NN'), ('felony', 'NN'), ('latest', 'JJS'), ('misinformation', 'NN'), ('ballot', 'NN'), ('deep', 'JJ'), ('state', 'NN'), ('conspiracy', 'NN'), ('vote', 'NN'), ('authenticity', 'NN'), ('correspondence', 'NN'), ('article', 'NN'), ('could', 'MD'), ('independently', 'RB'), ('prominent', 'JJ'), ('figure', 'NN'), ('college', 'NN'), ('sports', 'NNS'), ('known', 'VBN'), ('infected', 'JJ'), ('school', 'NN'), ('athletic', 'JJ'), ('director', 'NN'), ('also', 'RB'), ('tested', 'VBD'), ('positive', 'JJ'), ('unique', 'JJ'), ('treatment', 'NN'), ('course', 'NN'), ('may', 'MD'), ('body', 'VB'), ('production', 'NN'), ('warn', 'JJ'), ('people', 'NNS'), ('birthday', 'VBP'), ('party', 'NN'), ('said', 'VBD'), ('well', 'RB'), ('limit', 'RB'), ('Long', 'NNP'), ('Island', 'NNP'), ('venue', 'NN'), ('said', 'VBD'), ('Amy', 'NNP'), ('Cooper', 'NNP'), ('police', 'NN'), ('twice', 'RB'), ('saying', 'VBG'), ('also', 'RB'), ('man', 'NN'), ('Central', 'NNP'), ('Park', 'NNP'), ('leash', 'NN'), ('dog', 'NN')]\n",
      "[('NN', 84), ('NNP', 62), ('JJ', 40), ('RB', 18), ('VBD', 16), ('VBG', 8), ('VBN', 6), ('IN', 4), ('JJS', 4), ('MD', 4), ('NNS', 4), ('DT', 2), ('CD', 2), ('VB', 2), ('VBP', 2)]\n",
      "Judge Amy; Senator Kamala; Belt summer; Central Park; Cooper police;\n",
      "Day Joe; Election Day; Island venue; Joe significant; Long Island;\n",
      "Park leash; President Trump; Sun Belt; Supreme Court; Trump million;\n",
      "advantage President; analysis recent; another bad; around world;\n",
      "article could; athletic director; authenticity correspondence; bad\n",
      "day; ballot deep; birthday party; body production; care law; college\n",
      "sports; correspondence article; could independently\n"
     ]
    }
   ],
   "source": [
    "import nltk\n",
    "import re\n",
    "from nltk.tokenize import word_tokenize\n",
    "from nltk.corpus import stopwords\n",
    "from collections import Counter\n",
    "from nltk.book import *\n",
    "\n",
    "_main_list = []\n",
    "for sentence in _new_list:\n",
    "    _token_list = word_tokenize(sentence)\n",
    "    for _x1 in _token_list:\n",
    "        _main_list.append(_x1)\n",
    "\n",
    "# Removing more punctuations to avoid it during bigram tagging\n",
    "_tokenized_word_punc = []\n",
    "for _each_word in _main_list:\n",
    "    if(re.sub('[\\W\\_]','',_each_word)):\n",
    "        _tokenized_word_punc.append(_each_word)\n",
    "\n",
    "\n",
    "##Stop-words:\n",
    "stopwords = nltk.corpus.stopwords.words('english')\n",
    "wordlist = nltk.corpus.words.words()\n",
    "content = [_nonstop_word for _nonstop_word in _tokenized_word_punc if _nonstop_word.lower() in wordlist if _nonstop_word.lower() not in stopwords]\n",
    "\n",
    "\n",
    "## Most Common Words::\n",
    "_dict = {}\n",
    "count = 0\n",
    "_counter1 = Counter()\n",
    "for content_word in content:\n",
    "    _counter1[content_word]+=1\n",
    "#print(_counter1)\n",
    "_most_common_word= _counter1.most_common(10)\n",
    "#print(_most_common_word)\n",
    "\n",
    "## PO-tagging and Freq Dist:\n",
    "_pos_tagged_words = nltk.pos_tag(content)\n",
    "print(_pos_tagged_words)\n",
    "fdist = nltk.FreqDist(tag for (word, tag) in _pos_tagged_words)\n",
    "print(fdist.most_common())\n",
    "\n",
    "## Collacations:\n",
    "_collac_text = nltk.Text(content)\n",
    "_collac_text.collocations(num=30,window_size=2)"
   ]
  },
  {
   "cell_type": "code",
   "execution_count": 180,
   "metadata": {},
   "outputs": [
    {
     "name": "stdout",
     "output_type": "stream",
     "text": [
      "https://www.nytimes.com/section/world\n",
      "https://www.nytimes.com/section/us\n",
      "https://www.nytimes.com/section/politics\n",
      "https://www.nytimes.com/section/nyregion\n",
      "https://www.nytimes.com/section/business\n",
      "https://www.nytimes.com/section/opinion\n",
      "https://www.nytimes.com/section/technology\n",
      "https://www.nytimes.com/section/science\n",
      "https://www.nytimes.com/section/health\n",
      "https://www.nytimes.com/section/sports\n",
      "https://www.nytimes.com/section/arts\n",
      "https://www.nytimes.com/section/books\n",
      "https://www.nytimes.com/section/style\n",
      "https://www.nytimes.com/section/food\n",
      "https://www.nytimes.com/section/travel\n",
      "https://www.nytimes.com/section/magazine\n",
      "https://www.nytimes.com/section/t-magazine\n",
      "https://www.nytimes.com/section/realestate\n",
      "https://www.nytimes.com/video\n"
     ]
    }
   ],
   "source": [
    "_links =  page_soup.find('ul', attrs={'data-testid':'mini-nav'}).findAll(\"li\",{\"data-testid\":\"mini-nav-item\"})\n",
    "_total_links = []\n",
    "for link in _links:\n",
    "    for a in link:\n",
    "        _total_links.append(a['href'])\n",
    "        print(a['href'])"
   ]
  },
  {
   "cell_type": "code",
   "execution_count": 182,
   "metadata": {},
   "outputs": [
    {
     "data": {
      "text/plain": [
       "'https://www.nytimes.com/section/world'"
      ]
     },
     "execution_count": 182,
     "metadata": {},
     "output_type": "execute_result"
    }
   ],
   "source": [
    "_total_links[0]"
   ]
  },
  {
   "cell_type": "code",
   "execution_count": 185,
   "metadata": {},
   "outputs": [
    {
     "name": "stdout",
     "output_type": "stream",
     "text": [
      "<title data-rh=\"true\">World News - The New York Times</title>\n"
     ]
    }
   ],
   "source": [
    "html = uReq(_total_links[0])\n",
    "page_soup1 = soup(html.read(), 'html.parser');\n",
    "print(page_soup1.title)"
   ]
  },
  {
   "cell_type": "code",
   "execution_count": 237,
   "metadata": {
    "scrolled": true
   },
   "outputs": [
    {
     "name": "stdout",
     "output_type": "stream",
     "text": [
      "Top Highlights 1 :: ‘This Is a War’: Cross-Border Fight Over Water Erupts in Mexico\n",
      "Top Highlights 2 :: As Motorcade Rolls By, Thai Royal Family Glimpses the People’s Discontent\n",
      "Top Highlights 3 :: In City Where China Welcomed the World, Xi Prepares for a Colder One\n",
      "Top Highlights 4 :: Europe, Which Thought It Had the Virus Tamed, Faces a Resurgence\n",
      "Top Highlights 5 :: Court Sentences Leaders of Greece’s Golden Dawn to Prison\n",
      "Top Highlights 6 :: Israel and Lebanon Begin Talks on Sea Border, With U.S. as Mediator\n",
      "Top Highlights 7 :: E.U. Preparing Sanctions on Putin Allies Over Navalny’s Poisoning\n",
      "Top Highlights 8 :: Indonesian Defense Chief, Accused of Rights Abuses, Will Visit Pentagon\n",
      "Top Highlights 9 :: He Built a Trump Statue and Worshiped It. Then He Collapsed.\n",
      "Top Highlights 10 :: Central Europe, Spared in the Spring, Suffers as Virus Surges\n",
      "Top Highlights 11 :: Trump Thought He Had a Nuclear Deal With Putin. Not So Fast, Russia Said.\n",
      "Top Highlights 12 :: For Indian Women Working as Cooks and Nannies, No #MeToo Moment\n",
      "Top Highlights 13 :: BTS’s Loyal Army of Fans Is the Secret Weapon Behind a $4 Billion I.P.O.\n",
      "Top Highlights 14 :: Vatican Puts Priests on Trial Over Alleged Abuse Within Its Walls\n",
      "Top Highlights 15 :: Did Lockdowns Lower Premature Births? A New Study Adds Evidence\n",
      "Top Highlights 16 :: Heidi Larson sabe cómo convencerte para que te pongas tus vacunas\n",
      "Top Highlights 17 :: Reporting Live From Quarantine U.\n",
      "Top Highlights 18 :: Your Local Bookstore Wants You to Know That It’s Struggling\n",
      "Top Highlights 19 :: 8 Million Have Slipped Into Poverty Since May as Federal Aid Has Dried Up\n",
      "Top Highlights 20 :: ‘Es una guerra’: la lucha por el agua estalla en la frontera de México\n",
      "Top Highlights 21 :: Los suicidios de algunas celebridades en Japón revelan una tendencia nacional\n",
      "Top Highlights 22 :: Una dosis de optimismo frente al avance de la pandemia\n",
      "Top Highlights 23 :: ‘Tenemos que separar a los niños’: cómo unos funcionarios impulsaron la política de separación de familias en EE. UU.\n",
      "Top Highlights 24 :: ‘Me vuelvo casi catatónico’: la ‘niebla mental’ afecta a los sobrevivientes de la COVID-19\n",
      "Top Highlights 25 :: ‘Call Me a Dreamer’: A Shattered Beirut Neighborhood Rebuilds\n",
      "Top Highlights 26 :: ‘Keep Calm and Carry On’ May Not Work in a Time of Pandemic\n",
      "Top Highlights 27 :: 30 Years After Reunification, Old German-German Border Is a Green Oasis\n",
      "Top Highlights 28 :: There’s Gold in Them Thar Braes\n",
      "Top Highlights 29 :: Canada’s Napa Valley Seeks Elusive Audience: Canadian Wine Drinkers\n"
     ]
    }
   ],
   "source": [
    "_highlights =  page_soup1.find('section', attrs={'id':'collection-world'}).findAll(\"article\")\n",
    "_highlights\n",
    "count = 0\n",
    "_news_list2 = []\n",
    "for _news2 in _highlights:\n",
    "    _newss2 = (_news2.find('h2').findAll('a'))\n",
    "    count+=1\n",
    "    for _headings2 in _newss2:\n",
    "        _news_list2.append(_headings2.get_text())\n",
    "        print(\"Top Highlights\",count,\"::\",_headings2.get_text())"
   ]
  },
  {
   "cell_type": "code",
   "execution_count": 503,
   "metadata": {},
   "outputs": [
    {
     "name": "stdout",
     "output_type": "stream",
     "text": [
      "Highlights: 1 :: ‘This Is a War’: Cross-Border Fight Over Water Erupts in Mexico\n",
      "Story: Farmers in Mexico ambushed soldiers and seized a dam to stop water payments to the United States, in a sign of growing conflict over increasingly scarce resources.\n",
      "Highlights: 2 :: As Motorcade Rolls By, Thai Royal Family Glimpses the People’s Discontent\n",
      "Story: As antigovernment protesters took to the streets, officials imposed an emergency decree in Bangkok, and gatherings of five or more people were banned.\n",
      "Highlights: 3 :: In City Where China Welcomed the World, Xi Prepares for a Colder One\n",
      "Story: China’s leader, Xi Jinping, speaking in the early trading center of Shenzhen, emphasized domestic innovation amid tensions with the United States.\n",
      "Highlights: 4 :: Europe, Which Thought It Had the Virus Tamed, Faces a Resurgence\n",
      "Story: France imposed a curfew on Paris and other major cities, and other countries are taking similar steps as record caseloads fill hospitals and governments try to respond without lockdowns.\n"
     ]
    }
   ],
   "source": [
    "_highlights =  page_soup1.find('section', attrs={'id':'collection-world'}).findAll(\"article\")\n",
    "_highlights\n",
    "count = 0\n",
    "\n",
    "for _news2 in _highlights:\n",
    "    x1 =_news2.find('p', attrs={'class':'css-tskdi9'})\n",
    "    x2 = _news2.find('h2').findAll('a')\n",
    "    for heading in x2:\n",
    "        if x1 != None and heading != None :\n",
    "            count+=1\n",
    "            _news_list2.append(x1.get_text())\n",
    "            print(\"Highlights:\",count,\"::\",heading.get_text())\n",
    "            print(\"Story:\",x1.get_text())\n",
    "            writer.writerow((heading.get_text(),x1.get_text(),'World News'))"
   ]
  },
  {
   "cell_type": "code",
   "execution_count": 504,
   "metadata": {},
   "outputs": [
    {
     "name": "stdout",
     "output_type": "stream",
     "text": [
      "Latest News:: This Urban Safari Comes With a Warning: Watch Out for Snakes\n",
      "story link:: On nighttime hikes in Hong Kong’s surprisingly lush forests, a snake catcher teaches city slickers about the reptiles — and their bites.\n",
      "Latest News:: Your Thursday Briefing\n",
      "story link:: Coronavirus, Supreme Court, Pret A Manger: Here’s what you need to know.\n",
      "Latest News:: The Jailed Activist Left a Letter Behind. The Message: Keep Fighting.\n",
      "story link:: Pham Doan Trang was harassed for years by the Vietnamese police, even beaten. In a letter, she foretold her arrest and called for an end to one-party rule.\n",
      "Latest News:: World War II-Era ‘Earthquake Bomb’ Explodes in Polish Waters\n",
      "story link:: Polish Navy divers tried to remotely neutralize a six-ton “Tallboy” dropped by the British, but the bomb had no intention of going quietly.\n",
      "Latest News:: Coronavirus Briefing: What Happened Today\n",
      "story link:: Startling fall surges in the United States and Europe could set the stage for wintertime peaks.\n",
      "Latest News:: Pro-Democracy Protesters March in Thailand\n",
      "story link:: Thousands of antigovernment demonstrators pushed past blockades as they marched to Government House in Bangkok in opposition to the Thai monarchy.\n",
      "Latest News:: Your Thursday Briefing\n",
      "story link:: Xi Jinping, BTS, Thailand protests: Here’s what you need to know.\n",
      "Latest News:: L.S.U.-Florida is the latest college football game to be postponed because of an outbreak.\n",
      "story link:: By Alan Blinder\n",
      "Latest News:: Northern Ireland Announces Four-Week Lockdown\n",
      "story link:: Northern Ireland’s first minister said a four-week lockdown would start Friday. With a population of about 1.8 million, the country reported an average of 900 new daily coronavirus cases this week.\n",
      "Latest News:: Long Unseen Trove of Ancient Treasures Goes on Show in Rome\n",
      "story link:: After decades of false starts and setbacks, the public can finally take a look at the Torlonia Collection.\n"
     ]
    }
   ],
   "source": [
    "_latest =  page_soup1.find('section', attrs={'id':'stream-panel'}).findAll(\"li\")\n",
    "_latest\n",
    "\n",
    "\n",
    "for news in _latest:\n",
    "    print(\"Latest News::\",news.find(\"a\").find(\"h2\").get_text())\n",
    "    _news_story = news.find(\"a\").find(\"p\").get_text()\n",
    "    print(\"story link::\",_news_story)\n",
    "    _news_list2.append(_news_story)\n",
    "    \n",
    "    "
   ]
  },
  {
   "cell_type": "code",
   "execution_count": 505,
   "metadata": {},
   "outputs": [
    {
     "data": {
      "text/plain": [
       "['‘This Is a War’: Cross-Border Fight Over Water Erupts in Mexico',\n",
       " 'As Motorcade Rolls By, Thai Royal Family Glimpses the People’s Discontent',\n",
       " 'In City Where China Welcomed the World, Xi Prepares for a Colder One',\n",
       " 'Europe, Which Thought It Had the Virus Tamed, Faces a Resurgence',\n",
       " 'Court Sentences Leaders of Greece’s Golden Dawn to Prison',\n",
       " 'Israel and Lebanon Begin Talks on Sea Border, With U.S. as Mediator',\n",
       " 'E.U. Preparing Sanctions on Putin Allies Over Navalny’s Poisoning',\n",
       " 'Indonesian Defense Chief, Accused of Rights Abuses, Will Visit Pentagon',\n",
       " 'He Built a Trump Statue and Worshiped It. Then He Collapsed.',\n",
       " 'Central Europe, Spared in the Spring, Suffers as Virus Surges',\n",
       " 'Trump Thought He Had a Nuclear Deal With Putin. Not So Fast, Russia Said.',\n",
       " 'For Indian Women Working as Cooks and Nannies, No #MeToo Moment',\n",
       " 'BTS’s Loyal Army of Fans Is the Secret Weapon Behind a $4 Billion I.P.O.',\n",
       " 'Vatican Puts Priests on Trial Over Alleged Abuse Within Its Walls',\n",
       " 'Did Lockdowns Lower Premature Births? A New Study Adds Evidence',\n",
       " 'Heidi Larson sabe cómo convencerte para que te pongas tus vacunas',\n",
       " 'Reporting Live From Quarantine U.',\n",
       " 'Your Local Bookstore Wants You to Know That It’s Struggling',\n",
       " '8 Million Have Slipped Into Poverty Since May as Federal Aid Has Dried Up',\n",
       " '‘Es una guerra’: la lucha por el agua estalla en la frontera de México',\n",
       " 'Los suicidios de algunas celebridades en Japón revelan una tendencia nacional',\n",
       " 'Una dosis de optimismo frente al avance de la pandemia',\n",
       " '‘Tenemos que separar a los niños’: cómo unos funcionarios impulsaron la política de separación de familias en EE. UU.',\n",
       " '‘Me vuelvo casi catatónico’: la ‘niebla mental’ afecta a los sobrevivientes de la COVID-19',\n",
       " '‘Call Me a Dreamer’: A Shattered Beirut Neighborhood Rebuilds',\n",
       " '‘Keep Calm and Carry On’ May Not Work in a Time of Pandemic',\n",
       " '30 Years After Reunification, Old German-German Border Is a Green Oasis',\n",
       " 'There’s Gold in Them Thar Braes',\n",
       " 'Canada’s Napa Valley Seeks Elusive Audience: Canadian Wine Drinkers',\n",
       " 'Farmers in Mexico ambushed soldiers and seized a dam to stop water payments to the United States, in a sign of growing conflict over increasingly scarce resources.',\n",
       " 'As antigovernment protesters took to the streets, officials imposed an emergency decree in Bangkok, and gatherings of five or more people were banned.',\n",
       " 'China’s leader, Xi Jinping, speaking in the early trading center of Shenzhen, emphasized domestic innovation amid tensions with the United States.',\n",
       " 'France imposed a curfew on Paris and other major cities, and other countries are taking similar steps as record caseloads fill hospitals and governments try to respond without lockdowns.',\n",
       " 'On nighttime hikes in Hong Kong’s surprisingly lush forests, a snake catcher teaches city slickers about the reptiles — and their bites.',\n",
       " 'Coronavirus, Supreme Court, Pret A Manger: Here’s what you need to know.',\n",
       " 'Pham Doan Trang was harassed for years by the Vietnamese police, even beaten. In a letter, she foretold her arrest and called for an end to one-party rule.',\n",
       " 'Polish Navy divers tried to remotely neutralize a six-ton “Tallboy” dropped by the British, but the bomb had no intention of going quietly.',\n",
       " 'Startling fall surges in the United States and Europe could set the stage for wintertime peaks.',\n",
       " 'Thousands of antigovernment demonstrators pushed past blockades as they marched to Government House in Bangkok in opposition to the Thai monarchy.',\n",
       " 'Xi Jinping, BTS, Thailand protests: Here’s what you need to know.',\n",
       " 'By Alan Blinder',\n",
       " 'Northern Ireland’s first minister said a four-week lockdown would start Friday. With a population of about 1.8 million, the country reported an average of 900 new daily coronavirus cases this week.',\n",
       " 'After decades of false starts and setbacks, the public can finally take a look at the Torlonia Collection.',\n",
       " 'Farmers in Mexico ambushed soldiers and seized a dam to stop water payments to the United States, in a sign of growing conflict over increasingly scarce resources.',\n",
       " 'As antigovernment protesters took to the streets, officials imposed an emergency decree in Bangkok, and gatherings of five or more people were banned.',\n",
       " 'China’s leader, Xi Jinping, speaking in the early trading center of Shenzhen, emphasized domestic innovation amid tensions with the United States.',\n",
       " 'France imposed a curfew on Paris and other major cities, and other countries are taking similar steps as record caseloads fill hospitals and governments try to respond without lockdowns.',\n",
       " 'On nighttime hikes in Hong Kong’s surprisingly lush forests, a snake catcher teaches city slickers about the reptiles — and their bites.',\n",
       " 'Coronavirus, Supreme Court, Pret A Manger: Here’s what you need to know.',\n",
       " 'Pham Doan Trang was harassed for years by the Vietnamese police, even beaten. In a letter, she foretold her arrest and called for an end to one-party rule.',\n",
       " 'Polish Navy divers tried to remotely neutralize a six-ton “Tallboy” dropped by the British, but the bomb had no intention of going quietly.',\n",
       " 'Startling fall surges in the United States and Europe could set the stage for wintertime peaks.',\n",
       " 'Thousands of antigovernment demonstrators pushed past blockades as they marched to Government House in Bangkok in opposition to the Thai monarchy.',\n",
       " 'Xi Jinping, BTS, Thailand protests: Here’s what you need to know.',\n",
       " 'By Alan Blinder',\n",
       " 'Northern Ireland’s first minister said a four-week lockdown would start Friday. With a population of about 1.8 million, the country reported an average of 900 new daily coronavirus cases this week.',\n",
       " 'After decades of false starts and setbacks, the public can finally take a look at the Torlonia Collection.']"
      ]
     },
     "execution_count": 505,
     "metadata": {},
     "output_type": "execute_result"
    }
   ],
   "source": [
    " _news_list2"
   ]
  },
  {
   "cell_type": "code",
   "execution_count": 248,
   "metadata": {},
   "outputs": [
    {
     "name": "stdout",
     "output_type": "stream",
     "text": [
      "['War', 'Fight', 'Water', 'Motorcade', 'Royal', 'Family', 'People', 'Discontent', 'City', 'China', 'World', 'Xi', 'Colder', 'One', 'Thought', 'Virus', 'Resurgence', 'Court', 'Golden', 'Dawn', 'Prison', 'Begin', 'Sea', 'Border', 'Mediator', 'Allies', 'Poisoning', 'Defense', 'Chief', 'Accused', 'Visit', 'Pentagon', 'Built', 'Trump', 'Statue', 'Central', 'Spring', 'Virus', 'Trump', 'Thought', 'Nuclear', 'Deal', 'Fast', 'Russia', 'Said', 'Working', 'Moment', 'Loyal', 'Army', 'Secret', 'Weapon', 'Behind', 'Billion', 'Trial', 'Abuse', 'Within', 'Lower', 'Premature', 'New', 'Study', 'Evidence', 'sabe', 'para', 'te', 'Live', 'Quarantine', 'U', 'Local', 'Bookstore', 'Know', 'Struggling', 'Million', 'Slipped', 'Poverty', 'Since', 'May', 'Federal', 'Aid', 'Dried', 'Es', 'la', 'el', 'agua', 'en', 'la', 'de', 'de', 'en', 'dosis', 'de', 'al', 'de', 'la', 'pandemia', 'la', 'de', 'de', 'en', 'la', 'mental', 'de', 'la', 'Call', 'Dreamer', 'Neighborhood', 'Keep', 'Calm', 'Carry', 'May', 'Work', 'Time', 'Pandemic', 'Reunification', 'Old', 'Border', 'Green', 'Oasis', 'Gold', 'Thar', 'Canada', 'Napa', 'Valley', 'Elusive', 'Audience', 'Wine', 'dam', 'stop', 'water', 'United', 'sign', 'growing', 'conflict', 'increasingly', 'scarce', 'antigovernment', 'took', 'streets', 'emergency', 'decree', 'Bangkok', 'five', 'people', 'China', 'leader', 'Xi', 'speaking', 'early', 'trading', 'center', 'domestic', 'innovation', 'amid', 'United', 'curfew', 'major', 'taking', 'similar', 'record', 'fill', 'try', 'respond', 'without', 'nighttime', 'Hong', 'surprisingly', 'lush', 'snake', 'catcher', 'city', 'Supreme', 'Court', 'Manger', 'need', 'know', 'police', 'even', 'beaten', 'letter', 'foretold', 'arrest', 'end', 'rule', 'Polish', 'Navy', 'divers', 'tried', 'remotely', 'neutralize', 'Tallboy', 'bomb', 'intention', 'going', 'quietly', 'Startling', 'fall', 'United', 'could', 'set', 'stage', 'wintertime', 'antigovernment', 'past', 'Government', 'House', 'Bangkok', 'opposition', 'monarchy', 'Xi', 'need', 'know', 'Alan', 'Blinder', 'Northern', 'first', 'minister', 'said', 'would', 'start', 'population', 'million', 'country', 'average', 'new', 'daily', 'week', 'false', 'public', 'finally', 'take', 'look', 'Collection']\n",
      "Counter({'de': 7, 'la': 6, 'Xi': 3, 'en': 3, 'United': 3, 'China': 2, 'Thought': 2, 'Virus': 2, 'Court': 2, 'Border': 2, 'Trump': 2, 'May': 2, 'antigovernment': 2, 'Bangkok': 2, 'need': 2, 'know': 2, 'War': 1, 'Fight': 1, 'Water': 1, 'Motorcade': 1, 'Royal': 1, 'Family': 1, 'People': 1, 'Discontent': 1, 'City': 1, 'World': 1, 'Colder': 1, 'One': 1, 'Resurgence': 1, 'Golden': 1, 'Dawn': 1, 'Prison': 1, 'Begin': 1, 'Sea': 1, 'Mediator': 1, 'Allies': 1, 'Poisoning': 1, 'Defense': 1, 'Chief': 1, 'Accused': 1, 'Visit': 1, 'Pentagon': 1, 'Built': 1, 'Statue': 1, 'Central': 1, 'Spring': 1, 'Nuclear': 1, 'Deal': 1, 'Fast': 1, 'Russia': 1, 'Said': 1, 'Working': 1, 'Moment': 1, 'Loyal': 1, 'Army': 1, 'Secret': 1, 'Weapon': 1, 'Behind': 1, 'Billion': 1, 'Trial': 1, 'Abuse': 1, 'Within': 1, 'Lower': 1, 'Premature': 1, 'New': 1, 'Study': 1, 'Evidence': 1, 'sabe': 1, 'para': 1, 'te': 1, 'Live': 1, 'Quarantine': 1, 'U': 1, 'Local': 1, 'Bookstore': 1, 'Know': 1, 'Struggling': 1, 'Million': 1, 'Slipped': 1, 'Poverty': 1, 'Since': 1, 'Federal': 1, 'Aid': 1, 'Dried': 1, 'Es': 1, 'el': 1, 'agua': 1, 'dosis': 1, 'al': 1, 'pandemia': 1, 'mental': 1, 'Call': 1, 'Dreamer': 1, 'Neighborhood': 1, 'Keep': 1, 'Calm': 1, 'Carry': 1, 'Work': 1, 'Time': 1, 'Pandemic': 1, 'Reunification': 1, 'Old': 1, 'Green': 1, 'Oasis': 1, 'Gold': 1, 'Thar': 1, 'Canada': 1, 'Napa': 1, 'Valley': 1, 'Elusive': 1, 'Audience': 1, 'Wine': 1, 'dam': 1, 'stop': 1, 'water': 1, 'sign': 1, 'growing': 1, 'conflict': 1, 'increasingly': 1, 'scarce': 1, 'took': 1, 'streets': 1, 'emergency': 1, 'decree': 1, 'five': 1, 'people': 1, 'leader': 1, 'speaking': 1, 'early': 1, 'trading': 1, 'center': 1, 'domestic': 1, 'innovation': 1, 'amid': 1, 'curfew': 1, 'major': 1, 'taking': 1, 'similar': 1, 'record': 1, 'fill': 1, 'try': 1, 'respond': 1, 'without': 1, 'nighttime': 1, 'Hong': 1, 'surprisingly': 1, 'lush': 1, 'snake': 1, 'catcher': 1, 'city': 1, 'Supreme': 1, 'Manger': 1, 'police': 1, 'even': 1, 'beaten': 1, 'letter': 1, 'foretold': 1, 'arrest': 1, 'end': 1, 'rule': 1, 'Polish': 1, 'Navy': 1, 'divers': 1, 'tried': 1, 'remotely': 1, 'neutralize': 1, 'Tallboy': 1, 'bomb': 1, 'intention': 1, 'going': 1, 'quietly': 1, 'Startling': 1, 'fall': 1, 'could': 1, 'set': 1, 'stage': 1, 'wintertime': 1, 'past': 1, 'Government': 1, 'House': 1, 'opposition': 1, 'monarchy': 1, 'Alan': 1, 'Blinder': 1, 'Northern': 1, 'first': 1, 'minister': 1, 'said': 1, 'would': 1, 'start': 1, 'population': 1, 'million': 1, 'country': 1, 'average': 1, 'new': 1, 'daily': 1, 'week': 1, 'false': 1, 'public': 1, 'finally': 1, 'take': 1, 'look': 1, 'Collection': 1})\n",
      "[('de', 7), ('la', 6), ('Xi', 3), ('en', 3), ('United', 3), ('China', 2), ('Thought', 2), ('Virus', 2), ('Court', 2), ('Border', 2)]\n",
      "[('curfew', 'NN'), ('major', 'JJ'), ('taking', 'VBG'), ('similar', 'JJ'), ('record', 'NN'), ('fill', 'NN'), ('See', 'NNP'), ('new', 'JJ'), ('around', 'IN'), ('world', 'NN'), ('See', 'NNP'), ('hot', 'JJ'), ('rural', 'JJ'), ('severe', 'JJ'), ('densely', 'RB'), ('Sun', 'NNP'), ('Belt', 'NNP'), ('summer', 'NN'), ('latest', 'JJS'), ('Judge', 'NNP'), ('Amy', 'NNP'), ('first', 'RB'), ('Supreme', 'NNP'), ('Court', 'NNP'), ('nominee', 'VBD'), ('profess', 'JJ'), ('independence', 'NN'), ('task', 'NN'), ('made', 'VBD'), ('far', 'RB'), ('complicated', 'VBN'), ('president', 'NN'), ('Judge', 'NNP'), ('Amy', 'NNP'), ('Senator', 'NNP'), ('Kamala', 'NNP'), ('negotiate', 'NN'), ('loaded', 'VBD'), ('nominee', 'JJ'), ('health', 'NN'), ('care', 'NN'), ('law', 'NN'), ('reassuring', 'VBG'), ('Senator', 'NNP'), ('Graham', 'NNP'), ('Judge', 'NNP'), ('Amy', 'NNP'), ('Senator', 'NNP'), ('Kamala', 'NNP'), ('known', 'VBN'), ('withering', 'VBG'), ('style', 'NN'), ('cut', 'NN'), ('restrained', 'VBD'), ('profile', 'IN'), ('Judge', 'NNP'), ('Amy', 'NNP'), ('another', 'DT'), ('bad', 'JJ'), ('day', 'NN'), ('president', 'NN'), ('analysis', 'NN'), ('recent', 'JJ'), ('polling', 'NN'), ('posted', 'VBD'), ('daily', 'JJ'), ('Election', 'NNP'), ('Day', 'NNP'), ('Joe', 'NNP'), ('significant', 'JJ'), ('financial', 'JJ'), ('advantage', 'NN'), ('President', 'NNP'), ('Trump', 'NNP'), ('million', 'CD'), ('vote', 'NN'), ('felony', 'NN'), ('latest', 'JJS'), ('misinformation', 'NN'), ('ballot', 'NN'), ('deep', 'JJ'), ('state', 'NN'), ('conspiracy', 'NN'), ('vote', 'NN'), ('authenticity', 'NN'), ('correspondence', 'NN'), ('article', 'NN'), ('could', 'MD'), ('independently', 'RB'), ('prominent', 'JJ'), ('figure', 'NN'), ('college', 'NN'), ('sports', 'NNS'), ('known', 'VBN'), ('infected', 'JJ'), ('school', 'NN'), ('athletic', 'JJ'), ('director', 'NN'), ('also', 'RB'), ('tested', 'VBD'), ('positive', 'JJ'), ('unique', 'JJ'), ('treatment', 'NN'), ('course', 'NN'), ('may', 'MD'), ('body', 'VB'), ('production', 'NN'), ('warn', 'JJ'), ('people', 'NNS'), ('birthday', 'VBP'), ('party', 'NN'), ('said', 'VBD'), ('well', 'RB'), ('limit', 'RB'), ('Long', 'NNP'), ('Island', 'NNP'), ('venue', 'NN'), ('said', 'VBD'), ('Amy', 'NNP'), ('Cooper', 'NNP'), ('police', 'NN'), ('twice', 'RB'), ('saying', 'VBG'), ('also', 'RB'), ('man', 'NN'), ('Central', 'NNP'), ('Park', 'NNP'), ('leash', 'NN'), ('dog', 'NN'), ('curfew', 'NN'), ('major', 'JJ'), ('taking', 'VBG'), ('similar', 'JJ'), ('record', 'NN'), ('fill', 'NN'), ('See', 'NNP'), ('new', 'JJ'), ('around', 'IN'), ('world', 'NN'), ('See', 'NNP'), ('hot', 'JJ'), ('rural', 'JJ'), ('severe', 'JJ'), ('densely', 'RB'), ('Sun', 'NNP'), ('Belt', 'NNP'), ('summer', 'NN'), ('latest', 'JJS'), ('Judge', 'NNP'), ('Amy', 'NNP'), ('first', 'RB'), ('Supreme', 'NNP'), ('Court', 'NNP'), ('nominee', 'VBD'), ('profess', 'JJ'), ('independence', 'NN'), ('task', 'NN'), ('made', 'VBD'), ('far', 'RB'), ('complicated', 'VBN'), ('president', 'NN'), ('Judge', 'NNP'), ('Amy', 'NNP'), ('Senator', 'NNP'), ('Kamala', 'NNP'), ('negotiate', 'NN'), ('loaded', 'VBD'), ('nominee', 'JJ'), ('health', 'NN'), ('care', 'NN'), ('law', 'NN'), ('reassuring', 'VBG'), ('Senator', 'NNP'), ('Graham', 'NNP'), ('Judge', 'NNP'), ('Amy', 'NNP'), ('Senator', 'NNP'), ('Kamala', 'NNP'), ('known', 'VBN'), ('withering', 'VBG'), ('style', 'NN'), ('cut', 'NN'), ('restrained', 'VBD'), ('profile', 'IN'), ('Judge', 'NNP'), ('Amy', 'NNP'), ('another', 'DT'), ('bad', 'JJ'), ('day', 'NN'), ('president', 'NN'), ('analysis', 'NN'), ('recent', 'JJ'), ('polling', 'NN'), ('posted', 'VBD'), ('daily', 'JJ'), ('Election', 'NNP'), ('Day', 'NNP'), ('Joe', 'NNP'), ('significant', 'JJ'), ('financial', 'JJ'), ('advantage', 'NN'), ('President', 'NNP'), ('Trump', 'NNP'), ('million', 'CD'), ('vote', 'NN'), ('felony', 'NN'), ('latest', 'JJS'), ('misinformation', 'NN'), ('ballot', 'NN'), ('deep', 'JJ'), ('state', 'NN'), ('conspiracy', 'NN'), ('vote', 'NN'), ('authenticity', 'NN'), ('correspondence', 'NN'), ('article', 'NN'), ('could', 'MD'), ('independently', 'RB'), ('prominent', 'JJ'), ('figure', 'NN'), ('college', 'NN'), ('sports', 'NNS'), ('known', 'VBN'), ('infected', 'JJ'), ('school', 'NN'), ('athletic', 'JJ'), ('director', 'NN'), ('also', 'RB'), ('tested', 'VBD'), ('positive', 'JJ'), ('unique', 'JJ'), ('treatment', 'NN'), ('course', 'NN'), ('may', 'MD'), ('body', 'VB'), ('production', 'NN'), ('warn', 'JJ'), ('people', 'NNS'), ('birthday', 'VBP'), ('party', 'NN'), ('said', 'VBD'), ('well', 'RB'), ('limit', 'RB'), ('Long', 'NNP'), ('Island', 'NNP'), ('venue', 'NN'), ('said', 'VBD'), ('Amy', 'NNP'), ('Cooper', 'NNP'), ('police', 'NN'), ('twice', 'RB'), ('saying', 'VBG'), ('also', 'RB'), ('man', 'NN'), ('Central', 'NNP'), ('Park', 'NNP'), ('leash', 'NN'), ('dog', 'NN')]\n",
      "[('NN', 84), ('NNP', 62), ('JJ', 40), ('RB', 18), ('VBD', 16), ('VBG', 8), ('VBN', 6), ('IN', 4), ('JJS', 4), ('MD', 4), ('NNS', 4), ('DT', 2), ('CD', 2), ('VB', 2), ('VBP', 2)]\n",
      "need know\n"
     ]
    }
   ],
   "source": [
    "_main_list2 = []\n",
    "for sentence2 in _news_list2:\n",
    "    _token_list2 = word_tokenize(sentence2)\n",
    "    for _token2 in _token_list2:\n",
    "        _main_list2.append(_token2)\n",
    "\n",
    "# Removing more punctuations to avoid it during bigram tagging\n",
    "_tokenized_word_punc2 = []\n",
    "for _each_word2 in _main_list2:\n",
    "    if(re.sub('[\\W\\_]','',_each_word2)):\n",
    "        _tokenized_word_punc2.append(_each_word2)\n",
    "\n",
    "\n",
    "##Stop-words:\n",
    "stopwords = nltk.corpus.stopwords.words('english')\n",
    "wordlist = nltk.corpus.words.words()\n",
    "content2 = [_nonstop_word2 for _nonstop_word2 in _tokenized_word_punc2 if _nonstop_word2.lower() in wordlist if _nonstop_word2.lower() not in stopwords]\n",
    "print(content2)\n",
    "\n",
    "## Most Common Words::\n",
    "_dict = {}\n",
    "count = 0\n",
    "_counter2 = Counter()\n",
    "for content_word in content2:\n",
    "    _counter2[content_word]+=1\n",
    "print(_counter2)\n",
    "_most_common_word2= _counter2.most_common(10)\n",
    "print(_most_common_word2)\n",
    "\n",
    "## PO-tagging and Freq Dist:\n",
    "_pos_tagged_words2 = nltk.pos_tag(content)\n",
    "print(_pos_tagged_words2)\n",
    "fdist2 = nltk.FreqDist(tag for (word, tag) in _pos_tagged_words2)\n",
    "print(fdist2.most_common())\n",
    "\n",
    "## Collacations:\n",
    "_collac_text2 = nltk.Text(content2)\n",
    "_collac_text2.collocations(num=100,window_size=3)"
   ]
  },
  {
   "cell_type": "code",
   "execution_count": 249,
   "metadata": {},
   "outputs": [
    {
     "data": {
      "text/plain": [
       "'https://www.nytimes.com/section/us'"
      ]
     },
     "execution_count": 249,
     "metadata": {},
     "output_type": "execute_result"
    }
   ],
   "source": [
    "_total_links[1]"
   ]
  },
  {
   "cell_type": "code",
   "execution_count": 263,
   "metadata": {},
   "outputs": [
    {
     "name": "stdout",
     "output_type": "stream",
     "text": [
      "Headlines: Reporting Live From Quarantine U.\n",
      "Story:: Faced with soaring coronavirus caseloads, some universities told students to “stay put” for 14 days. College journalists report from their quarantined campuses.\n",
      "Headlines: Children From Immigrant Families Are Increasingly the Face of Higher Education\n",
      "Story:: U.S.-born children of immigrants or immigrant students raised in the United States accounted for nearly 60 percent of the growth in university enrollment since 2000.\n",
      "Headlines: The Census, the Supreme Court and Why the Count Is Stopping Early\n",
      "Story:: The Supreme Court has allowed the Trump administration to stop the 2020 count. Here’s what that means for the census.\n",
      "Headlines: From School Boards to the Senate, All Politics Is Virus Politics in 2020\n",
      "Story:: The pandemic has inspired new candidates to run, and defined the debate in campaigns up and down the ballots.\n",
      "For the Latest Updates from US#####\n",
      "Latest News:: What Proposition 14 Tells Us About California\n",
      "story link:: Thursday: A lesser known ballot proposition illustrates the state’s famed system at work. Also: Dangerous weather; and powerful images of midwives.\n",
      "Latest News:: Watch Live: Day 4 of Amy Coney Barrett’s Confirmation Hearing\n",
      "story link:: On Thursday, the Senate Judiciary Committee debates approving the nomination of Judge Amy Coney Barrett to the Supreme Court.\n",
      "Latest News:: In Fights Over Face Masks, Echos of the American Seatbelt Wars\n",
      "story link:: Seatbelt laws were a hard sell in state capitals as opponents argued they were uncomfortable or an imposition on personal liberty. Sound familiar?\n",
      "Latest News:: Scott Peterson’s Murder Convictions to Be Re-examined, Court Orders\n",
      "story link:: The move comes two months after the California Supreme Court overturned a sentence of death for his 2004 convictions.\n",
      "Latest News:: An Early Virus Stock Sell-Off\n",
      "story link:: Conservative investors benefited from hints of the looming threat: This is your morning tip sheet.\n",
      "Latest News:: Tonight’s Dueling Town Halls: How to Watch\n",
      "story link:: President Trump and Joe Biden will appear at simultaneous televised forums on Thursday night, starting at 8 p.m. Eastern time.\n",
      "Latest News:: The Surging Virus\n",
      "story link:: And what else you need to know today.\n",
      "Latest News:: The 2020 Election Is Happening Right Now\n",
      "story link:: Millions have voted in person or by mail, with weeks to go before Election Day.\n",
      "Latest News:: Black Products. Black Shoppers. Black Workers. But Who Owns the Store?\n",
      "story link:: At a Chicago beauty supply shop, one American dream has come true. Another is still waiting for its chance.\n",
      "Latest News:: Reporting Live From Quarantine U.\n",
      "story link:: Faced with soaring coronavirus caseloads, some universities told students to “stay put” for 14 days. College journalists report from their quarantined campuses.\n"
     ]
    }
   ],
   "source": [
    "html = uReq(_total_links[1])\n",
    "page_soup3 = soup(html.read(), 'html.parser');\n",
    "_news_list3 = []\n",
    "_ushighlights =  page_soup3.find('section', attrs={'id':'collection-highlights-container'}).findAll(\"article\")\n",
    "_ushighlights\n",
    "\n",
    "for _usnews in _ushighlights:\n",
    "    print(\"Headlines:\",_usnews.find('h2').find('a').get_text())\n",
    "    print(\"Story::\",_usnews.find('p').get_text())\n",
    "    _news_list3.append(_usnews.find('p').get_text())\n",
    "\n",
    "_uslatestnews =  page_soup3.find('section', attrs={'id':'stream-panel'}).findAll(\"li\")\n",
    "\n",
    "print(\"For the Latest Updates from US#####\")\n",
    "for _uslnews in _uslatestnews:\n",
    "    print(\"Latest News::\",_uslnews.find(\"a\").find(\"h2\").get_text())\n",
    "    _news_story = _uslnews.find(\"a\").find(\"p\").get_text()\n",
    "    _news_list3.append(_news_story)\n",
    "    print(\"story link::\",_news_story)"
   ]
  },
  {
   "cell_type": "code",
   "execution_count": 264,
   "metadata": {},
   "outputs": [
    {
     "data": {
      "text/plain": [
       "['Faced with soaring coronavirus caseloads, some universities told students to “stay put” for 14 days. College journalists report from their quarantined campuses.',\n",
       " 'U.S.-born children of immigrants or immigrant students raised in the United States accounted for nearly 60 percent of the growth in university enrollment since 2000.',\n",
       " 'The Supreme Court has allowed the Trump administration to stop the 2020 count. Here’s what that means for the census.',\n",
       " 'The pandemic has inspired new candidates to run, and defined the debate in campaigns up and down the ballots.',\n",
       " 'Thursday: A lesser known ballot proposition illustrates the state’s famed system at work. Also: Dangerous weather; and powerful images of midwives.',\n",
       " 'On Thursday, the Senate Judiciary Committee debates approving the nomination of Judge Amy Coney Barrett to the Supreme Court.',\n",
       " 'Seatbelt laws were a hard sell in state capitals as opponents argued they were uncomfortable or an imposition on personal liberty. Sound familiar?',\n",
       " 'The move comes two months after the California Supreme Court overturned a sentence of death for his 2004 convictions.',\n",
       " 'Conservative investors benefited from hints of the looming threat: This is your morning tip sheet.',\n",
       " 'President Trump and Joe Biden will appear at simultaneous televised forums on Thursday night, starting at 8 p.m. Eastern time.',\n",
       " 'And what else you need to know today.',\n",
       " 'Millions have voted in person or by mail, with weeks to go before Election Day.',\n",
       " 'At a Chicago beauty supply shop, one American dream has come true. Another is still waiting for its chance.',\n",
       " 'Faced with soaring coronavirus caseloads, some universities told students to “stay put” for 14 days. College journalists report from their quarantined campuses.']"
      ]
     },
     "execution_count": 264,
     "metadata": {},
     "output_type": "execute_result"
    }
   ],
   "source": [
    "_news_list3"
   ]
  },
  {
   "cell_type": "code",
   "execution_count": 267,
   "metadata": {},
   "outputs": [
    {
     "name": "stdout",
     "output_type": "stream",
     "text": [
      "['Faced', 'soaring', 'told', 'stay', 'put', 'days', 'College', 'report', 'immigrant', 'raised', 'United', 'nearly', 'percent', 'growth', 'university', 'enrollment', 'since', 'Supreme', 'Court', 'Trump', 'administration', 'stop', 'count', 'census', 'pandemic', 'inspired', 'new', 'run', 'defined', 'debate', 'lesser', 'known', 'ballot', 'proposition', 'state', 'system', 'work', 'Also', 'Dangerous', 'weather', 'powerful', 'Senate', 'Judiciary', 'Committee', 'nomination', 'Judge', 'Amy', 'Supreme', 'Court', 'hard', 'sell', 'state', 'uncomfortable', 'imposition', 'personal', 'liberty', 'Sound', 'familiar', 'move', 'comes', 'two', 'Supreme', 'Court', 'sentence', 'death', 'Conservative', 'looming', 'threat', 'morning', 'tip', 'sheet', 'President', 'Trump', 'Joe', 'appear', 'simultaneous', 'night', 'starting', 'Eastern', 'time', 'else', 'need', 'know', 'today', 'Millions', 'person', 'mail', 'go', 'Election', 'Day', 'beauty', 'supply', 'shop', 'one', 'dream', 'come', 'true', 'Another', 'still', 'waiting', 'chance', 'Faced', 'soaring', 'told', 'stay', 'put', 'days', 'College', 'report']\n",
      "Counter({'Supreme': 3, 'Court': 3, 'Faced': 2, 'soaring': 2, 'told': 2, 'stay': 2, 'put': 2, 'days': 2, 'College': 2, 'report': 2, 'Trump': 2, 'state': 2, 'immigrant': 1, 'raised': 1, 'United': 1, 'nearly': 1, 'percent': 1, 'growth': 1, 'university': 1, 'enrollment': 1, 'since': 1, 'administration': 1, 'stop': 1, 'count': 1, 'census': 1, 'pandemic': 1, 'inspired': 1, 'new': 1, 'run': 1, 'defined': 1, 'debate': 1, 'lesser': 1, 'known': 1, 'ballot': 1, 'proposition': 1, 'system': 1, 'work': 1, 'Also': 1, 'Dangerous': 1, 'weather': 1, 'powerful': 1, 'Senate': 1, 'Judiciary': 1, 'Committee': 1, 'nomination': 1, 'Judge': 1, 'Amy': 1, 'hard': 1, 'sell': 1, 'uncomfortable': 1, 'imposition': 1, 'personal': 1, 'liberty': 1, 'Sound': 1, 'familiar': 1, 'move': 1, 'comes': 1, 'two': 1, 'sentence': 1, 'death': 1, 'Conservative': 1, 'looming': 1, 'threat': 1, 'morning': 1, 'tip': 1, 'sheet': 1, 'President': 1, 'Joe': 1, 'appear': 1, 'simultaneous': 1, 'night': 1, 'starting': 1, 'Eastern': 1, 'time': 1, 'else': 1, 'need': 1, 'know': 1, 'today': 1, 'Millions': 1, 'person': 1, 'mail': 1, 'go': 1, 'Election': 1, 'Day': 1, 'beauty': 1, 'supply': 1, 'shop': 1, 'one': 1, 'dream': 1, 'come': 1, 'true': 1, 'Another': 1, 'still': 1, 'waiting': 1, 'chance': 1})\n",
      "[('Supreme', 3), ('Court', 3), ('Faced', 2), ('soaring', 2), ('told', 2), ('stay', 2), ('put', 2), ('days', 2), ('College', 2), ('report', 2)]\n",
      "[('curfew', 'NN'), ('major', 'JJ'), ('taking', 'VBG'), ('similar', 'JJ'), ('record', 'NN'), ('fill', 'NN'), ('See', 'NNP'), ('new', 'JJ'), ('around', 'IN'), ('world', 'NN'), ('See', 'NNP'), ('hot', 'JJ'), ('rural', 'JJ'), ('severe', 'JJ'), ('densely', 'RB'), ('Sun', 'NNP'), ('Belt', 'NNP'), ('summer', 'NN'), ('latest', 'JJS'), ('Judge', 'NNP'), ('Amy', 'NNP'), ('first', 'RB'), ('Supreme', 'NNP'), ('Court', 'NNP'), ('nominee', 'VBD'), ('profess', 'JJ'), ('independence', 'NN'), ('task', 'NN'), ('made', 'VBD'), ('far', 'RB'), ('complicated', 'VBN'), ('president', 'NN'), ('Judge', 'NNP'), ('Amy', 'NNP'), ('Senator', 'NNP'), ('Kamala', 'NNP'), ('negotiate', 'NN'), ('loaded', 'VBD'), ('nominee', 'JJ'), ('health', 'NN'), ('care', 'NN'), ('law', 'NN'), ('reassuring', 'VBG'), ('Senator', 'NNP'), ('Graham', 'NNP'), ('Judge', 'NNP'), ('Amy', 'NNP'), ('Senator', 'NNP'), ('Kamala', 'NNP'), ('known', 'VBN'), ('withering', 'VBG'), ('style', 'NN'), ('cut', 'NN'), ('restrained', 'VBD'), ('profile', 'IN'), ('Judge', 'NNP'), ('Amy', 'NNP'), ('another', 'DT'), ('bad', 'JJ'), ('day', 'NN'), ('president', 'NN'), ('analysis', 'NN'), ('recent', 'JJ'), ('polling', 'NN'), ('posted', 'VBD'), ('daily', 'JJ'), ('Election', 'NNP'), ('Day', 'NNP'), ('Joe', 'NNP'), ('significant', 'JJ'), ('financial', 'JJ'), ('advantage', 'NN'), ('President', 'NNP'), ('Trump', 'NNP'), ('million', 'CD'), ('vote', 'NN'), ('felony', 'NN'), ('latest', 'JJS'), ('misinformation', 'NN'), ('ballot', 'NN'), ('deep', 'JJ'), ('state', 'NN'), ('conspiracy', 'NN'), ('vote', 'NN'), ('authenticity', 'NN'), ('correspondence', 'NN'), ('article', 'NN'), ('could', 'MD'), ('independently', 'RB'), ('prominent', 'JJ'), ('figure', 'NN'), ('college', 'NN'), ('sports', 'NNS'), ('known', 'VBN'), ('infected', 'JJ'), ('school', 'NN'), ('athletic', 'JJ'), ('director', 'NN'), ('also', 'RB'), ('tested', 'VBD'), ('positive', 'JJ'), ('unique', 'JJ'), ('treatment', 'NN'), ('course', 'NN'), ('may', 'MD'), ('body', 'VB'), ('production', 'NN'), ('warn', 'JJ'), ('people', 'NNS'), ('birthday', 'VBP'), ('party', 'NN'), ('said', 'VBD'), ('well', 'RB'), ('limit', 'RB'), ('Long', 'NNP'), ('Island', 'NNP'), ('venue', 'NN'), ('said', 'VBD'), ('Amy', 'NNP'), ('Cooper', 'NNP'), ('police', 'NN'), ('twice', 'RB'), ('saying', 'VBG'), ('also', 'RB'), ('man', 'NN'), ('Central', 'NNP'), ('Park', 'NNP'), ('leash', 'NN'), ('dog', 'NN'), ('curfew', 'NN'), ('major', 'JJ'), ('taking', 'VBG'), ('similar', 'JJ'), ('record', 'NN'), ('fill', 'NN'), ('See', 'NNP'), ('new', 'JJ'), ('around', 'IN'), ('world', 'NN'), ('See', 'NNP'), ('hot', 'JJ'), ('rural', 'JJ'), ('severe', 'JJ'), ('densely', 'RB'), ('Sun', 'NNP'), ('Belt', 'NNP'), ('summer', 'NN'), ('latest', 'JJS'), ('Judge', 'NNP'), ('Amy', 'NNP'), ('first', 'RB'), ('Supreme', 'NNP'), ('Court', 'NNP'), ('nominee', 'VBD'), ('profess', 'JJ'), ('independence', 'NN'), ('task', 'NN'), ('made', 'VBD'), ('far', 'RB'), ('complicated', 'VBN'), ('president', 'NN'), ('Judge', 'NNP'), ('Amy', 'NNP'), ('Senator', 'NNP'), ('Kamala', 'NNP'), ('negotiate', 'NN'), ('loaded', 'VBD'), ('nominee', 'JJ'), ('health', 'NN'), ('care', 'NN'), ('law', 'NN'), ('reassuring', 'VBG'), ('Senator', 'NNP'), ('Graham', 'NNP'), ('Judge', 'NNP'), ('Amy', 'NNP'), ('Senator', 'NNP'), ('Kamala', 'NNP'), ('known', 'VBN'), ('withering', 'VBG'), ('style', 'NN'), ('cut', 'NN'), ('restrained', 'VBD'), ('profile', 'IN'), ('Judge', 'NNP'), ('Amy', 'NNP'), ('another', 'DT'), ('bad', 'JJ'), ('day', 'NN'), ('president', 'NN'), ('analysis', 'NN'), ('recent', 'JJ'), ('polling', 'NN'), ('posted', 'VBD'), ('daily', 'JJ'), ('Election', 'NNP'), ('Day', 'NNP'), ('Joe', 'NNP'), ('significant', 'JJ'), ('financial', 'JJ'), ('advantage', 'NN'), ('President', 'NNP'), ('Trump', 'NNP'), ('million', 'CD'), ('vote', 'NN'), ('felony', 'NN'), ('latest', 'JJS'), ('misinformation', 'NN'), ('ballot', 'NN'), ('deep', 'JJ'), ('state', 'NN'), ('conspiracy', 'NN'), ('vote', 'NN'), ('authenticity', 'NN'), ('correspondence', 'NN'), ('article', 'NN'), ('could', 'MD'), ('independently', 'RB'), ('prominent', 'JJ'), ('figure', 'NN'), ('college', 'NN'), ('sports', 'NNS'), ('known', 'VBN'), ('infected', 'JJ'), ('school', 'NN'), ('athletic', 'JJ'), ('director', 'NN'), ('also', 'RB'), ('tested', 'VBD'), ('positive', 'JJ'), ('unique', 'JJ'), ('treatment', 'NN'), ('course', 'NN'), ('may', 'MD'), ('body', 'VB'), ('production', 'NN'), ('warn', 'JJ'), ('people', 'NNS'), ('birthday', 'VBP'), ('party', 'NN'), ('said', 'VBD'), ('well', 'RB'), ('limit', 'RB'), ('Long', 'NNP'), ('Island', 'NNP'), ('venue', 'NN'), ('said', 'VBD'), ('Amy', 'NNP'), ('Cooper', 'NNP'), ('police', 'NN'), ('twice', 'RB'), ('saying', 'VBG'), ('also', 'RB'), ('man', 'NN'), ('Central', 'NNP'), ('Park', 'NNP'), ('leash', 'NN'), ('dog', 'NN')]\n",
      "[('NN', 84), ('NNP', 62), ('JJ', 40), ('RB', 18), ('VBD', 16), ('VBG', 8), ('VBN', 6), ('IN', 4), ('JJS', 4), ('MD', 4), ('NNS', 4), ('DT', 2), ('CD', 2), ('VB', 2), ('VBP', 2)]\n",
      "Supreme Court; College report; Faced soaring; Faced told; days\n",
      "College; days report; put College; put days; soaring stay; soaring\n",
      "told; stay days; stay put; told put; told stay\n"
     ]
    }
   ],
   "source": [
    "_main_list3 = []\n",
    "for sentence3 in _news_list3:\n",
    "    _token_list3 = word_tokenize(sentence3)\n",
    "    for _token3 in _token_list3:\n",
    "        _main_list3.append(_token3)\n",
    "\n",
    "# Removing more punctuations to avoid it during bigram tagging\n",
    "_tokenized_word_punc3 = []\n",
    "for _each_word3 in _main_list3:\n",
    "    if(re.sub('[\\W\\_]','',_each_word3)):\n",
    "        _tokenized_word_punc3.append(_each_word3)\n",
    "\n",
    "\n",
    "##Stop-words:\n",
    "stopwords = nltk.corpus.stopwords.words('english')\n",
    "wordlist = nltk.corpus.words.words()\n",
    "content3 = [_nonstop_word3 for _nonstop_word3 in _tokenized_word_punc3 if _nonstop_word3.lower() in wordlist if _nonstop_word3.lower() not in stopwords]\n",
    "print(content3)\n",
    "\n",
    "## Most Common Words::\n",
    "_dict = {}\n",
    "count = 0\n",
    "_counter3 = Counter()\n",
    "for content_word in content3:\n",
    "    _counter3[content_word]+=1\n",
    "print(_counter3)\n",
    "_most_common_word3= _counter3.most_common(10)\n",
    "print(_most_common_word3)\n",
    "\n",
    "## PO-tagging and Freq Dist:\n",
    "_pos_tagged_words3 = nltk.pos_tag(content)\n",
    "print(_pos_tagged_words3)\n",
    "fdist3 = nltk.FreqDist(tag for (word, tag) in _pos_tagged_words3)\n",
    "print(fdist3.most_common())\n",
    "\n",
    "## Collacations:\n",
    "_collac_text3 = nltk.Text(content3)\n",
    "_collac_text3.collocations(num=100,window_size=3)"
   ]
  },
  {
   "cell_type": "code",
   "execution_count": 282,
   "metadata": {},
   "outputs": [
    {
     "name": "stdout",
     "output_type": "stream",
     "text": [
      "All Headlines on News:::###\n",
      "Headlines: As Virus Spread, Reports of Trump Administration’s Private Briefings Fueled Sell-Off\n",
      "Story:: A hedge fund consultant’s summary of private presentations by White House economic advisers fanned investor worries.\n",
      "Headlines: As Trump’s Language Grows More Heated, Fears Rise of Political Violence\n",
      "Story:: The plot to kidnap the governor of Michigan is only the latest in a growing list of election-related threats. Some experts say the president is emboldening extremists.\n",
      "Headlines: 8 Million Have Slipped Into Poverty Since May as Federal Aid Has Dried Up\n",
      "Story:: Two new studies show the effect of the emergency $2 trillion package known as the Cares Act and what happened when the money ran out.\n",
      "Headlines: The 2020 Election Is Happening Right Now\n",
      "Story:: Millions have voted in person or by mail, with weeks to go before Election Day.\n",
      "For the Latest Updates from Political Page#####\n",
      "Live Updates Headlines: Trump’s Tweets on Troop Withdrawals Unnerve Pentagon\n",
      "updates:: The president’s demands to draw down forces in Afghanistan, Somalia and Syria seek to fulfill a campaign promise. But officials warn rapid troop reductions could bolster adversaries.\n",
      "Live Updates Headlines: Watch Live: Day 4 of Amy Coney Barrett’s Confirmation Hearing\n",
      "updates:: On Thursday, the Senate Judiciary Committee debates approving the nomination of Judge Amy Coney Barrett to the Supreme Court.\n",
      "Live Updates Headlines: An Early Virus Stock Sell-Off\n",
      "updates:: Conservative investors benefited from hints of the looming threat: This is your morning tip sheet.\n",
      "Live Updates Headlines: Tonight’s Dueling Town Halls: How to Watch\n",
      "updates:: President Trump and Joe Biden will appear at simultaneous televised forums on Thursday night, starting at 8 p.m. Eastern time.\n",
      "Live Updates Headlines: The 2020 Election Is Happening Right Now\n",
      "updates:: Millions have voted in person or by mail, with weeks to go before Election Day.\n",
      "Live Updates Headlines: With Barrett Nomination, a D.C. Conservative Power Couple Nears Its Dream\n",
      "updates:: Carrie Severino of the Judicial Crisis Network and Roger Severino, a senior health and human services official, have worked to reshape social policy and the courts they need to uphold it.\n",
      "Live Updates Headlines: As Trump’s Language Grows More Heated, Fears Rise of Political Violence\n",
      "updates:: The plot to kidnap the governor of Michigan is only the latest in a growing list of election-related threats. Some experts say the president is emboldening extremists.\n",
      "Live Updates Headlines: For the Navajo Nation, ‘Everything Takes Time,’ Including Voting\n",
      "updates:: Post offices are few and far between on the reservation, and mail can take a week and a half to reach the county seat. In this year’s election, that has more profound implications than ever before.\n",
      "Live Updates Headlines: 8 Million Have Slipped Into Poverty Since May as Federal Aid Has Dried Up\n",
      "updates:: Two new studies show the effect of the emergency $2 trillion package known as the Cares Act and what happened when the money ran out.\n",
      "Live Updates Headlines: Amy Coney Barrett Live Updates: Senators Spar Over Committee Rules and Timetable on Vote\n",
      "updates:: Republicans and Democrats on the Senate Judiciary Committee clashed over moving forward on the nomination.\n"
     ]
    }
   ],
   "source": [
    "html = uReq(_total_links[2])\n",
    "page_soup4 = soup(html.read(), 'html.parser');\n",
    "_news_list4 = []\n",
    "_politics =  page_soup4.find('section', attrs={'id':'collection-highlights-container'}).findAll(\"article\")\n",
    "\n",
    "print(\"All Headlines on News:::###\")\n",
    "for _politicsnews in _politics:\n",
    "    print(\"Headlines:\",_politicsnews.find('h2').find('a').get_text())\n",
    "    print(\"Story::\",_politicsnews.find('p').get_text())\n",
    "    _news_list4.append(_politicsnews.find('p').get_text())\n",
    "\n",
    "_politicslatestnews =  page_soup4.find('section', attrs={'id':'stream-panel'}).findAll(\"li\")\n",
    "\n",
    "print(\"For the Latest Updates from Political Page#####\")\n",
    "for _polticallnews in _politicslatestnews:\n",
    "    _pheadings = _polticallnews.find(\"a\").find(\"h2\")\n",
    "    _news_story = _polticallnews.find(\"a\").find(\"p\")\n",
    "    if (_pheadings != None and _news_story !=None):\n",
    "        _pheading = _pheadings.get_text()\n",
    "        _news_storys =  _news_story.get_text()\n",
    "        print(\"Live Updates Headlines:\",_pheading)\n",
    "        print(\"updates::\",_news_storys)\n",
    "    _news_list4.append(_news_storys)"
   ]
  },
  {
   "cell_type": "code",
   "execution_count": 283,
   "metadata": {},
   "outputs": [
    {
     "name": "stdout",
     "output_type": "stream",
     "text": [
      "['hedge', 'fund', 'consultant', 'summary', 'private', 'White', 'House', 'economic', 'investor', 'plot', 'kidnap', 'governor', 'Michigan', 'latest', 'growing', 'list', 'say', 'president', 'Two', 'new', 'show', 'effect', 'emergency', 'trillion', 'package', 'known', 'Act', 'money', 'ran', 'Millions', 'person', 'mail', 'go', 'Election', 'Day', 'president', 'draw', 'seek', 'fulfill', 'campaign', 'promise', 'warn', 'rapid', 'troop', 'could', 'bolster', 'Senate', 'Judiciary', 'Committee', 'nomination', 'Judge', 'Amy', 'Supreme', 'Court', 'Conservative', 'looming', 'threat', 'morning', 'tip', 'sheet', 'President', 'Trump', 'Joe', 'appear', 'simultaneous', 'night', 'starting', 'Eastern', 'time', 'Millions', 'person', 'mail', 'go', 'Election', 'Day', 'Judicial', 'Crisis', 'Network', 'Roger', 'senior', 'health', 'human', 'official', 'worked', 'reshape', 'social', 'policy', 'need', 'uphold', 'plot', 'kidnap', 'governor', 'Michigan', 'latest', 'growing', 'list', 'say', 'president', 'Post', 'far', 'reservation', 'mail', 'take', 'week', 'half', 'reach', 'county', 'seat', 'year', 'election', 'profound', 'ever', 'Two', 'new', 'show', 'effect', 'emergency', 'trillion', 'package', 'known', 'Act', 'money', 'ran', 'Senate', 'Judiciary', 'Committee', 'moving', 'forward', 'nomination', 'Senate', 'Judiciary', 'Committee', 'moving', 'forward', 'nomination', 'Senate', 'Judiciary', 'Committee', 'moving', 'forward', 'nomination']\n",
      "Counter({'Senate': 4, 'Judiciary': 4, 'Committee': 4, 'nomination': 4, 'president': 3, 'mail': 3, 'moving': 3, 'forward': 3, 'plot': 2, 'kidnap': 2, 'governor': 2, 'Michigan': 2, 'latest': 2, 'growing': 2, 'list': 2, 'say': 2, 'Two': 2, 'new': 2, 'show': 2, 'effect': 2, 'emergency': 2, 'trillion': 2, 'package': 2, 'known': 2, 'Act': 2, 'money': 2, 'ran': 2, 'Millions': 2, 'person': 2, 'go': 2, 'Election': 2, 'Day': 2, 'hedge': 1, 'fund': 1, 'consultant': 1, 'summary': 1, 'private': 1, 'White': 1, 'House': 1, 'economic': 1, 'investor': 1, 'draw': 1, 'seek': 1, 'fulfill': 1, 'campaign': 1, 'promise': 1, 'warn': 1, 'rapid': 1, 'troop': 1, 'could': 1, 'bolster': 1, 'Judge': 1, 'Amy': 1, 'Supreme': 1, 'Court': 1, 'Conservative': 1, 'looming': 1, 'threat': 1, 'morning': 1, 'tip': 1, 'sheet': 1, 'President': 1, 'Trump': 1, 'Joe': 1, 'appear': 1, 'simultaneous': 1, 'night': 1, 'starting': 1, 'Eastern': 1, 'time': 1, 'Judicial': 1, 'Crisis': 1, 'Network': 1, 'Roger': 1, 'senior': 1, 'health': 1, 'human': 1, 'official': 1, 'worked': 1, 'reshape': 1, 'social': 1, 'policy': 1, 'need': 1, 'uphold': 1, 'Post': 1, 'far': 1, 'reservation': 1, 'take': 1, 'week': 1, 'half': 1, 'reach': 1, 'county': 1, 'seat': 1, 'year': 1, 'election': 1, 'profound': 1, 'ever': 1})\n",
      "[('Senate', 4), ('Judiciary', 4), ('Committee', 4), ('nomination', 4), ('president', 3), ('mail', 3), ('moving', 3), ('forward', 3), ('plot', 2), ('kidnap', 2)]\n",
      "[('curfew', 'NN'), ('major', 'JJ'), ('taking', 'VBG'), ('similar', 'JJ'), ('record', 'NN'), ('fill', 'NN'), ('See', 'NNP'), ('new', 'JJ'), ('around', 'IN'), ('world', 'NN'), ('See', 'NNP'), ('hot', 'JJ'), ('rural', 'JJ'), ('severe', 'JJ'), ('densely', 'RB'), ('Sun', 'NNP'), ('Belt', 'NNP'), ('summer', 'NN'), ('latest', 'JJS'), ('Judge', 'NNP'), ('Amy', 'NNP'), ('first', 'RB'), ('Supreme', 'NNP'), ('Court', 'NNP'), ('nominee', 'VBD'), ('profess', 'JJ'), ('independence', 'NN'), ('task', 'NN'), ('made', 'VBD'), ('far', 'RB'), ('complicated', 'VBN'), ('president', 'NN'), ('Judge', 'NNP'), ('Amy', 'NNP'), ('Senator', 'NNP'), ('Kamala', 'NNP'), ('negotiate', 'NN'), ('loaded', 'VBD'), ('nominee', 'JJ'), ('health', 'NN'), ('care', 'NN'), ('law', 'NN'), ('reassuring', 'VBG'), ('Senator', 'NNP'), ('Graham', 'NNP'), ('Judge', 'NNP'), ('Amy', 'NNP'), ('Senator', 'NNP'), ('Kamala', 'NNP'), ('known', 'VBN'), ('withering', 'VBG'), ('style', 'NN'), ('cut', 'NN'), ('restrained', 'VBD'), ('profile', 'IN'), ('Judge', 'NNP'), ('Amy', 'NNP'), ('another', 'DT'), ('bad', 'JJ'), ('day', 'NN'), ('president', 'NN'), ('analysis', 'NN'), ('recent', 'JJ'), ('polling', 'NN'), ('posted', 'VBD'), ('daily', 'JJ'), ('Election', 'NNP'), ('Day', 'NNP'), ('Joe', 'NNP'), ('significant', 'JJ'), ('financial', 'JJ'), ('advantage', 'NN'), ('President', 'NNP'), ('Trump', 'NNP'), ('million', 'CD'), ('vote', 'NN'), ('felony', 'NN'), ('latest', 'JJS'), ('misinformation', 'NN'), ('ballot', 'NN'), ('deep', 'JJ'), ('state', 'NN'), ('conspiracy', 'NN'), ('vote', 'NN'), ('authenticity', 'NN'), ('correspondence', 'NN'), ('article', 'NN'), ('could', 'MD'), ('independently', 'RB'), ('prominent', 'JJ'), ('figure', 'NN'), ('college', 'NN'), ('sports', 'NNS'), ('known', 'VBN'), ('infected', 'JJ'), ('school', 'NN'), ('athletic', 'JJ'), ('director', 'NN'), ('also', 'RB'), ('tested', 'VBD'), ('positive', 'JJ'), ('unique', 'JJ'), ('treatment', 'NN'), ('course', 'NN'), ('may', 'MD'), ('body', 'VB'), ('production', 'NN'), ('warn', 'JJ'), ('people', 'NNS'), ('birthday', 'VBP'), ('party', 'NN'), ('said', 'VBD'), ('well', 'RB'), ('limit', 'RB'), ('Long', 'NNP'), ('Island', 'NNP'), ('venue', 'NN'), ('said', 'VBD'), ('Amy', 'NNP'), ('Cooper', 'NNP'), ('police', 'NN'), ('twice', 'RB'), ('saying', 'VBG'), ('also', 'RB'), ('man', 'NN'), ('Central', 'NNP'), ('Park', 'NNP'), ('leash', 'NN'), ('dog', 'NN'), ('curfew', 'NN'), ('major', 'JJ'), ('taking', 'VBG'), ('similar', 'JJ'), ('record', 'NN'), ('fill', 'NN'), ('See', 'NNP'), ('new', 'JJ'), ('around', 'IN'), ('world', 'NN'), ('See', 'NNP'), ('hot', 'JJ'), ('rural', 'JJ'), ('severe', 'JJ'), ('densely', 'RB'), ('Sun', 'NNP'), ('Belt', 'NNP'), ('summer', 'NN'), ('latest', 'JJS'), ('Judge', 'NNP'), ('Amy', 'NNP'), ('first', 'RB'), ('Supreme', 'NNP'), ('Court', 'NNP'), ('nominee', 'VBD'), ('profess', 'JJ'), ('independence', 'NN'), ('task', 'NN'), ('made', 'VBD'), ('far', 'RB'), ('complicated', 'VBN'), ('president', 'NN'), ('Judge', 'NNP'), ('Amy', 'NNP'), ('Senator', 'NNP'), ('Kamala', 'NNP'), ('negotiate', 'NN'), ('loaded', 'VBD'), ('nominee', 'JJ'), ('health', 'NN'), ('care', 'NN'), ('law', 'NN'), ('reassuring', 'VBG'), ('Senator', 'NNP'), ('Graham', 'NNP'), ('Judge', 'NNP'), ('Amy', 'NNP'), ('Senator', 'NNP'), ('Kamala', 'NNP'), ('known', 'VBN'), ('withering', 'VBG'), ('style', 'NN'), ('cut', 'NN'), ('restrained', 'VBD'), ('profile', 'IN'), ('Judge', 'NNP'), ('Amy', 'NNP'), ('another', 'DT'), ('bad', 'JJ'), ('day', 'NN'), ('president', 'NN'), ('analysis', 'NN'), ('recent', 'JJ'), ('polling', 'NN'), ('posted', 'VBD'), ('daily', 'JJ'), ('Election', 'NNP'), ('Day', 'NNP'), ('Joe', 'NNP'), ('significant', 'JJ'), ('financial', 'JJ'), ('advantage', 'NN'), ('President', 'NNP'), ('Trump', 'NNP'), ('million', 'CD'), ('vote', 'NN'), ('felony', 'NN'), ('latest', 'JJS'), ('misinformation', 'NN'), ('ballot', 'NN'), ('deep', 'JJ'), ('state', 'NN'), ('conspiracy', 'NN'), ('vote', 'NN'), ('authenticity', 'NN'), ('correspondence', 'NN'), ('article', 'NN'), ('could', 'MD'), ('independently', 'RB'), ('prominent', 'JJ'), ('figure', 'NN'), ('college', 'NN'), ('sports', 'NNS'), ('known', 'VBN'), ('infected', 'JJ'), ('school', 'NN'), ('athletic', 'JJ'), ('director', 'NN'), ('also', 'RB'), ('tested', 'VBD'), ('positive', 'JJ'), ('unique', 'JJ'), ('treatment', 'NN'), ('course', 'NN'), ('may', 'MD'), ('body', 'VB'), ('production', 'NN'), ('warn', 'JJ'), ('people', 'NNS'), ('birthday', 'VBP'), ('party', 'NN'), ('said', 'VBD'), ('well', 'RB'), ('limit', 'RB'), ('Long', 'NNP'), ('Island', 'NNP'), ('venue', 'NN'), ('said', 'VBD'), ('Amy', 'NNP'), ('Cooper', 'NNP'), ('police', 'NN'), ('twice', 'RB'), ('saying', 'VBG'), ('also', 'RB'), ('man', 'NN'), ('Central', 'NNP'), ('Park', 'NNP'), ('leash', 'NN'), ('dog', 'NN')]\n",
      "[('NN', 84), ('NNP', 62), ('JJ', 40), ('RB', 18), ('VBD', 16), ('VBG', 8), ('VBN', 6), ('IN', 4), ('JJS', 4), ('MD', 4), ('NNS', 4), ('DT', 2), ('CD', 2), ('VB', 2), ('VBP', 2)]\n",
      "Committee nomination; Judiciary Committee; Senate Committee; Senate\n",
      "Judiciary; moving forward; Committee forward; Committee moving;\n",
      "Judiciary forward; Judiciary moving; Senate moving; forward\n",
      "nomination; moving nomination; Act money; Act ran; Election Day;\n",
      "Michigan growing; Michigan latest; Michigan list; Millions person; Two\n",
      "effect; Two new; Two show; effect emergency; effect package; effect\n",
      "trillion; emergency known; emergency package; emergency trillion;\n",
      "governor Michigan; governor growing; governor latest; growing list;\n",
      "growing say; kidnap Michigan; kidnap governor; kidnap latest; known\n",
      "Act; known money; known ran; latest growing; latest list; latest say;\n",
      "list say; money ran; new effect; new emergency; new show; package Act;\n",
      "package known; package money; person Election; plot Michigan; plot\n",
      "governor; plot kidnap; show effect; show emergency; show trillion;\n",
      "trillion Act; trillion known; trillion package; Millions mail; growing\n",
      "president; list president; mail Day; mail Election; person mail; say\n",
      "president; forward Judiciary; forward Senate; moving Senate;\n",
      "nomination Committee; nomination Judiciary; nomination Senate\n"
     ]
    }
   ],
   "source": [
    "_main_list4 = []\n",
    "for sentence4 in _news_list4:\n",
    "    _token_list4 = word_tokenize(sentence4)\n",
    "    for _token4 in _token_list4:\n",
    "        _main_list4.append(_token4)\n",
    "\n",
    "# Removing more punctuations to avoid it during bigram tagging\n",
    "_tokenized_word_punc4 = []\n",
    "for _each_word4 in _main_list4:\n",
    "    if(re.sub('[\\W\\_]','',_each_word4)):\n",
    "        _tokenized_word_punc4.append(_each_word4)\n",
    "\n",
    "\n",
    "##Stop-words:\n",
    "stopwords = nltk.corpus.stopwords.words('english')\n",
    "wordlist = nltk.corpus.words.words()\n",
    "content4 = [_nonstop_word4 for _nonstop_word4 in _tokenized_word_punc4 if _nonstop_word4.lower() in wordlist if _nonstop_word4.lower() not in stopwords]\n",
    "print(content4)\n",
    "\n",
    "## Most Common Words::\n",
    "_dict = {}\n",
    "count = 0\n",
    "_counter4 = Counter()\n",
    "for content_word in content4:\n",
    "    _counter4[content_word]+=1\n",
    "print(_counter4)\n",
    "_most_common_word4= _counter4.most_common(10)\n",
    "print(_most_common_word4)\n",
    "\n",
    "## PO-tagging and Freq Dist:\n",
    "_pos_tagged_words4 = nltk.pos_tag(content)\n",
    "print(_pos_tagged_words4)\n",
    "fdist4 = nltk.FreqDist(tag for (word, tag) in _pos_tagged_words4)\n",
    "print(fdist4.most_common())\n",
    "\n",
    "## Collacations:\n",
    "_collac_text4 = nltk.Text(content4)\n",
    "_collac_text4.collocations(num=100,window_size=4)"
   ]
  },
  {
   "cell_type": "code",
   "execution_count": 285,
   "metadata": {},
   "outputs": [
    {
     "name": "stdout",
     "output_type": "stream",
     "text": [
      "All Headlines on News:::###\n",
      "Headlines: Ray McGuire, Wall Street Executive, Enters N.Y.C. Mayor’s Race\n",
      "Story:: Business leaders encouraged Mr. McGuire to seek the Democratic nomination, saying his background would help the city and its economy recover from the pandemic.\n",
      "Headlines: Inspired by Trump, Hasidic Backlash Grows Over Virus Rules\n",
      "Story:: Orthodox Jewish leaders have seen a growing, raucous faction of young men in the community, tired of pandemic guidelines and resentful of the secular authorities.\n",
      "Headlines: 5 Professors Sue Rutgers, Saying It Shortchanges Women on Pay\n",
      "Story:: The five women say they are paid tens of thousands of dollars less than men with similar qualifications. The university says it is “committed to pay equity.”\n",
      "Headlines: U.S. Attorney Moves In on Brooklyn D.A.’s Territory, Citing Crime Surge\n",
      "Story:: Federal prosecutors will take more lower-level gun cases, in an initiative that thrusts the borough into the national debate about law enforcement.\n",
      "Headlines: Amy Cooper Made 2nd 911 Call to Falsely Accuse Black Bird-Watcher\n",
      "Story:: Prosecutors said Ms. Cooper called the police first to claim she had been threatened by a man in Central Park who had asked her to leash her dog, then to claim he had tried to assault her.\n",
      "Headlines: ‘Diamond Sweet 16’ Party Leaves 37 Infected and 270 in Quarantine\n",
      "Story:: More than 80 people attended the birthday event, officials said. A Long Island venue was fined $12,000.\n",
      "Headlines: A 2nd 911 Call: What to Know About the Amy Cooper Case\n",
      "Story:: The case of a white woman who called the police on a Black bird-watcher prompted a  conversation amplified by the Black Lives Matter movement.\n",
      "Headlines: Why Parents in This High-Performing School District Chose All-Remote Learning\n",
      "Story:: In a heavily Asian-American district of Queens, two-thirds of families have chosen not to send their children back to school.\n",
      "Headlines: Bike Thefts Are Up 27% in Pandemic N.Y.C.: ‘Sleep With It Next to You’\n",
      "Story:: As more people are buying bikes, more bikes are being swiped from sidewalks, garages and basements. Locks are not always a deterrent.\n",
      "For the Latest Updates from Political Page#####\n",
      "Live Updates Headlines: Amy Coney Barrett Live Updates: Senators Spar Over Committee Rules and Timetable on Vote\n",
      "updates:: Sarah Hennies’s highly personal explorations of “queer and trans identity, love, intimacy and psychoacoustics” are increasingly played by others.\n",
      "Live Updates Headlines: Amy Coney Barrett Live Updates: Senators Spar Over Committee Rules and Timetable on Vote\n",
      "updates:: This week’s properties are in Bedford-Stuyvesant, Astoria and Inwood.\n",
      "Live Updates Headlines: Amy Coney Barrett Live Updates: Senators Spar Over Committee Rules and Timetable on Vote\n",
      "updates:: This week’s properties are a four-bedroom in Summit, N.J., and a five-bedroom in Dobbs Ferry, N.Y.\n",
      "Live Updates Headlines: Amy Coney Barrett Live Updates: Senators Spar Over Committee Rules and Timetable on Vote\n",
      "updates:: For these families in Queens, bills piled up. “All this hit and it’s hard because you feel so powerless over everything.”\n",
      "Live Updates Headlines: Amy Coney Barrett Live Updates: Senators Spar Over Committee Rules and Timetable on Vote\n",
      "updates:: In a season cut short by the coronavirus pandemic, only 18 shows are eligible for awards. The ceremony is expected to take place in December.\n",
      "Live Updates Headlines: Amy Coney Barrett Live Updates: Senators Spar Over Committee Rules and Timetable on Vote\n",
      "updates:: After her husband died in 1967, she was the sole owner of the festive Manhattan gathering and gossiping spot until she sold it in 1995.\n",
      "Live Updates Headlines: Amy Coney Barrett Live Updates: Senators Spar Over Committee Rules and Timetable on Vote\n",
      "updates:: Justine Hill makes more with less in her multipart abstract paintings; Kevin Beasley mixes the political with the personal in “Reunion.”\n",
      "Live Updates Headlines: Amy Coney Barrett Live Updates: Senators Spar Over Committee Rules and Timetable on Vote\n",
      "updates:: In one school district in Queens, the parents of seven out of 10 students stuck with remote learning, fearing the virus risks of in-person classes. \n",
      "Live Updates Headlines: Amy Coney Barrett Live Updates: Senators Spar Over Committee Rules and Timetable on Vote\n",
      "updates:: The Union County community offers residents a range of housing options, a sense of urban life and some of the best hot dogs in New Jersey.\n",
      "Live Updates Headlines: Amy Coney Barrett Live Updates: Senators Spar Over Committee Rules and Timetable on Vote\n",
      "updates:: Chief Fausto Pichardo told colleagues that he felt insulted by Mayor Bill de Blasio during a turbulent time for the city, a police official said.\n"
     ]
    }
   ],
   "source": [
    "html = uReq(_total_links[3])\n",
    "page_soup5 = soup(html.read(), 'html.parser');\n",
    "_news_list5 = []\n",
    "_ny =  page_soup5.find('section', attrs={'id':'collection-highlights-container'}).findAll(\"article\")\n",
    "\n",
    "print(\"All Headlines on News:::###\")\n",
    "for __nynews in _ny:\n",
    "    print(\"Headlines:\",__nynews.find('h2').find('a').get_text())\n",
    "    print(\"Story::\",__nynews.find('p').get_text())\n",
    "    _news_list5.append(__nynews.find('p').get_text())\n",
    "\n",
    "_nyslatestnews =  page_soup5.find('section', attrs={'id':'stream-panel'}).findAll(\"li\")\n",
    "\n",
    "print(\"For the Latest Updates from Political Page#####\")\n",
    "for _nyslnews in _nyslatestnews:\n",
    "    _nyheadings = _nyslnews.find(\"a\").find(\"h2\")\n",
    "    _nys_story = _nyslnews.find(\"a\").find(\"p\")\n",
    "    if (_nyheadings != None and _nys_story !=None):\n",
    "        _nyheading = _nyheadings.get_text()\n",
    "        _nys_storys =  _nys_story.get_text()\n",
    "        print(\"Live Updates Headlines:\",_pheading)\n",
    "        print(\"updates::\",_nys_storys)\n",
    "    _news_list5.append(_nys_storys)"
   ]
  },
  {
   "cell_type": "code",
   "execution_count": 286,
   "metadata": {},
   "outputs": [
    {
     "name": "stdout",
     "output_type": "stream",
     "text": [
      "['Business', 'seek', 'Democratic', 'nomination', 'saying', 'background', 'would', 'help', 'city', 'economy', 'recover', 'pandemic', 'Orthodox', 'seen', 'growing', 'raucous', 'faction', 'young', 'men', 'community', 'tired', 'pandemic', 'resentful', 'secular', 'five', 'say', 'less', 'men', 'similar', 'university', 'pay', 'equity', 'Federal', 'take', 'gun', 'initiative', 'borough', 'national', 'debate', 'law', 'enforcement', 'said', 'Cooper', 'police', 'first', 'claim', 'man', 'Central', 'Park', 'leash', 'dog', 'claim', 'tried', 'assault', 'people', 'birthday', 'event', 'said', 'Long', 'Island', 'venue', 'case', 'white', 'woman', 'police', 'Black', 'conversation', 'Black', 'Matter', 'movement', 'heavily', 'district', 'chosen', 'send', 'back', 'school', 'people', 'always', 'deterrent', 'highly', 'personal', 'queer', 'identity', 'love', 'intimacy', 'increasingly', 'week', 'Inwood', 'week', 'Summit', 'Ferry', 'piled', 'hit', 'hard', 'feel', 'powerless', 'everything', 'season', 'cut', 'short', 'pandemic', 'eligible', 'ceremony', 'take', 'place', 'husband', 'sole', 'owner', 'festive', 'gathering', 'gossiping', 'spot', 'sold', 'Hill', 'less', 'abstract', 'political', 'personal', 'Reunion', 'one', 'school', 'district', 'seven', 'stuck', 'remote', 'learning', 'virus', 'classes', 'Union', 'County', 'community', 'range', 'housing', 'sense', 'urban', 'life', 'best', 'hot', 'dogs', 'New', 'Jersey', 'Chief', 'told', 'felt', 'Mayor', 'Bill', 'de', 'turbulent', 'time', 'city', 'police', 'official', 'said', 'Chief', 'told', 'felt', 'Mayor', 'Bill', 'de', 'turbulent', 'time', 'city', 'police', 'official', 'said']\n",
      "Counter({'said': 4, 'police': 4, 'city': 3, 'pandemic': 3, 'men': 2, 'community': 2, 'less': 2, 'take': 2, 'claim': 2, 'people': 2, 'Black': 2, 'district': 2, 'school': 2, 'personal': 2, 'week': 2, 'Chief': 2, 'told': 2, 'felt': 2, 'Mayor': 2, 'Bill': 2, 'de': 2, 'turbulent': 2, 'time': 2, 'official': 2, 'Business': 1, 'seek': 1, 'Democratic': 1, 'nomination': 1, 'saying': 1, 'background': 1, 'would': 1, 'help': 1, 'economy': 1, 'recover': 1, 'Orthodox': 1, 'seen': 1, 'growing': 1, 'raucous': 1, 'faction': 1, 'young': 1, 'tired': 1, 'resentful': 1, 'secular': 1, 'five': 1, 'say': 1, 'similar': 1, 'university': 1, 'pay': 1, 'equity': 1, 'Federal': 1, 'gun': 1, 'initiative': 1, 'borough': 1, 'national': 1, 'debate': 1, 'law': 1, 'enforcement': 1, 'Cooper': 1, 'first': 1, 'man': 1, 'Central': 1, 'Park': 1, 'leash': 1, 'dog': 1, 'tried': 1, 'assault': 1, 'birthday': 1, 'event': 1, 'Long': 1, 'Island': 1, 'venue': 1, 'case': 1, 'white': 1, 'woman': 1, 'conversation': 1, 'Matter': 1, 'movement': 1, 'heavily': 1, 'chosen': 1, 'send': 1, 'back': 1, 'always': 1, 'deterrent': 1, 'highly': 1, 'queer': 1, 'identity': 1, 'love': 1, 'intimacy': 1, 'increasingly': 1, 'Inwood': 1, 'Summit': 1, 'Ferry': 1, 'piled': 1, 'hit': 1, 'hard': 1, 'feel': 1, 'powerless': 1, 'everything': 1, 'season': 1, 'cut': 1, 'short': 1, 'eligible': 1, 'ceremony': 1, 'place': 1, 'husband': 1, 'sole': 1, 'owner': 1, 'festive': 1, 'gathering': 1, 'gossiping': 1, 'spot': 1, 'sold': 1, 'Hill': 1, 'abstract': 1, 'political': 1, 'Reunion': 1, 'one': 1, 'seven': 1, 'stuck': 1, 'remote': 1, 'learning': 1, 'virus': 1, 'classes': 1, 'Union': 1, 'County': 1, 'range': 1, 'housing': 1, 'sense': 1, 'urban': 1, 'life': 1, 'best': 1, 'hot': 1, 'dogs': 1, 'New': 1, 'Jersey': 1})\n",
      "[('said', 4), ('police', 4), ('city', 3), ('pandemic', 3), ('men', 2), ('community', 2), ('less', 2), ('take', 2), ('claim', 2), ('people', 2)]\n",
      "[('curfew', 'NN'), ('major', 'JJ'), ('taking', 'VBG'), ('similar', 'JJ'), ('record', 'NN'), ('fill', 'NN'), ('See', 'NNP'), ('new', 'JJ'), ('around', 'IN'), ('world', 'NN'), ('See', 'NNP'), ('hot', 'JJ'), ('rural', 'JJ'), ('severe', 'JJ'), ('densely', 'RB'), ('Sun', 'NNP'), ('Belt', 'NNP'), ('summer', 'NN'), ('latest', 'JJS'), ('Judge', 'NNP'), ('Amy', 'NNP'), ('first', 'RB'), ('Supreme', 'NNP'), ('Court', 'NNP'), ('nominee', 'VBD'), ('profess', 'JJ'), ('independence', 'NN'), ('task', 'NN'), ('made', 'VBD'), ('far', 'RB'), ('complicated', 'VBN'), ('president', 'NN'), ('Judge', 'NNP'), ('Amy', 'NNP'), ('Senator', 'NNP'), ('Kamala', 'NNP'), ('negotiate', 'NN'), ('loaded', 'VBD'), ('nominee', 'JJ'), ('health', 'NN'), ('care', 'NN'), ('law', 'NN'), ('reassuring', 'VBG'), ('Senator', 'NNP'), ('Graham', 'NNP'), ('Judge', 'NNP'), ('Amy', 'NNP'), ('Senator', 'NNP'), ('Kamala', 'NNP'), ('known', 'VBN'), ('withering', 'VBG'), ('style', 'NN'), ('cut', 'NN'), ('restrained', 'VBD'), ('profile', 'IN'), ('Judge', 'NNP'), ('Amy', 'NNP'), ('another', 'DT'), ('bad', 'JJ'), ('day', 'NN'), ('president', 'NN'), ('analysis', 'NN'), ('recent', 'JJ'), ('polling', 'NN'), ('posted', 'VBD'), ('daily', 'JJ'), ('Election', 'NNP'), ('Day', 'NNP'), ('Joe', 'NNP'), ('significant', 'JJ'), ('financial', 'JJ'), ('advantage', 'NN'), ('President', 'NNP'), ('Trump', 'NNP'), ('million', 'CD'), ('vote', 'NN'), ('felony', 'NN'), ('latest', 'JJS'), ('misinformation', 'NN'), ('ballot', 'NN'), ('deep', 'JJ'), ('state', 'NN'), ('conspiracy', 'NN'), ('vote', 'NN'), ('authenticity', 'NN'), ('correspondence', 'NN'), ('article', 'NN'), ('could', 'MD'), ('independently', 'RB'), ('prominent', 'JJ'), ('figure', 'NN'), ('college', 'NN'), ('sports', 'NNS'), ('known', 'VBN'), ('infected', 'JJ'), ('school', 'NN'), ('athletic', 'JJ'), ('director', 'NN'), ('also', 'RB'), ('tested', 'VBD'), ('positive', 'JJ'), ('unique', 'JJ'), ('treatment', 'NN'), ('course', 'NN'), ('may', 'MD'), ('body', 'VB'), ('production', 'NN'), ('warn', 'JJ'), ('people', 'NNS'), ('birthday', 'VBP'), ('party', 'NN'), ('said', 'VBD'), ('well', 'RB'), ('limit', 'RB'), ('Long', 'NNP'), ('Island', 'NNP'), ('venue', 'NN'), ('said', 'VBD'), ('Amy', 'NNP'), ('Cooper', 'NNP'), ('police', 'NN'), ('twice', 'RB'), ('saying', 'VBG'), ('also', 'RB'), ('man', 'NN'), ('Central', 'NNP'), ('Park', 'NNP'), ('leash', 'NN'), ('dog', 'NN'), ('curfew', 'NN'), ('major', 'JJ'), ('taking', 'VBG'), ('similar', 'JJ'), ('record', 'NN'), ('fill', 'NN'), ('See', 'NNP'), ('new', 'JJ'), ('around', 'IN'), ('world', 'NN'), ('See', 'NNP'), ('hot', 'JJ'), ('rural', 'JJ'), ('severe', 'JJ'), ('densely', 'RB'), ('Sun', 'NNP'), ('Belt', 'NNP'), ('summer', 'NN'), ('latest', 'JJS'), ('Judge', 'NNP'), ('Amy', 'NNP'), ('first', 'RB'), ('Supreme', 'NNP'), ('Court', 'NNP'), ('nominee', 'VBD'), ('profess', 'JJ'), ('independence', 'NN'), ('task', 'NN'), ('made', 'VBD'), ('far', 'RB'), ('complicated', 'VBN'), ('president', 'NN'), ('Judge', 'NNP'), ('Amy', 'NNP'), ('Senator', 'NNP'), ('Kamala', 'NNP'), ('negotiate', 'NN'), ('loaded', 'VBD'), ('nominee', 'JJ'), ('health', 'NN'), ('care', 'NN'), ('law', 'NN'), ('reassuring', 'VBG'), ('Senator', 'NNP'), ('Graham', 'NNP'), ('Judge', 'NNP'), ('Amy', 'NNP'), ('Senator', 'NNP'), ('Kamala', 'NNP'), ('known', 'VBN'), ('withering', 'VBG'), ('style', 'NN'), ('cut', 'NN'), ('restrained', 'VBD'), ('profile', 'IN'), ('Judge', 'NNP'), ('Amy', 'NNP'), ('another', 'DT'), ('bad', 'JJ'), ('day', 'NN'), ('president', 'NN'), ('analysis', 'NN'), ('recent', 'JJ'), ('polling', 'NN'), ('posted', 'VBD'), ('daily', 'JJ'), ('Election', 'NNP'), ('Day', 'NNP'), ('Joe', 'NNP'), ('significant', 'JJ'), ('financial', 'JJ'), ('advantage', 'NN'), ('President', 'NNP'), ('Trump', 'NNP'), ('million', 'CD'), ('vote', 'NN'), ('felony', 'NN'), ('latest', 'JJS'), ('misinformation', 'NN'), ('ballot', 'NN'), ('deep', 'JJ'), ('state', 'NN'), ('conspiracy', 'NN'), ('vote', 'NN'), ('authenticity', 'NN'), ('correspondence', 'NN'), ('article', 'NN'), ('could', 'MD'), ('independently', 'RB'), ('prominent', 'JJ'), ('figure', 'NN'), ('college', 'NN'), ('sports', 'NNS'), ('known', 'VBN'), ('infected', 'JJ'), ('school', 'NN'), ('athletic', 'JJ'), ('director', 'NN'), ('also', 'RB'), ('tested', 'VBD'), ('positive', 'JJ'), ('unique', 'JJ'), ('treatment', 'NN'), ('course', 'NN'), ('may', 'MD'), ('body', 'VB'), ('production', 'NN'), ('warn', 'JJ'), ('people', 'NNS'), ('birthday', 'VBP'), ('party', 'NN'), ('said', 'VBD'), ('well', 'RB'), ('limit', 'RB'), ('Long', 'NNP'), ('Island', 'NNP'), ('venue', 'NN'), ('said', 'VBD'), ('Amy', 'NNP'), ('Cooper', 'NNP'), ('police', 'NN'), ('twice', 'RB'), ('saying', 'VBG'), ('also', 'RB'), ('man', 'NN'), ('Central', 'NNP'), ('Park', 'NNP'), ('leash', 'NN'), ('dog', 'NN')]\n",
      "[('NN', 84), ('NNP', 62), ('JJ', 40), ('RB', 18), ('VBD', 16), ('VBG', 8), ('VBN', 6), ('IN', 4), ('JJS', 4), ('MD', 4), ('NNS', 4), ('DT', 2), ('CD', 2), ('VB', 2), ('VBP', 2)]\n",
      "Black Matter; Black movement; increasingly week; intimacy week; week\n",
      "Ferry; week Summit; woman Black; Bill time; Bill turbulent; Chief\n",
      "Bill; Chief Mayor; Chief felt; Chief told; Mayor Bill; Mayor time;\n",
      "Mayor turbulent; felt Bill; felt Mayor; felt turbulent; time official;\n",
      "told Bill; told Mayor; told felt; turbulent official; turbulent time;\n",
      "city official; Bill city; time city; turbulent city; official said;\n",
      "time police; time said; turbulent police; police Black; police\n",
      "official; city police; city said; police said\n"
     ]
    }
   ],
   "source": [
    "_main_list5 = []\n",
    "for sentence5 in _news_list5:\n",
    "    _token_list5 = word_tokenize(sentence5)\n",
    "    for _token5 in _token_list5:\n",
    "        _main_list5.append(_token5)\n",
    "\n",
    "# Removing more punctuations to avoid it during bigram tagging\n",
    "_tokenized_word_punc5 = []\n",
    "for _each_word5 in _main_list5:\n",
    "    if(re.sub('[\\W\\_]','',_each_word5)):\n",
    "        _tokenized_word_punc5.append(_each_word5)\n",
    "\n",
    "\n",
    "##Stop-words:\n",
    "stopwords = nltk.corpus.stopwords.words('english')\n",
    "wordlist = nltk.corpus.words.words()\n",
    "content5 = [_nonstop_word5 for _nonstop_word5 in _tokenized_word_punc5 if _nonstop_word5.lower() in wordlist if _nonstop_word5.lower() not in stopwords]\n",
    "print(content5)\n",
    "\n",
    "## Most Common Words::\n",
    "_dict = {}\n",
    "count = 0\n",
    "_counter5 = Counter()\n",
    "for content_word in content5:\n",
    "    _counter5[content_word]+=1\n",
    "print(_counter5)\n",
    "_most_common_word5= _counter5.most_common(10)\n",
    "print(_most_common_word5)\n",
    "\n",
    "## PO-tagging and Freq Dist:\n",
    "_pos_tagged_words5 = nltk.pos_tag(content)\n",
    "print(_pos_tagged_words5)\n",
    "fdist5 = nltk.FreqDist(tag for (word, tag) in _pos_tagged_words5)\n",
    "print(fdist5.most_common())\n",
    "\n",
    "## Collacations:\n",
    "_collac_text5 = nltk.Text(content5)\n",
    "_collac_text5.collocations(num=100,window_size=5)\n"
   ]
  },
  {
   "cell_type": "code",
   "execution_count": 290,
   "metadata": {},
   "outputs": [
    {
     "data": {
      "text/plain": [
       "'https://www.nytimes.com/section/business'"
      ]
     },
     "execution_count": 290,
     "metadata": {},
     "output_type": "execute_result"
    }
   ],
   "source": [
    "_total_links[4]"
   ]
  },
  {
   "cell_type": "code",
   "execution_count": 305,
   "metadata": {},
   "outputs": [
    {
     "name": "stdout",
     "output_type": "stream",
     "text": [
      "All Headlines on News:::###\n",
      "Headlines: YouTube Cracks Down on QAnon Conspiracy Theory, Citing Offline Violence\n",
      "Story:: YouTube has played a bigger role in moving QAnon from the fringes to the mainstream than most platforms.\n",
      "Headlines: Black Products. Black Shoppers. Black Workers. But Who Owns the Store?\n",
      "Story:: At a Chicago beauty supply shop, one American dream has come true. Another is still waiting for its chance.\n",
      "Headlines: New State Jobless Claims Surge as Employers Shed Jobs: Live Updates\n",
      "Story:: \n",
      "Headlines: U.S. Investigates Vaxart’s Claims Related to Covid-19 Vaccine\n",
      "Story:: The biotech firm said it was under scrutiny about claims it made on its involvement in Operation Warp Speed, the federal program to develop Covid-19 cures.\n",
      "Headlines: How Green Is That Electric Car? And When It Hits 100 M.P.H.?\n",
      "Story:: The Tesla Model S and the Porsche Taycan give environmentally conscious speedsters an outlet for their desires.\n",
      "Headlines: How to Deal With a Crisis of Misinformation\n",
      "Story:: False news is on the rise. We can fight the spread with a simple exercise: Slow down and be skeptical.\n",
      "Headlines: BTS Management’s Stock Soars on First Day of Trading\n",
      "Story:: Shares in Big Hit, the company behind the K-pop phenomenon, opened at more than double the offering price, then jumped 30 percent in early trading before finishing down on the day.\n",
      "Headlines: Bank Earnings Show Diverging Fortunes on Wall Street and Main Street\n",
      "Story:: Trading activity gave the big banks a boost while their consumer businesses slumped. And they aren’t counting on more stimulus, either.\n",
      "Headlines: Motel 6 and Home Depot Drop Ad Agency After Its Founder Calls Ad ‘Too Black’\n",
      "Story:: Stan Richards, the 87-year-old founder of the Richards Group, criticized the diversity of a proposed Motel 6 ad and commented on white supremacists.\n",
      "Top Headlines:: YouTube Cracks Down on QAnon Conspiracy Theory, Citing Offline Violence\n",
      "Top Headlines:: Black Products. Black Shoppers. Black Workers. But Who Owns the Store?\n",
      "Top Headlines:: New State Jobless Claims Surge as Employers Shed Jobs: Live Updates\n",
      "Top Headlines:: U.S. Investigates Vaxart’s Claims Related to Covid-19 Vaccine\n",
      "Top Headlines:: How Green Is That Electric Car? And When It Hits 100 M.P.H.?\n",
      "Top Headlines:: How to Deal With a Crisis of Misinformation\n",
      "Top Headlines:: BTS Management’s Stock Soars on First Day of Trading\n",
      "Top Headlines:: Bank Earnings Show Diverging Fortunes on Wall Street and Main Street\n",
      "Top Headlines:: Motel 6 and Home Depot Drop Ad Agency After Its Founder Calls Ad ‘Too Black’\n",
      "For the Latest Updates from Business Page#####\n",
      "Live Updates Headlines: Store Workers to Get New Training: How to Handle Fights Over Masks\n",
      "updates:: The biggest U.S. retail trade group will offer the Covid-19 Customer Conflict Prevention credential to help de-escalate disputes.\n",
      "Live Updates Headlines: These Traders Got the Jump on the Pandemic\n",
      "updates:: Private White House briefings were shared with investors who made fortuitous bets against the market in late February.\n",
      "Live Updates Headlines: Tonight’s Dueling Town Halls: How to Watch\n",
      "updates:: President Trump and Joe Biden will appear at simultaneous televised forums on Thursday night, starting at 8 p.m. Eastern time.\n",
      "Live Updates Headlines: Your Local Bookstore Wants You to Know That It’s Struggling\n",
      "updates:: Independent booksellers are desperate for customers to return, and not just for an online reading.\n",
      "Live Updates Headlines: Rethinking Retirement\n",
      "updates:: The days and nights and years could be long — if you’re lucky. Here are some tips to make them meaningful, too.\n",
      "Live Updates Headlines: As Virus Spread, Reports of Trump Administration’s Private Briefings Fueled Sell-Off\n",
      "updates:: A hedge fund consultant’s summary of private presentations by White House economic advisers fanned investor worries.\n",
      "Live Updates Headlines: Scientists Synthesize Jawbones From Pig Fat\n",
      "updates:: The bones are among the hardest to replace in the body. A trial of the new technique in humans is about to begin.\n",
      "Live Updates Headlines: Trump Overstates W.H.O. Position on Lockdowns\n",
      "updates:: The health organization said it continued to advocate a “do it all” approach, including shutdowns when necessary.\n",
      "Live Updates Headlines: Gadgets Were on the Way Out. Then 2020 Happened.\n",
      "updates:: A brutally unexpected year turned millions of people into gear nerds, whether they liked it or not.\n",
      "Live Updates Headlines: 3 Covid-19 Trials Have Been Paused for Safety. That’s a Good Thing.\n",
      "updates:: Experts were comforted that companies are following safety precautions. They pointed out that pauses in vaccine trials are common, but pauses in treatment trials like Eli Lilly’s are rare.\n"
     ]
    }
   ],
   "source": [
    "html = uReq(_total_links[4])\n",
    "page_soup6 = soup(html.read(), 'html.parser');\n",
    "_news_list6 = []\n",
    "_business =  page_soup6.find('section', attrs={'id':'collection-highlights-container'}).findAll(\"article\")\n",
    "\n",
    "print(\"All Headlines on News:::###\")\n",
    "for _businessnews in _business:\n",
    "    print(\"Headlines:\",_businessnews.find('h2').find('a').get_text())\n",
    "    print(\"Story::\",_businessnews.find('p').get_text())\n",
    "    _news_list6.append(_businessnews.find('p').get_text())\n",
    "\n",
    "## Top Headlines::\n",
    "for _businessnews in _business:\n",
    "    for _highlit in _businessnews:\n",
    "        x1 = _highlit.find('h2')\n",
    "        if x1 != None:\n",
    "            _headlines =  x1.find('a')\n",
    "            print(\"Top Headlines::\",_headlines.get_text())\n",
    "    \n",
    "    \n",
    "\n",
    "print(\"For the Latest Updates from Business Page#####\")\n",
    "_businesslatestnews =  page_soup6.find('section', attrs={'id':'stream-panel'}).findAll(\"li\")\n",
    "for _bslnews in _businesslatestnews:\n",
    "    _bslheadings = _bslnews.find(\"a\").find(\"h2\")\n",
    "    _bslstorys = _bslnews.find(\"a\").find(\"p\")\n",
    "    if (_bslheadings != None and _bslstorys !=None):\n",
    "        _bslheading = _bslheadings.get_text()\n",
    "        _bslstory =  _bslstorys.get_text()\n",
    "        print(\"Live Updates Headlines:\",_bslheading)\n",
    "        print(\"updates::\",_bslstory)\n",
    "    _news_list6.append(_bslstory)"
   ]
  },
  {
   "cell_type": "code",
   "execution_count": 306,
   "metadata": {},
   "outputs": [
    {
     "name": "stdout",
     "output_type": "stream",
     "text": [
      "['Business', 'seek', 'Democratic', 'nomination', 'saying', 'background', 'would', 'help', 'city', 'economy', 'recover', 'pandemic', 'Orthodox', 'seen', 'growing', 'raucous', 'faction', 'young', 'men', 'community', 'tired', 'pandemic', 'resentful', 'secular', 'five', 'say', 'less', 'men', 'similar', 'university', 'pay', 'equity', 'Federal', 'take', 'gun', 'initiative', 'borough', 'national', 'debate', 'law', 'enforcement', 'said', 'Cooper', 'police', 'first', 'claim', 'man', 'Central', 'Park', 'leash', 'dog', 'claim', 'tried', 'assault', 'people', 'birthday', 'event', 'said', 'Long', 'Island', 'venue', 'case', 'white', 'woman', 'police', 'Black', 'conversation', 'Black', 'Matter', 'movement', 'heavily', 'district', 'chosen', 'send', 'back', 'school', 'people', 'always', 'deterrent', 'highly', 'personal', 'queer', 'identity', 'love', 'intimacy', 'increasingly', 'week', 'Inwood', 'week', 'Summit', 'Ferry', 'piled', 'hit', 'hard', 'feel', 'powerless', 'everything', 'season', 'cut', 'short', 'pandemic', 'eligible', 'ceremony', 'take', 'place', 'husband', 'sole', 'owner', 'festive', 'gathering', 'gossiping', 'spot', 'sold', 'Hill', 'less', 'abstract', 'political', 'personal', 'Reunion', 'one', 'school', 'district', 'seven', 'stuck', 'remote', 'learning', 'virus', 'classes', 'Union', 'County', 'community', 'range', 'housing', 'sense', 'urban', 'life', 'best', 'hot', 'dogs', 'New', 'Jersey', 'Chief', 'told', 'felt', 'Mayor', 'Bill', 'de', 'turbulent', 'time', 'city', 'police', 'official', 'said', 'Chief', 'told', 'felt', 'Mayor', 'Bill', 'de', 'turbulent', 'time', 'city', 'police', 'official', 'said']\n",
      "Counter({'said': 4, 'police': 4, 'city': 3, 'pandemic': 3, 'men': 2, 'community': 2, 'less': 2, 'take': 2, 'claim': 2, 'people': 2, 'Black': 2, 'district': 2, 'school': 2, 'personal': 2, 'week': 2, 'Chief': 2, 'told': 2, 'felt': 2, 'Mayor': 2, 'Bill': 2, 'de': 2, 'turbulent': 2, 'time': 2, 'official': 2, 'Business': 1, 'seek': 1, 'Democratic': 1, 'nomination': 1, 'saying': 1, 'background': 1, 'would': 1, 'help': 1, 'economy': 1, 'recover': 1, 'Orthodox': 1, 'seen': 1, 'growing': 1, 'raucous': 1, 'faction': 1, 'young': 1, 'tired': 1, 'resentful': 1, 'secular': 1, 'five': 1, 'say': 1, 'similar': 1, 'university': 1, 'pay': 1, 'equity': 1, 'Federal': 1, 'gun': 1, 'initiative': 1, 'borough': 1, 'national': 1, 'debate': 1, 'law': 1, 'enforcement': 1, 'Cooper': 1, 'first': 1, 'man': 1, 'Central': 1, 'Park': 1, 'leash': 1, 'dog': 1, 'tried': 1, 'assault': 1, 'birthday': 1, 'event': 1, 'Long': 1, 'Island': 1, 'venue': 1, 'case': 1, 'white': 1, 'woman': 1, 'conversation': 1, 'Matter': 1, 'movement': 1, 'heavily': 1, 'chosen': 1, 'send': 1, 'back': 1, 'always': 1, 'deterrent': 1, 'highly': 1, 'queer': 1, 'identity': 1, 'love': 1, 'intimacy': 1, 'increasingly': 1, 'Inwood': 1, 'Summit': 1, 'Ferry': 1, 'piled': 1, 'hit': 1, 'hard': 1, 'feel': 1, 'powerless': 1, 'everything': 1, 'season': 1, 'cut': 1, 'short': 1, 'eligible': 1, 'ceremony': 1, 'place': 1, 'husband': 1, 'sole': 1, 'owner': 1, 'festive': 1, 'gathering': 1, 'gossiping': 1, 'spot': 1, 'sold': 1, 'Hill': 1, 'abstract': 1, 'political': 1, 'Reunion': 1, 'one': 1, 'seven': 1, 'stuck': 1, 'remote': 1, 'learning': 1, 'virus': 1, 'classes': 1, 'Union': 1, 'County': 1, 'range': 1, 'housing': 1, 'sense': 1, 'urban': 1, 'life': 1, 'best': 1, 'hot': 1, 'dogs': 1, 'New': 1, 'Jersey': 1})\n",
      "[('said', 4), ('police', 4), ('city', 3), ('pandemic', 3), ('men', 2), ('community', 2), ('less', 2), ('take', 2), ('claim', 2), ('people', 2)]\n",
      "[('curfew', 'NN'), ('major', 'JJ'), ('taking', 'VBG'), ('similar', 'JJ'), ('record', 'NN'), ('fill', 'NN'), ('See', 'NNP'), ('new', 'JJ'), ('around', 'IN'), ('world', 'NN'), ('See', 'NNP'), ('hot', 'JJ'), ('rural', 'JJ'), ('severe', 'JJ'), ('densely', 'RB'), ('Sun', 'NNP'), ('Belt', 'NNP'), ('summer', 'NN'), ('latest', 'JJS'), ('Judge', 'NNP'), ('Amy', 'NNP'), ('first', 'RB'), ('Supreme', 'NNP'), ('Court', 'NNP'), ('nominee', 'VBD'), ('profess', 'JJ'), ('independence', 'NN'), ('task', 'NN'), ('made', 'VBD'), ('far', 'RB'), ('complicated', 'VBN'), ('president', 'NN'), ('Judge', 'NNP'), ('Amy', 'NNP'), ('Senator', 'NNP'), ('Kamala', 'NNP'), ('negotiate', 'NN'), ('loaded', 'VBD'), ('nominee', 'JJ'), ('health', 'NN'), ('care', 'NN'), ('law', 'NN'), ('reassuring', 'VBG'), ('Senator', 'NNP'), ('Graham', 'NNP'), ('Judge', 'NNP'), ('Amy', 'NNP'), ('Senator', 'NNP'), ('Kamala', 'NNP'), ('known', 'VBN'), ('withering', 'VBG'), ('style', 'NN'), ('cut', 'NN'), ('restrained', 'VBD'), ('profile', 'IN'), ('Judge', 'NNP'), ('Amy', 'NNP'), ('another', 'DT'), ('bad', 'JJ'), ('day', 'NN'), ('president', 'NN'), ('analysis', 'NN'), ('recent', 'JJ'), ('polling', 'NN'), ('posted', 'VBD'), ('daily', 'JJ'), ('Election', 'NNP'), ('Day', 'NNP'), ('Joe', 'NNP'), ('significant', 'JJ'), ('financial', 'JJ'), ('advantage', 'NN'), ('President', 'NNP'), ('Trump', 'NNP'), ('million', 'CD'), ('vote', 'NN'), ('felony', 'NN'), ('latest', 'JJS'), ('misinformation', 'NN'), ('ballot', 'NN'), ('deep', 'JJ'), ('state', 'NN'), ('conspiracy', 'NN'), ('vote', 'NN'), ('authenticity', 'NN'), ('correspondence', 'NN'), ('article', 'NN'), ('could', 'MD'), ('independently', 'RB'), ('prominent', 'JJ'), ('figure', 'NN'), ('college', 'NN'), ('sports', 'NNS'), ('known', 'VBN'), ('infected', 'JJ'), ('school', 'NN'), ('athletic', 'JJ'), ('director', 'NN'), ('also', 'RB'), ('tested', 'VBD'), ('positive', 'JJ'), ('unique', 'JJ'), ('treatment', 'NN'), ('course', 'NN'), ('may', 'MD'), ('body', 'VB'), ('production', 'NN'), ('warn', 'JJ'), ('people', 'NNS'), ('birthday', 'VBP'), ('party', 'NN'), ('said', 'VBD'), ('well', 'RB'), ('limit', 'RB'), ('Long', 'NNP'), ('Island', 'NNP'), ('venue', 'NN'), ('said', 'VBD'), ('Amy', 'NNP'), ('Cooper', 'NNP'), ('police', 'NN'), ('twice', 'RB'), ('saying', 'VBG'), ('also', 'RB'), ('man', 'NN'), ('Central', 'NNP'), ('Park', 'NNP'), ('leash', 'NN'), ('dog', 'NN'), ('curfew', 'NN'), ('major', 'JJ'), ('taking', 'VBG'), ('similar', 'JJ'), ('record', 'NN'), ('fill', 'NN'), ('See', 'NNP'), ('new', 'JJ'), ('around', 'IN'), ('world', 'NN'), ('See', 'NNP'), ('hot', 'JJ'), ('rural', 'JJ'), ('severe', 'JJ'), ('densely', 'RB'), ('Sun', 'NNP'), ('Belt', 'NNP'), ('summer', 'NN'), ('latest', 'JJS'), ('Judge', 'NNP'), ('Amy', 'NNP'), ('first', 'RB'), ('Supreme', 'NNP'), ('Court', 'NNP'), ('nominee', 'VBD'), ('profess', 'JJ'), ('independence', 'NN'), ('task', 'NN'), ('made', 'VBD'), ('far', 'RB'), ('complicated', 'VBN'), ('president', 'NN'), ('Judge', 'NNP'), ('Amy', 'NNP'), ('Senator', 'NNP'), ('Kamala', 'NNP'), ('negotiate', 'NN'), ('loaded', 'VBD'), ('nominee', 'JJ'), ('health', 'NN'), ('care', 'NN'), ('law', 'NN'), ('reassuring', 'VBG'), ('Senator', 'NNP'), ('Graham', 'NNP'), ('Judge', 'NNP'), ('Amy', 'NNP'), ('Senator', 'NNP'), ('Kamala', 'NNP'), ('known', 'VBN'), ('withering', 'VBG'), ('style', 'NN'), ('cut', 'NN'), ('restrained', 'VBD'), ('profile', 'IN'), ('Judge', 'NNP'), ('Amy', 'NNP'), ('another', 'DT'), ('bad', 'JJ'), ('day', 'NN'), ('president', 'NN'), ('analysis', 'NN'), ('recent', 'JJ'), ('polling', 'NN'), ('posted', 'VBD'), ('daily', 'JJ'), ('Election', 'NNP'), ('Day', 'NNP'), ('Joe', 'NNP'), ('significant', 'JJ'), ('financial', 'JJ'), ('advantage', 'NN'), ('President', 'NNP'), ('Trump', 'NNP'), ('million', 'CD'), ('vote', 'NN'), ('felony', 'NN'), ('latest', 'JJS'), ('misinformation', 'NN'), ('ballot', 'NN'), ('deep', 'JJ'), ('state', 'NN'), ('conspiracy', 'NN'), ('vote', 'NN'), ('authenticity', 'NN'), ('correspondence', 'NN'), ('article', 'NN'), ('could', 'MD'), ('independently', 'RB'), ('prominent', 'JJ'), ('figure', 'NN'), ('college', 'NN'), ('sports', 'NNS'), ('known', 'VBN'), ('infected', 'JJ'), ('school', 'NN'), ('athletic', 'JJ'), ('director', 'NN'), ('also', 'RB'), ('tested', 'VBD'), ('positive', 'JJ'), ('unique', 'JJ'), ('treatment', 'NN'), ('course', 'NN'), ('may', 'MD'), ('body', 'VB'), ('production', 'NN'), ('warn', 'JJ'), ('people', 'NNS'), ('birthday', 'VBP'), ('party', 'NN'), ('said', 'VBD'), ('well', 'RB'), ('limit', 'RB'), ('Long', 'NNP'), ('Island', 'NNP'), ('venue', 'NN'), ('said', 'VBD'), ('Amy', 'NNP'), ('Cooper', 'NNP'), ('police', 'NN'), ('twice', 'RB'), ('saying', 'VBG'), ('also', 'RB'), ('man', 'NN'), ('Central', 'NNP'), ('Park', 'NNP'), ('leash', 'NN'), ('dog', 'NN')]\n",
      "[('NN', 84), ('NNP', 62), ('JJ', 40), ('RB', 18), ('VBD', 16), ('VBG', 8), ('VBN', 6), ('IN', 4), ('JJS', 4), ('MD', 4), ('NNS', 4), ('DT', 2), ('CD', 2), ('VB', 2), ('VBP', 2)]\n",
      "Black Matter; Black movement; increasingly week; intimacy week; week\n",
      "Ferry; week Summit; woman Black; Bill time; Bill turbulent; Chief\n",
      "Bill; Chief Mayor; Chief felt; Chief told; Mayor Bill; Mayor time;\n",
      "Mayor turbulent; felt Bill; felt Mayor; felt turbulent; time official;\n",
      "told Bill; told Mayor; told felt; turbulent official; turbulent time;\n",
      "city official; Bill city; time city; turbulent city; official said;\n",
      "time police; time said; turbulent police; police Black; police\n",
      "official; city police; city said; police said\n"
     ]
    }
   ],
   "source": [
    "_main_list5 = []\n",
    "for sentence5 in _news_list5:\n",
    "    _token_list5 = word_tokenize(sentence5)\n",
    "    for _token5 in _token_list5:\n",
    "        _main_list5.append(_token5)\n",
    "\n",
    "# Removing more punctuations to avoid it during bigram tagging\n",
    "_tokenized_word_punc5 = []\n",
    "for _each_word5 in _main_list5:\n",
    "    if(re.sub('[\\W\\_]','',_each_word5)):\n",
    "        _tokenized_word_punc5.append(_each_word5)\n",
    "\n",
    "\n",
    "##Stop-words:\n",
    "stopwords = nltk.corpus.stopwords.words('english')\n",
    "wordlist = nltk.corpus.words.words()\n",
    "content5 = [_nonstop_word5 for _nonstop_word5 in _tokenized_word_punc5 if _nonstop_word5.lower() in wordlist if _nonstop_word5.lower() not in stopwords]\n",
    "print(content5)\n",
    "\n",
    "## Most Common Words::\n",
    "_dict = {}\n",
    "count = 0\n",
    "_counter5 = Counter()\n",
    "for content_word in content5:\n",
    "    _counter5[content_word]+=1\n",
    "print(_counter5)\n",
    "_most_common_word5= _counter5.most_common(10)\n",
    "print(_most_common_word5)\n",
    "\n",
    "## PO-tagging and Freq Dist:\n",
    "_pos_tagged_words5 = nltk.pos_tag(content)\n",
    "print(_pos_tagged_words5)\n",
    "fdist5 = nltk.FreqDist(tag for (word, tag) in _pos_tagged_words5)\n",
    "print(fdist5.most_common())\n",
    "\n",
    "## Collacations:\n",
    "_collac_text5 = nltk.Text(content5)\n",
    "_collac_text5.collocations(num=100,window_size=5)\n"
   ]
  },
  {
   "cell_type": "code",
   "execution_count": 326,
   "metadata": {},
   "outputs": [
    {
     "name": "stdout",
     "output_type": "stream",
     "text": [
      "All Headlines on News:::###\n",
      "Headlines: Republican Judges Are Quietly Upending Public Health Laws\n",
      "Story:: A catastrophic sequence of decisions has blocked states from responding to the pandemic.\n",
      "Headlines: Let Kids Have Halloween\n",
      "Story:: They’ve suffered enough.\n",
      "Headlines: Can Big Tech Prevent Meddling in the 2020 Election?\n",
      "Story:: Facebook’s former chief security officer on what Big Tech needs to do for a free(r) and fair(er) election.\n",
      "Headlines: Will We Choose the Right Side of History?\n",
      "Story:: In Amy Coney Barrett, Republicans are once again backing a Supreme Court nominee who could take us backward.\n",
      "Headlines: Planned Parenthood’s Plan for Amy Coney Barrett\n",
      "Story:: As one woman, Supreme Court nominee Amy Coney Barrett, stands ready to derail reproductive rights, another, Planned Parenthood President Alexis McGill Johnson, stands ready to defend them.\n",
      "Headlines: Rod Rosenstein Was Just Doing His Job\n",
      "Story:: Does that really excuse him for his role in the Trump administration’s family separation policy?\n",
      "Headlines: My Brother Died and Reminded Me of These Life Lessons\n",
      "Story:: I went home to celebrate Frederick’s glorious life and was forced to reflect on my own.\n",
      "Headlines: Jacob Blake Is My Nephew. My Family Is Suffering.\n",
      "Story:: Police violence takes a largely invisible toll on Black families.\n",
      "Headlines: Votes, Sex and Money\n",
      "Story:: Senators, I’m looking at you.\n",
      "Top Headlines:: Republican Judges Are Quietly Upending Public Health Laws\n",
      "Top Headlines:: Let Kids Have Halloween\n",
      "Top Headlines:: Can Big Tech Prevent Meddling in the 2020 Election?\n",
      "Top Headlines:: Will We Choose the Right Side of History?\n",
      "Top Headlines:: Planned Parenthood’s Plan for Amy Coney Barrett\n",
      "Top Headlines:: Rod Rosenstein Was Just Doing His Job\n",
      "Top Headlines:: My Brother Died and Reminded Me of These Life Lessons\n",
      "Top Headlines:: Jacob Blake Is My Nephew. My Family Is Suffering.\n",
      "Top Headlines:: Votes, Sex and Money\n",
      "For the Latest Updates from Business Page#####\n",
      "Live Updates Headlines: Amy Coney Barrett on the Court: What’s at Stake\n",
      "updates:: Readers discuss some of the issues involved in the nomination: business deregulation, abortion, radical conservatism and religious belief.\n",
      "Live Updates Headlines: How Turkey’s Military Adventures Decrease Freedom at Home\n",
      "updates:: Involvement in regional conflicts such as the dispute between Azerbaijan and Armenia has whipped up nationalist fervor and obliterated space for advocates of peace and democracy.\n",
      "Live Updates Headlines: Can Big Tech Prevent Meddling in the 2020 Election?\n",
      "updates:: Facebook’s former chief security officer on what Big Tech needs to do for a free(r) and fair(er) election.\n",
      "Live Updates Headlines: Stop Othering Latinos\n",
      "updates:: Candidates need to adjust their strategies to appeal to the wide spectrum of American Hispanics.\n",
      "Live Updates Headlines: Mark Zuckerberg’s ‘Evolving’ Position on Holocaust Denial\n",
      "updates:: Facebook’s new moves to stop the lies and conspiracy theories seem more random than rigorous.\n",
      "Live Updates Headlines: Stop Persecuting Black and Brown Girls in School\n",
      "updates:: A nonprofit that works with teenagers says “sassy” attitudes are really an expression of strength. Also: The toll Covid takes on women; undocumented domestic workers.\n",
      "Live Updates Headlines: ‘Judges Judge, Which Is Why Their Personal Philosophies Matter’\n",
      "updates:: Readers discuss the Affordable Care Act, abortion and how the Democrats were “snookered.”\n",
      "Live Updates Headlines: Bye-bye, Lindsey Graham? Jaime Harrison Chases a Democratic Dream\n",
      "updates:: South Carolina’s Senate race is a national obsession.\n",
      "Live Updates Headlines: It’s Not Easy Being an Optimist in Maine\n",
      "updates:: We have late-spring storms and high-stakes Senate races. But we also have lobster and Patty Griffin.\n",
      "Live Updates Headlines: Trump’s Taxes Were Not a Flaw in the System\n",
      "updates:: For a more equitable system, we need a simpler and fairer tax code.\n"
     ]
    }
   ],
   "source": [
    "html = uReq(_total_links[5])\n",
    "page_soup7 = soup(html.read(), 'html.parser');\n",
    "_news_list7 = []\n",
    "_opinions =  page_soup7.find('section', attrs={'id':'collection-highlights-container'}).findAll(\"article\")\n",
    "\n",
    "print(\"All Headlines on News:::###\")\n",
    "for _opinionsnews in _opinions:\n",
    "    print(\"Headlines:\",_opinionsnews.find('h2').find('a').get_text())\n",
    "    print(\"Story::\",_opinionsnews.find('p').get_text())\n",
    "    _news_list7.append(_opinionsnews.find('p').get_text())\n",
    "\n",
    "## Top Headlines::\n",
    "for _opinionssnews in _opinions:\n",
    "    for _highlit in _opinionssnews:\n",
    "        x1 = _highlit.find('h2')\n",
    "        if x1 != None:\n",
    "            _headlines =  x1.find('a')\n",
    "            print(\"Top Headlines::\",_headlines.get_text())\n",
    "    \n",
    "    \n",
    "\n",
    "print(\"For the Latest Updates from Business Page#####\")\n",
    "_opinionslatestnews =  page_soup7.find('section', attrs={'id':'stream-panel'}).findAll(\"li\")\n",
    "for _opinionlnews in _opinionslatestnews:\n",
    "    _opinionheadings = _opinionlnews.find(\"a\").find(\"h2\")\n",
    "    _opinionlstorys = _opinionlnews.find(\"a\").find(\"p\")\n",
    "    if (_opinionheadings != None and _opinionlstorys !=None):\n",
    "        _opinionlheading = _opinionheadings.get_text()\n",
    "        _opinionlstory =  _opinionlstorys.get_text()\n",
    "        print(\"Live Updates Headlines:\",_opinionlheading)\n",
    "        print(\"updates::\",_opinionlstory)\n",
    "    _news_list7.append(_opinionlstory)"
   ]
  },
  {
   "cell_type": "code",
   "execution_count": 327,
   "metadata": {},
   "outputs": [
    {
     "name": "stdout",
     "output_type": "stream",
     "text": [
      "['catastrophic', 'sequence', 'blocked', 'pandemic', 'enough', 'former', 'chief', 'security', 'officer', 'Big', 'Tech', 'needs', 'free', 'r', 'fair', 'er', 'election', 'Amy', 'backing', 'Supreme', 'Court', 'nominee', 'could', 'take', 'us', 'backward', 'one', 'woman', 'Supreme', 'Court', 'nominee', 'Amy', 'ready', 'derail', 'reproductive', 'another', 'Parenthood', 'President', 'ready', 'defend', 'really', 'excuse', 'role', 'Trump', 'administration', 'family', 'separation', 'policy', 'went', 'home', 'celebrate', 'glorious', 'life', 'forced', 'reflect', 'Police', 'violence', 'largely', 'invisible', 'toll', 'Black', 'looking', 'discuss', 'involved', 'nomination', 'business', 'abortion', 'radical', 'conservatism', 'religious', 'belief', 'Involvement', 'regional', 'dispute', 'whipped', 'nationalist', 'fervor', 'space', 'peace', 'democracy', 'former', 'chief', 'security', 'officer', 'Big', 'Tech', 'needs', 'free', 'r', 'fair', 'er', 'election', 'need', 'adjust', 'appeal', 'wide', 'spectrum', 'new', 'stop', 'conspiracy', 'seem', 'random', 'rigorous', 'nonprofit', 'works', 'sassy', 'really', 'expression', 'strength', 'Also', 'toll', 'Covid', 'undocumented', 'domestic', 'discuss', 'Affordable', 'Care', 'Act', 'abortion', 'snookered', 'South', 'Senate', 'race', 'national', 'obsession', 'Senate', 'also', 'lobster', 'Patty', 'Griffin', 'equitable', 'system', 'need', 'simpler', 'fairer', 'tax', 'code']\n",
      "Counter({'former': 2, 'chief': 2, 'security': 2, 'officer': 2, 'Big': 2, 'Tech': 2, 'needs': 2, 'free': 2, 'r': 2, 'fair': 2, 'er': 2, 'election': 2, 'Amy': 2, 'Supreme': 2, 'Court': 2, 'nominee': 2, 'ready': 2, 'really': 2, 'toll': 2, 'discuss': 2, 'abortion': 2, 'need': 2, 'Senate': 2, 'catastrophic': 1, 'sequence': 1, 'blocked': 1, 'pandemic': 1, 'enough': 1, 'backing': 1, 'could': 1, 'take': 1, 'us': 1, 'backward': 1, 'one': 1, 'woman': 1, 'derail': 1, 'reproductive': 1, 'another': 1, 'Parenthood': 1, 'President': 1, 'defend': 1, 'excuse': 1, 'role': 1, 'Trump': 1, 'administration': 1, 'family': 1, 'separation': 1, 'policy': 1, 'went': 1, 'home': 1, 'celebrate': 1, 'glorious': 1, 'life': 1, 'forced': 1, 'reflect': 1, 'Police': 1, 'violence': 1, 'largely': 1, 'invisible': 1, 'Black': 1, 'looking': 1, 'involved': 1, 'nomination': 1, 'business': 1, 'radical': 1, 'conservatism': 1, 'religious': 1, 'belief': 1, 'Involvement': 1, 'regional': 1, 'dispute': 1, 'whipped': 1, 'nationalist': 1, 'fervor': 1, 'space': 1, 'peace': 1, 'democracy': 1, 'adjust': 1, 'appeal': 1, 'wide': 1, 'spectrum': 1, 'new': 1, 'stop': 1, 'conspiracy': 1, 'seem': 1, 'random': 1, 'rigorous': 1, 'nonprofit': 1, 'works': 1, 'sassy': 1, 'expression': 1, 'strength': 1, 'Also': 1, 'Covid': 1, 'undocumented': 1, 'domestic': 1, 'Affordable': 1, 'Care': 1, 'Act': 1, 'snookered': 1, 'South': 1, 'race': 1, 'national': 1, 'obsession': 1, 'also': 1, 'lobster': 1, 'Patty': 1, 'Griffin': 1, 'equitable': 1, 'system': 1, 'simpler': 1, 'fairer': 1, 'tax': 1, 'code': 1})\n",
      "[('former', 2), ('chief', 2), ('security', 2), ('officer', 2), ('Big', 2), ('Tech', 2), ('needs', 2), ('free', 2), ('r', 2), ('fair', 2)]\n",
      "[('curfew', 'NN'), ('major', 'JJ'), ('taking', 'VBG'), ('similar', 'JJ'), ('record', 'NN'), ('fill', 'NN'), ('See', 'NNP'), ('new', 'JJ'), ('around', 'IN'), ('world', 'NN'), ('See', 'NNP'), ('hot', 'JJ'), ('rural', 'JJ'), ('severe', 'JJ'), ('densely', 'RB'), ('Sun', 'NNP'), ('Belt', 'NNP'), ('summer', 'NN'), ('latest', 'JJS'), ('Judge', 'NNP'), ('Amy', 'NNP'), ('first', 'RB'), ('Supreme', 'NNP'), ('Court', 'NNP'), ('nominee', 'VBD'), ('profess', 'JJ'), ('independence', 'NN'), ('task', 'NN'), ('made', 'VBD'), ('far', 'RB'), ('complicated', 'VBN'), ('president', 'NN'), ('Judge', 'NNP'), ('Amy', 'NNP'), ('Senator', 'NNP'), ('Kamala', 'NNP'), ('negotiate', 'NN'), ('loaded', 'VBD'), ('nominee', 'JJ'), ('health', 'NN'), ('care', 'NN'), ('law', 'NN'), ('reassuring', 'VBG'), ('Senator', 'NNP'), ('Graham', 'NNP'), ('Judge', 'NNP'), ('Amy', 'NNP'), ('Senator', 'NNP'), ('Kamala', 'NNP'), ('known', 'VBN'), ('withering', 'VBG'), ('style', 'NN'), ('cut', 'NN'), ('restrained', 'VBD'), ('profile', 'IN'), ('Judge', 'NNP'), ('Amy', 'NNP'), ('another', 'DT'), ('bad', 'JJ'), ('day', 'NN'), ('president', 'NN'), ('analysis', 'NN'), ('recent', 'JJ'), ('polling', 'NN'), ('posted', 'VBD'), ('daily', 'JJ'), ('Election', 'NNP'), ('Day', 'NNP'), ('Joe', 'NNP'), ('significant', 'JJ'), ('financial', 'JJ'), ('advantage', 'NN'), ('President', 'NNP'), ('Trump', 'NNP'), ('million', 'CD'), ('vote', 'NN'), ('felony', 'NN'), ('latest', 'JJS'), ('misinformation', 'NN'), ('ballot', 'NN'), ('deep', 'JJ'), ('state', 'NN'), ('conspiracy', 'NN'), ('vote', 'NN'), ('authenticity', 'NN'), ('correspondence', 'NN'), ('article', 'NN'), ('could', 'MD'), ('independently', 'RB'), ('prominent', 'JJ'), ('figure', 'NN'), ('college', 'NN'), ('sports', 'NNS'), ('known', 'VBN'), ('infected', 'JJ'), ('school', 'NN'), ('athletic', 'JJ'), ('director', 'NN'), ('also', 'RB'), ('tested', 'VBD'), ('positive', 'JJ'), ('unique', 'JJ'), ('treatment', 'NN'), ('course', 'NN'), ('may', 'MD'), ('body', 'VB'), ('production', 'NN'), ('warn', 'JJ'), ('people', 'NNS'), ('birthday', 'VBP'), ('party', 'NN'), ('said', 'VBD'), ('well', 'RB'), ('limit', 'RB'), ('Long', 'NNP'), ('Island', 'NNP'), ('venue', 'NN'), ('said', 'VBD'), ('Amy', 'NNP'), ('Cooper', 'NNP'), ('police', 'NN'), ('twice', 'RB'), ('saying', 'VBG'), ('also', 'RB'), ('man', 'NN'), ('Central', 'NNP'), ('Park', 'NNP'), ('leash', 'NN'), ('dog', 'NN'), ('curfew', 'NN'), ('major', 'JJ'), ('taking', 'VBG'), ('similar', 'JJ'), ('record', 'NN'), ('fill', 'NN'), ('See', 'NNP'), ('new', 'JJ'), ('around', 'IN'), ('world', 'NN'), ('See', 'NNP'), ('hot', 'JJ'), ('rural', 'JJ'), ('severe', 'JJ'), ('densely', 'RB'), ('Sun', 'NNP'), ('Belt', 'NNP'), ('summer', 'NN'), ('latest', 'JJS'), ('Judge', 'NNP'), ('Amy', 'NNP'), ('first', 'RB'), ('Supreme', 'NNP'), ('Court', 'NNP'), ('nominee', 'VBD'), ('profess', 'JJ'), ('independence', 'NN'), ('task', 'NN'), ('made', 'VBD'), ('far', 'RB'), ('complicated', 'VBN'), ('president', 'NN'), ('Judge', 'NNP'), ('Amy', 'NNP'), ('Senator', 'NNP'), ('Kamala', 'NNP'), ('negotiate', 'NN'), ('loaded', 'VBD'), ('nominee', 'JJ'), ('health', 'NN'), ('care', 'NN'), ('law', 'NN'), ('reassuring', 'VBG'), ('Senator', 'NNP'), ('Graham', 'NNP'), ('Judge', 'NNP'), ('Amy', 'NNP'), ('Senator', 'NNP'), ('Kamala', 'NNP'), ('known', 'VBN'), ('withering', 'VBG'), ('style', 'NN'), ('cut', 'NN'), ('restrained', 'VBD'), ('profile', 'IN'), ('Judge', 'NNP'), ('Amy', 'NNP'), ('another', 'DT'), ('bad', 'JJ'), ('day', 'NN'), ('president', 'NN'), ('analysis', 'NN'), ('recent', 'JJ'), ('polling', 'NN'), ('posted', 'VBD'), ('daily', 'JJ'), ('Election', 'NNP'), ('Day', 'NNP'), ('Joe', 'NNP'), ('significant', 'JJ'), ('financial', 'JJ'), ('advantage', 'NN'), ('President', 'NNP'), ('Trump', 'NNP'), ('million', 'CD'), ('vote', 'NN'), ('felony', 'NN'), ('latest', 'JJS'), ('misinformation', 'NN'), ('ballot', 'NN'), ('deep', 'JJ'), ('state', 'NN'), ('conspiracy', 'NN'), ('vote', 'NN'), ('authenticity', 'NN'), ('correspondence', 'NN'), ('article', 'NN'), ('could', 'MD'), ('independently', 'RB'), ('prominent', 'JJ'), ('figure', 'NN'), ('college', 'NN'), ('sports', 'NNS'), ('known', 'VBN'), ('infected', 'JJ'), ('school', 'NN'), ('athletic', 'JJ'), ('director', 'NN'), ('also', 'RB'), ('tested', 'VBD'), ('positive', 'JJ'), ('unique', 'JJ'), ('treatment', 'NN'), ('course', 'NN'), ('may', 'MD'), ('body', 'VB'), ('production', 'NN'), ('warn', 'JJ'), ('people', 'NNS'), ('birthday', 'VBP'), ('party', 'NN'), ('said', 'VBD'), ('well', 'RB'), ('limit', 'RB'), ('Long', 'NNP'), ('Island', 'NNP'), ('venue', 'NN'), ('said', 'VBD'), ('Amy', 'NNP'), ('Cooper', 'NNP'), ('police', 'NN'), ('twice', 'RB'), ('saying', 'VBG'), ('also', 'RB'), ('man', 'NN'), ('Central', 'NNP'), ('Park', 'NNP'), ('leash', 'NN'), ('dog', 'NN')]\n",
      "[('NN', 84), ('NNP', 62), ('JJ', 40), ('RB', 18), ('VBD', 16), ('VBG', 8), ('VBN', 6), ('IN', 4), ('JJS', 4), ('MD', 4), ('NNS', 4), ('DT', 2), ('CD', 2), ('VB', 2), ('VBP', 2)]\n",
      "Big Tech; Court nominee; Supreme Court; Tech needs; chief security;\n",
      "former chief; needs free; officer Big; security officer\n"
     ]
    }
   ],
   "source": [
    "_main_list6 = []\n",
    "for sentence6 in _news_list7:\n",
    "    _token_list6 = word_tokenize(sentence6)\n",
    "    for _token6 in _token_list6:\n",
    "        _main_list6.append(_token6)\n",
    "\n",
    "# Removing more punctuations to avoid it during bigram tagging\n",
    "_tokenized_word_punc6 = []\n",
    "for _each_word6 in _main_list6:\n",
    "    if(re.sub('[\\W\\_]','',_each_word6)):\n",
    "        _tokenized_word_punc6.append(_each_word6)\n",
    "\n",
    "\n",
    "##Stop-words:\n",
    "stopwords = nltk.corpus.stopwords.words('english')\n",
    "wordlist = nltk.corpus.words.words()\n",
    "content6 = [_nonstop_word6 for _nonstop_word6 in _tokenized_word_punc6 if _nonstop_word6.lower() in wordlist if _nonstop_word6.lower() not in stopwords]\n",
    "print(content6)\n",
    "\n",
    "## Most Common Words::\n",
    "_dict = {}\n",
    "count = 0\n",
    "_counter6 = Counter()\n",
    "for content_word in content6:\n",
    "    _counter6[content_word]+=1\n",
    "print(_counter6)\n",
    "_most_common_word6= _counter6.most_common(10)\n",
    "print(_most_common_word6)\n",
    "\n",
    "## PO-tagging and Freq Dist:\n",
    "_pos_tagged_words6 = nltk.pos_tag(content)\n",
    "print(_pos_tagged_words6)\n",
    "fdist6 = nltk.FreqDist(tag for (word, tag) in _pos_tagged_words6)\n",
    "print(fdist6.most_common())\n",
    "\n",
    "## Collacations:\n",
    "_collac_text6 = nltk.Text(content6)\n",
    "_collac_text6.collocations(num=100,window_size=2)\n"
   ]
  },
  {
   "cell_type": "code",
   "execution_count": 330,
   "metadata": {},
   "outputs": [
    {
     "name": "stdout",
     "output_type": "stream",
     "text": [
      "All Headlines on News:::###\n",
      "Headlines: YouTube Cracks Down on QAnon Conspiracy Theory, Citing Offline Violence\n",
      "Story:: YouTube has played a bigger role in moving QAnon from the fringes to the mainstream than most platforms.\n",
      "Headlines: How to Deal With a Crisis of Misinformation\n",
      "Story:: False news is on the rise. We can fight the spread with a simple exercise: Slow down and be skeptical.\n",
      "Headlines: Riled Up: Misinformation Stokes Calls for Violence on Election Day\n",
      "Story:: Baseless claims are circulating online about a Democrat-led coup, inflaming tensions in an already turbulent election season.\n",
      "Headlines: Ignore Phone Companies About 5G\n",
      "Story:: The cellular networks might be life-changing in the future. Not today.\n",
      "Top Headlines:: Republican Judges Are Quietly Upending Public Health Laws\n",
      "Top Headlines:: Let Kids Have Halloween\n",
      "Top Headlines:: Can Big Tech Prevent Meddling in the 2020 Election?\n",
      "Top Headlines:: Will We Choose the Right Side of History?\n",
      "Top Headlines:: Planned Parenthood’s Plan for Amy Coney Barrett\n",
      "Top Headlines:: Rod Rosenstein Was Just Doing His Job\n",
      "Top Headlines:: My Brother Died and Reminded Me of These Life Lessons\n",
      "Top Headlines:: Jacob Blake Is My Nephew. My Family Is Suffering.\n",
      "Top Headlines:: Votes, Sex and Money\n",
      "For the Latest Updates from Business Page#####\n",
      "Live Updates Headlines: With Nowhere to Go, Teens Flock to Among Us\n",
      "updates:: YouTubers, influencers and streamers popularized the multiplayer game. Then their fans started playing too.\n",
      "Live Updates Headlines: Trump Overstates W.H.O. Position on Lockdowns\n",
      "updates:: The health organization said it continued to advocate a “do it all” approach, including shutdowns when necessary.\n",
      "Live Updates Headlines: Gadgets Were on the Way Out. Then 2020 Happened.\n",
      "updates:: A brutally unexpected year turned millions of people into gear nerds, whether they liked it or not.\n",
      "Live Updates Headlines: Schools Struggle to Secure Computers\n",
      "updates:: Facing a laptop shortage, some schools have had to jump through hoops to make remote learning work.\n",
      "Live Updates Headlines: Finally, the First Room-Temperature Superconductor\n",
      "updates:: It conveys electricity in the climate of a crisp fall day, but only under pressures comparable to what you’d find closer to Earth’s core.\n",
      "Live Updates Headlines: Now Circulating on Social Media: 4 Election Falsehoods\n",
      "updates:: The misinformation touches on ballot boxes, the “deep state,” and a conspiracy involving the coronavirus and the vote.\n",
      "Live Updates Headlines: Prices of New iPhones Stay Largely Pat\n",
      "updates:: Apple did not markedly increase the cost of its newest devices from last year.\n",
      "Live Updates Headlines: Hello iPhone 12 and iPhone 12 Pro\n",
      "updates:: The newest iPhones have 5G capability and improved design features. But Apple was vague about just how much faster the phones would be.\n",
      "Live Updates Headlines: So, Should You Buy a New Phone or Not?\n",
      "updates:: Here are three steps to take to arrive at an answer.\n",
      "Live Updates Headlines: Apple Unveils a Smaller HomePod\n",
      "updates:: The company’s smart speaker product has not been as successful as Amazon Echo and Google Home.\n"
     ]
    }
   ],
   "source": [
    "html = uReq(_total_links[6])\n",
    "page_soup8 = soup(html.read(), 'html.parser');\n",
    "_news_list8 = []\n",
    "_technology =  page_soup8.find('section', attrs={'id':'collection-highlights-container'}).findAll(\"article\")\n",
    "\n",
    "print(\"All Headlines on News:::###\")\n",
    "for _technologynews in _technology:\n",
    "    print(\"Headlines:\",_technologynews.find('h2').find('a').get_text())\n",
    "    print(\"Story::\",_technologynews.find('p').get_text())\n",
    "    _news_list8.append(_technologynews.find('p').get_text())\n",
    "\n",
    "## Top Headlines::\n",
    "for _technologynews in _opinions:\n",
    "    for _highlit in _technologynews:\n",
    "        x1 = _highlit.find('h2')\n",
    "        if x1 != None:\n",
    "            _headlines =  x1.find('a')\n",
    "            print(\"Top Headlines::\",_headlines.get_text())\n",
    "    \n",
    "    \n",
    "\n",
    "print(\"For the Latest Updates from Business Page#####\")\n",
    "_technologynewslatestnews =  page_soup8.find('section', attrs={'id':'stream-panel'}).findAll(\"li\")\n",
    "for _techlnews in _technologynewslatestnews:\n",
    "    _techlheadings = _techlnews.find(\"a\").find(\"h2\")\n",
    "    _techlstorys = _techlnews.find(\"a\").find(\"p\")\n",
    "    if (_techlheadings != None and _techlstorys !=None):\n",
    "        _techlheading = _techlheadings.get_text()\n",
    "        _techlstory =  _techlstorys.get_text()\n",
    "        print(\"Live Updates Headlines:\",_techlheadings.get_text())\n",
    "        print(\"updates::\",_techlstorys.get_text())\n",
    "        _news_list8.append(_techlstory)\n",
    "    "
   ]
  },
  {
   "cell_type": "code",
   "execution_count": 332,
   "metadata": {},
   "outputs": [
    {
     "name": "stdout",
     "output_type": "stream",
     "text": [
      "['bigger', 'role', 'moving', 'False', 'news', 'rise', 'fight', 'spread', 'simple', 'exercise', 'Slow', 'skeptical', 'Baseless', 'coup', 'inflaming', 'already', 'turbulent', 'election', 'season', 'cellular', 'might', 'future', 'today', 'game', 'health', 'organization', 'said', 'continued', 'advocate', 'approach', 'necessary', 'brutally', 'unexpected', 'year', 'turned', 'millions', 'people', 'gear', 'whether', 'Facing', 'shortage', 'jump', 'make', 'remote', 'learning', 'work', 'electricity', 'climate', 'crisp', 'fall', 'day', 'comparable', 'find', 'closer', 'Earth', 'core', 'misinformation', 'ballot', 'deep', 'state', 'conspiracy', 'vote', 'Apple', 'markedly', 'increase', 'cost', 'last', 'year', 'capability', 'design', 'Apple', 'vague', 'much', 'faster', 'would', 'three', 'take', 'arrive', 'answer', 'company', 'smart', 'speaker', 'product', 'successful', 'Echo', 'Home']\n",
      "Counter({'year': 2, 'Apple': 2, 'bigger': 1, 'role': 1, 'moving': 1, 'False': 1, 'news': 1, 'rise': 1, 'fight': 1, 'spread': 1, 'simple': 1, 'exercise': 1, 'Slow': 1, 'skeptical': 1, 'Baseless': 1, 'coup': 1, 'inflaming': 1, 'already': 1, 'turbulent': 1, 'election': 1, 'season': 1, 'cellular': 1, 'might': 1, 'future': 1, 'today': 1, 'game': 1, 'health': 1, 'organization': 1, 'said': 1, 'continued': 1, 'advocate': 1, 'approach': 1, 'necessary': 1, 'brutally': 1, 'unexpected': 1, 'turned': 1, 'millions': 1, 'people': 1, 'gear': 1, 'whether': 1, 'Facing': 1, 'shortage': 1, 'jump': 1, 'make': 1, 'remote': 1, 'learning': 1, 'work': 1, 'electricity': 1, 'climate': 1, 'crisp': 1, 'fall': 1, 'day': 1, 'comparable': 1, 'find': 1, 'closer': 1, 'Earth': 1, 'core': 1, 'misinformation': 1, 'ballot': 1, 'deep': 1, 'state': 1, 'conspiracy': 1, 'vote': 1, 'markedly': 1, 'increase': 1, 'cost': 1, 'last': 1, 'capability': 1, 'design': 1, 'vague': 1, 'much': 1, 'faster': 1, 'would': 1, 'three': 1, 'take': 1, 'arrive': 1, 'answer': 1, 'company': 1, 'smart': 1, 'speaker': 1, 'product': 1, 'successful': 1, 'Echo': 1, 'Home': 1})\n",
      "[('year', 2), ('Apple', 2), ('bigger', 1), ('role', 1), ('moving', 1), ('False', 1), ('news', 1), ('rise', 1), ('fight', 1), ('spread', 1)]\n",
      "[('curfew', 'NN'), ('major', 'JJ'), ('taking', 'VBG'), ('similar', 'JJ'), ('record', 'NN'), ('fill', 'NN'), ('See', 'NNP'), ('new', 'JJ'), ('around', 'IN'), ('world', 'NN'), ('See', 'NNP'), ('hot', 'JJ'), ('rural', 'JJ'), ('severe', 'JJ'), ('densely', 'RB'), ('Sun', 'NNP'), ('Belt', 'NNP'), ('summer', 'NN'), ('latest', 'JJS'), ('Judge', 'NNP'), ('Amy', 'NNP'), ('first', 'RB'), ('Supreme', 'NNP'), ('Court', 'NNP'), ('nominee', 'VBD'), ('profess', 'JJ'), ('independence', 'NN'), ('task', 'NN'), ('made', 'VBD'), ('far', 'RB'), ('complicated', 'VBN'), ('president', 'NN'), ('Judge', 'NNP'), ('Amy', 'NNP'), ('Senator', 'NNP'), ('Kamala', 'NNP'), ('negotiate', 'NN'), ('loaded', 'VBD'), ('nominee', 'JJ'), ('health', 'NN'), ('care', 'NN'), ('law', 'NN'), ('reassuring', 'VBG'), ('Senator', 'NNP'), ('Graham', 'NNP'), ('Judge', 'NNP'), ('Amy', 'NNP'), ('Senator', 'NNP'), ('Kamala', 'NNP'), ('known', 'VBN'), ('withering', 'VBG'), ('style', 'NN'), ('cut', 'NN'), ('restrained', 'VBD'), ('profile', 'IN'), ('Judge', 'NNP'), ('Amy', 'NNP'), ('another', 'DT'), ('bad', 'JJ'), ('day', 'NN'), ('president', 'NN'), ('analysis', 'NN'), ('recent', 'JJ'), ('polling', 'NN'), ('posted', 'VBD'), ('daily', 'JJ'), ('Election', 'NNP'), ('Day', 'NNP'), ('Joe', 'NNP'), ('significant', 'JJ'), ('financial', 'JJ'), ('advantage', 'NN'), ('President', 'NNP'), ('Trump', 'NNP'), ('million', 'CD'), ('vote', 'NN'), ('felony', 'NN'), ('latest', 'JJS'), ('misinformation', 'NN'), ('ballot', 'NN'), ('deep', 'JJ'), ('state', 'NN'), ('conspiracy', 'NN'), ('vote', 'NN'), ('authenticity', 'NN'), ('correspondence', 'NN'), ('article', 'NN'), ('could', 'MD'), ('independently', 'RB'), ('prominent', 'JJ'), ('figure', 'NN'), ('college', 'NN'), ('sports', 'NNS'), ('known', 'VBN'), ('infected', 'JJ'), ('school', 'NN'), ('athletic', 'JJ'), ('director', 'NN'), ('also', 'RB'), ('tested', 'VBD'), ('positive', 'JJ'), ('unique', 'JJ'), ('treatment', 'NN'), ('course', 'NN'), ('may', 'MD'), ('body', 'VB'), ('production', 'NN'), ('warn', 'JJ'), ('people', 'NNS'), ('birthday', 'VBP'), ('party', 'NN'), ('said', 'VBD'), ('well', 'RB'), ('limit', 'RB'), ('Long', 'NNP'), ('Island', 'NNP'), ('venue', 'NN'), ('said', 'VBD'), ('Amy', 'NNP'), ('Cooper', 'NNP'), ('police', 'NN'), ('twice', 'RB'), ('saying', 'VBG'), ('also', 'RB'), ('man', 'NN'), ('Central', 'NNP'), ('Park', 'NNP'), ('leash', 'NN'), ('dog', 'NN'), ('curfew', 'NN'), ('major', 'JJ'), ('taking', 'VBG'), ('similar', 'JJ'), ('record', 'NN'), ('fill', 'NN'), ('See', 'NNP'), ('new', 'JJ'), ('around', 'IN'), ('world', 'NN'), ('See', 'NNP'), ('hot', 'JJ'), ('rural', 'JJ'), ('severe', 'JJ'), ('densely', 'RB'), ('Sun', 'NNP'), ('Belt', 'NNP'), ('summer', 'NN'), ('latest', 'JJS'), ('Judge', 'NNP'), ('Amy', 'NNP'), ('first', 'RB'), ('Supreme', 'NNP'), ('Court', 'NNP'), ('nominee', 'VBD'), ('profess', 'JJ'), ('independence', 'NN'), ('task', 'NN'), ('made', 'VBD'), ('far', 'RB'), ('complicated', 'VBN'), ('president', 'NN'), ('Judge', 'NNP'), ('Amy', 'NNP'), ('Senator', 'NNP'), ('Kamala', 'NNP'), ('negotiate', 'NN'), ('loaded', 'VBD'), ('nominee', 'JJ'), ('health', 'NN'), ('care', 'NN'), ('law', 'NN'), ('reassuring', 'VBG'), ('Senator', 'NNP'), ('Graham', 'NNP'), ('Judge', 'NNP'), ('Amy', 'NNP'), ('Senator', 'NNP'), ('Kamala', 'NNP'), ('known', 'VBN'), ('withering', 'VBG'), ('style', 'NN'), ('cut', 'NN'), ('restrained', 'VBD'), ('profile', 'IN'), ('Judge', 'NNP'), ('Amy', 'NNP'), ('another', 'DT'), ('bad', 'JJ'), ('day', 'NN'), ('president', 'NN'), ('analysis', 'NN'), ('recent', 'JJ'), ('polling', 'NN'), ('posted', 'VBD'), ('daily', 'JJ'), ('Election', 'NNP'), ('Day', 'NNP'), ('Joe', 'NNP'), ('significant', 'JJ'), ('financial', 'JJ'), ('advantage', 'NN'), ('President', 'NNP'), ('Trump', 'NNP'), ('million', 'CD'), ('vote', 'NN'), ('felony', 'NN'), ('latest', 'JJS'), ('misinformation', 'NN'), ('ballot', 'NN'), ('deep', 'JJ'), ('state', 'NN'), ('conspiracy', 'NN'), ('vote', 'NN'), ('authenticity', 'NN'), ('correspondence', 'NN'), ('article', 'NN'), ('could', 'MD'), ('independently', 'RB'), ('prominent', 'JJ'), ('figure', 'NN'), ('college', 'NN'), ('sports', 'NNS'), ('known', 'VBN'), ('infected', 'JJ'), ('school', 'NN'), ('athletic', 'JJ'), ('director', 'NN'), ('also', 'RB'), ('tested', 'VBD'), ('positive', 'JJ'), ('unique', 'JJ'), ('treatment', 'NN'), ('course', 'NN'), ('may', 'MD'), ('body', 'VB'), ('production', 'NN'), ('warn', 'JJ'), ('people', 'NNS'), ('birthday', 'VBP'), ('party', 'NN'), ('said', 'VBD'), ('well', 'RB'), ('limit', 'RB'), ('Long', 'NNP'), ('Island', 'NNP'), ('venue', 'NN'), ('said', 'VBD'), ('Amy', 'NNP'), ('Cooper', 'NNP'), ('police', 'NN'), ('twice', 'RB'), ('saying', 'VBG'), ('also', 'RB'), ('man', 'NN'), ('Central', 'NNP'), ('Park', 'NNP'), ('leash', 'NN'), ('dog', 'NN')]\n",
      "[('NN', 84), ('NNP', 62), ('JJ', 40), ('RB', 18), ('VBD', 16), ('VBG', 8), ('VBN', 6), ('IN', 4), ('JJS', 4), ('MD', 4), ('NNS', 4), ('DT', 2), ('CD', 2), ('VB', 2), ('VBP', 2)]\n",
      "\n"
     ]
    }
   ],
   "source": [
    "_main_list7 = []\n",
    "for sentence7 in _news_list8:\n",
    "    _token_list7 = word_tokenize(sentence7)\n",
    "    for _token7 in _token_list7:\n",
    "        _main_list7.append(_token7)\n",
    "\n",
    "# Removing more punctuations to avoid it during bigram tagging\n",
    "_tokenized_word_punc7 = []\n",
    "for _each_word7 in _main_list7:\n",
    "    if(re.sub('[\\W\\_]','',_each_word7)):\n",
    "        _tokenized_word_punc7.append(_each_word7)\n",
    "\n",
    "\n",
    "##Stop-words:\n",
    "stopwords = nltk.corpus.stopwords.words('english')\n",
    "wordlist = nltk.corpus.words.words()\n",
    "content7 = [_nonstop_word7 for _nonstop_word7 in _tokenized_word_punc7 if _nonstop_word7.lower() in wordlist if _nonstop_word7.lower() not in stopwords]\n",
    "print(content7)\n",
    "\n",
    "## Most Common Words::\n",
    "_dict = {}\n",
    "count = 0\n",
    "_counter7 = Counter()\n",
    "for content_word in content7:\n",
    "    _counter7[content_word]+=1\n",
    "print(_counter7)\n",
    "_most_common_word7= _counter7.most_common(10)\n",
    "print(_most_common_word7)\n",
    "\n",
    "## PO-tagging and Freq Dist:\n",
    "_pos_tagged_words7 = nltk.pos_tag(content)\n",
    "print(_pos_tagged_words7)\n",
    "fdist7 = nltk.FreqDist(tag for (word, tag) in _pos_tagged_words7)\n",
    "print(fdist7.most_common())\n",
    "\n",
    "## Collacations:\n",
    "_collac_text7 = nltk.Text(content7)\n",
    "_collac_text7.collocations(num=100,window_size=2)\n"
   ]
  },
  {
   "cell_type": "code",
   "execution_count": 340,
   "metadata": {},
   "outputs": [
    {
     "name": "stdout",
     "output_type": "stream",
     "text": [
      "All Headlines on News:::###\n",
      "Headlines: YouTube Cracks Down on QAnon Conspiracy Theory, Citing Offline Violence\n",
      "Story:: YouTube has played a bigger role in moving QAnon from the fringes to the mainstream than most platforms.\n",
      "Headlines: How to Deal With a Crisis of Misinformation\n",
      "Story:: False news is on the rise. We can fight the spread with a simple exercise: Slow down and be skeptical.\n",
      "Headlines: Riled Up: Misinformation Stokes Calls for Violence on Election Day\n",
      "Story:: Baseless claims are circulating online about a Democrat-led coup, inflaming tensions in an already turbulent election season.\n",
      "Headlines: Ignore Phone Companies About 5G\n",
      "Story:: The cellular networks might be life-changing in the future. Not today.\n",
      "Top Headlines:: YouTube Cracks Down on QAnon Conspiracy Theory, Citing Offline Violence\n",
      "Top Headlines:: How to Deal With a Crisis of Misinformation\n",
      "Top Headlines:: Riled Up: Misinformation Stokes Calls for Violence on Election Day\n",
      "Top Headlines:: Ignore Phone Companies About 5G\n",
      "For the Latest Updates from Business Page#####\n",
      "Live Updates Headlines: With Nowhere to Go, Teens Flock to Among Us\n",
      "updates:: YouTubers, influencers and streamers popularized the multiplayer game. Then their fans started playing too.\n",
      "Live Updates Headlines: Trump Overstates W.H.O. Position on Lockdowns\n",
      "updates:: The health organization said it continued to advocate a “do it all” approach, including shutdowns when necessary.\n",
      "Live Updates Headlines: Gadgets Were on the Way Out. Then 2020 Happened.\n",
      "updates:: A brutally unexpected year turned millions of people into gear nerds, whether they liked it or not.\n",
      "Live Updates Headlines: Schools Struggle to Secure Computers\n",
      "updates:: Facing a laptop shortage, some schools have had to jump through hoops to make remote learning work.\n",
      "Live Updates Headlines: Finally, the First Room-Temperature Superconductor\n",
      "updates:: It conveys electricity in the climate of a crisp fall day, but only under pressures comparable to what you’d find closer to Earth’s core.\n",
      "Live Updates Headlines: Now Circulating on Social Media: 4 Election Falsehoods\n",
      "updates:: The misinformation touches on ballot boxes, the “deep state,” and a conspiracy involving the coronavirus and the vote.\n",
      "Live Updates Headlines: Prices of New iPhones Stay Largely Pat\n",
      "updates:: Apple did not markedly increase the cost of its newest devices from last year.\n",
      "Live Updates Headlines: Hello iPhone 12 and iPhone 12 Pro\n",
      "updates:: The newest iPhones have 5G capability and improved design features. But Apple was vague about just how much faster the phones would be.\n",
      "Live Updates Headlines: So, Should You Buy a New Phone or Not?\n",
      "updates:: Here are three steps to take to arrive at an answer.\n",
      "Live Updates Headlines: Apple Unveils a Smaller HomePod\n",
      "updates:: The company’s smart speaker product has not been as successful as Amazon Echo and Google Home.\n"
     ]
    }
   ],
   "source": [
    "## Page 9\n",
    "html = uReq(_total_links[6])\n",
    "page_soup9 = soup(html.read(), 'html.parser');\n",
    "_news_list9 = []\n",
    "_science =  page_soup9.find('section', attrs={'id':'collection-highlights-container'}).findAll(\"article\")\n",
    "\n",
    "print(\"All Headlines on News:::###\")\n",
    "for _sciencenews in _science:\n",
    "    print(\"Headlines:\",_sciencenews.find('h2').find('a').get_text())\n",
    "    print(\"Story::\",_sciencenews.find('p').get_text())\n",
    "    _news_list9.append(_sciencenews.find('p').get_text())\n",
    "\n",
    "## Top Headlines::\n",
    "for _sciencenews in _science:\n",
    "    for _highlit in _sciencenews:\n",
    "        x1 = _highlit.find('h2')\n",
    "        if x1 != None:\n",
    "            _headlines =  x1.find('a')\n",
    "            print(\"Top Headlines::\",_headlines.get_text())\n",
    "    \n",
    "    \n",
    "\n",
    "print(\"For the Latest Updates from Business Page#####\")\n",
    "_sciencenewslatestnews =  page_soup8.find('section', attrs={'id':'stream-panel'}).findAll(\"li\")\n",
    "for _sciencelnews in _sciencenewslatestnews:\n",
    "    _sciencelheadings = _sciencelnews.find(\"a\").find(\"h2\")\n",
    "    _sciencelstorys = _sciencelnews.find(\"a\").find(\"p\")\n",
    "    if (_sciencelheadings != None and _sciencelstorys !=None):\n",
    "        _sciencelheading = _sciencelheadings.get_text()\n",
    "        _sciencelstory =  _sciencelstorys.get_text()\n",
    "        print(\"Live Updates Headlines:\",_sciencelheading)\n",
    "        print(\"updates::\",_sciencelstory)\n",
    "        _news_list9.append(_sciencelstory)\n",
    "    "
   ]
  },
  {
   "cell_type": "code",
   "execution_count": 341,
   "metadata": {},
   "outputs": [
    {
     "data": {
      "text/plain": [
       "['YouTube has played a bigger role in moving QAnon from the fringes to the mainstream than most platforms.',\n",
       " 'False news is on the rise. We can fight the spread with a simple exercise: Slow down and be skeptical.',\n",
       " 'Baseless claims are circulating online about a Democrat-led coup, inflaming tensions in an already turbulent election season.',\n",
       " 'The cellular networks might be life-changing in the future. Not today.',\n",
       " 'YouTubers, influencers and streamers popularized the multiplayer game. Then their fans started playing too.',\n",
       " 'The health organization said it continued to advocate a “do it all” approach, including shutdowns when necessary.',\n",
       " 'A brutally unexpected year turned millions of people into gear nerds, whether they liked it or not.',\n",
       " 'Facing a laptop shortage, some schools have had to jump through hoops to make remote learning work.',\n",
       " 'It conveys electricity in the climate of a crisp fall day, but only under pressures comparable to what you’d find closer to Earth’s core.',\n",
       " 'The misinformation touches on ballot boxes, the “deep state,” and a conspiracy involving the coronavirus and the vote.',\n",
       " 'Apple did not markedly increase the cost of its newest devices from last year.',\n",
       " 'The newest iPhones have 5G capability and improved design features. But Apple was vague about just how much faster the phones would be.',\n",
       " 'Here are three steps to take to arrive at an answer.',\n",
       " 'The company’s smart speaker product has not been as successful as Amazon Echo and Google Home.']"
      ]
     },
     "execution_count": 341,
     "metadata": {},
     "output_type": "execute_result"
    }
   ],
   "source": [
    "_news_list9"
   ]
  },
  {
   "cell_type": "code",
   "execution_count": 343,
   "metadata": {},
   "outputs": [
    {
     "name": "stdout",
     "output_type": "stream",
     "text": [
      "['bigger', 'role', 'moving', 'False', 'news', 'rise', 'fight', 'spread', 'simple', 'exercise', 'Slow', 'skeptical', 'Baseless', 'coup', 'inflaming', 'already', 'turbulent', 'election', 'season', 'cellular', 'might', 'future', 'today', 'game', 'health', 'organization', 'said', 'continued', 'advocate', 'approach', 'necessary', 'brutally', 'unexpected', 'year', 'turned', 'millions', 'people', 'gear', 'whether', 'Facing', 'shortage', 'jump', 'make', 'remote', 'learning', 'work', 'electricity', 'climate', 'crisp', 'fall', 'day', 'comparable', 'find', 'closer', 'Earth', 'core', 'misinformation', 'ballot', 'deep', 'state', 'conspiracy', 'vote', 'Apple', 'markedly', 'increase', 'cost', 'last', 'year', 'capability', 'design', 'Apple', 'vague', 'much', 'faster', 'would', 'three', 'take', 'arrive', 'answer', 'company', 'smart', 'speaker', 'product', 'successful', 'Echo', 'Home']\n",
      "Counter({'year': 2, 'Apple': 2, 'bigger': 1, 'role': 1, 'moving': 1, 'False': 1, 'news': 1, 'rise': 1, 'fight': 1, 'spread': 1, 'simple': 1, 'exercise': 1, 'Slow': 1, 'skeptical': 1, 'Baseless': 1, 'coup': 1, 'inflaming': 1, 'already': 1, 'turbulent': 1, 'election': 1, 'season': 1, 'cellular': 1, 'might': 1, 'future': 1, 'today': 1, 'game': 1, 'health': 1, 'organization': 1, 'said': 1, 'continued': 1, 'advocate': 1, 'approach': 1, 'necessary': 1, 'brutally': 1, 'unexpected': 1, 'turned': 1, 'millions': 1, 'people': 1, 'gear': 1, 'whether': 1, 'Facing': 1, 'shortage': 1, 'jump': 1, 'make': 1, 'remote': 1, 'learning': 1, 'work': 1, 'electricity': 1, 'climate': 1, 'crisp': 1, 'fall': 1, 'day': 1, 'comparable': 1, 'find': 1, 'closer': 1, 'Earth': 1, 'core': 1, 'misinformation': 1, 'ballot': 1, 'deep': 1, 'state': 1, 'conspiracy': 1, 'vote': 1, 'markedly': 1, 'increase': 1, 'cost': 1, 'last': 1, 'capability': 1, 'design': 1, 'vague': 1, 'much': 1, 'faster': 1, 'would': 1, 'three': 1, 'take': 1, 'arrive': 1, 'answer': 1, 'company': 1, 'smart': 1, 'speaker': 1, 'product': 1, 'successful': 1, 'Echo': 1, 'Home': 1})\n",
      "[('year', 2), ('Apple', 2), ('bigger', 1), ('role', 1), ('moving', 1), ('False', 1), ('news', 1), ('rise', 1), ('fight', 1), ('spread', 1)]\n",
      "[('curfew', 'NN'), ('major', 'JJ'), ('taking', 'VBG'), ('similar', 'JJ'), ('record', 'NN'), ('fill', 'NN'), ('See', 'NNP'), ('new', 'JJ'), ('around', 'IN'), ('world', 'NN'), ('See', 'NNP'), ('hot', 'JJ'), ('rural', 'JJ'), ('severe', 'JJ'), ('densely', 'RB'), ('Sun', 'NNP'), ('Belt', 'NNP'), ('summer', 'NN'), ('latest', 'JJS'), ('Judge', 'NNP'), ('Amy', 'NNP'), ('first', 'RB'), ('Supreme', 'NNP'), ('Court', 'NNP'), ('nominee', 'VBD'), ('profess', 'JJ'), ('independence', 'NN'), ('task', 'NN'), ('made', 'VBD'), ('far', 'RB'), ('complicated', 'VBN'), ('president', 'NN'), ('Judge', 'NNP'), ('Amy', 'NNP'), ('Senator', 'NNP'), ('Kamala', 'NNP'), ('negotiate', 'NN'), ('loaded', 'VBD'), ('nominee', 'JJ'), ('health', 'NN'), ('care', 'NN'), ('law', 'NN'), ('reassuring', 'VBG'), ('Senator', 'NNP'), ('Graham', 'NNP'), ('Judge', 'NNP'), ('Amy', 'NNP'), ('Senator', 'NNP'), ('Kamala', 'NNP'), ('known', 'VBN'), ('withering', 'VBG'), ('style', 'NN'), ('cut', 'NN'), ('restrained', 'VBD'), ('profile', 'IN'), ('Judge', 'NNP'), ('Amy', 'NNP'), ('another', 'DT'), ('bad', 'JJ'), ('day', 'NN'), ('president', 'NN'), ('analysis', 'NN'), ('recent', 'JJ'), ('polling', 'NN'), ('posted', 'VBD'), ('daily', 'JJ'), ('Election', 'NNP'), ('Day', 'NNP'), ('Joe', 'NNP'), ('significant', 'JJ'), ('financial', 'JJ'), ('advantage', 'NN'), ('President', 'NNP'), ('Trump', 'NNP'), ('million', 'CD'), ('vote', 'NN'), ('felony', 'NN'), ('latest', 'JJS'), ('misinformation', 'NN'), ('ballot', 'NN'), ('deep', 'JJ'), ('state', 'NN'), ('conspiracy', 'NN'), ('vote', 'NN'), ('authenticity', 'NN'), ('correspondence', 'NN'), ('article', 'NN'), ('could', 'MD'), ('independently', 'RB'), ('prominent', 'JJ'), ('figure', 'NN'), ('college', 'NN'), ('sports', 'NNS'), ('known', 'VBN'), ('infected', 'JJ'), ('school', 'NN'), ('athletic', 'JJ'), ('director', 'NN'), ('also', 'RB'), ('tested', 'VBD'), ('positive', 'JJ'), ('unique', 'JJ'), ('treatment', 'NN'), ('course', 'NN'), ('may', 'MD'), ('body', 'VB'), ('production', 'NN'), ('warn', 'JJ'), ('people', 'NNS'), ('birthday', 'VBP'), ('party', 'NN'), ('said', 'VBD'), ('well', 'RB'), ('limit', 'RB'), ('Long', 'NNP'), ('Island', 'NNP'), ('venue', 'NN'), ('said', 'VBD'), ('Amy', 'NNP'), ('Cooper', 'NNP'), ('police', 'NN'), ('twice', 'RB'), ('saying', 'VBG'), ('also', 'RB'), ('man', 'NN'), ('Central', 'NNP'), ('Park', 'NNP'), ('leash', 'NN'), ('dog', 'NN'), ('curfew', 'NN'), ('major', 'JJ'), ('taking', 'VBG'), ('similar', 'JJ'), ('record', 'NN'), ('fill', 'NN'), ('See', 'NNP'), ('new', 'JJ'), ('around', 'IN'), ('world', 'NN'), ('See', 'NNP'), ('hot', 'JJ'), ('rural', 'JJ'), ('severe', 'JJ'), ('densely', 'RB'), ('Sun', 'NNP'), ('Belt', 'NNP'), ('summer', 'NN'), ('latest', 'JJS'), ('Judge', 'NNP'), ('Amy', 'NNP'), ('first', 'RB'), ('Supreme', 'NNP'), ('Court', 'NNP'), ('nominee', 'VBD'), ('profess', 'JJ'), ('independence', 'NN'), ('task', 'NN'), ('made', 'VBD'), ('far', 'RB'), ('complicated', 'VBN'), ('president', 'NN'), ('Judge', 'NNP'), ('Amy', 'NNP'), ('Senator', 'NNP'), ('Kamala', 'NNP'), ('negotiate', 'NN'), ('loaded', 'VBD'), ('nominee', 'JJ'), ('health', 'NN'), ('care', 'NN'), ('law', 'NN'), ('reassuring', 'VBG'), ('Senator', 'NNP'), ('Graham', 'NNP'), ('Judge', 'NNP'), ('Amy', 'NNP'), ('Senator', 'NNP'), ('Kamala', 'NNP'), ('known', 'VBN'), ('withering', 'VBG'), ('style', 'NN'), ('cut', 'NN'), ('restrained', 'VBD'), ('profile', 'IN'), ('Judge', 'NNP'), ('Amy', 'NNP'), ('another', 'DT'), ('bad', 'JJ'), ('day', 'NN'), ('president', 'NN'), ('analysis', 'NN'), ('recent', 'JJ'), ('polling', 'NN'), ('posted', 'VBD'), ('daily', 'JJ'), ('Election', 'NNP'), ('Day', 'NNP'), ('Joe', 'NNP'), ('significant', 'JJ'), ('financial', 'JJ'), ('advantage', 'NN'), ('President', 'NNP'), ('Trump', 'NNP'), ('million', 'CD'), ('vote', 'NN'), ('felony', 'NN'), ('latest', 'JJS'), ('misinformation', 'NN'), ('ballot', 'NN'), ('deep', 'JJ'), ('state', 'NN'), ('conspiracy', 'NN'), ('vote', 'NN'), ('authenticity', 'NN'), ('correspondence', 'NN'), ('article', 'NN'), ('could', 'MD'), ('independently', 'RB'), ('prominent', 'JJ'), ('figure', 'NN'), ('college', 'NN'), ('sports', 'NNS'), ('known', 'VBN'), ('infected', 'JJ'), ('school', 'NN'), ('athletic', 'JJ'), ('director', 'NN'), ('also', 'RB'), ('tested', 'VBD'), ('positive', 'JJ'), ('unique', 'JJ'), ('treatment', 'NN'), ('course', 'NN'), ('may', 'MD'), ('body', 'VB'), ('production', 'NN'), ('warn', 'JJ'), ('people', 'NNS'), ('birthday', 'VBP'), ('party', 'NN'), ('said', 'VBD'), ('well', 'RB'), ('limit', 'RB'), ('Long', 'NNP'), ('Island', 'NNP'), ('venue', 'NN'), ('said', 'VBD'), ('Amy', 'NNP'), ('Cooper', 'NNP'), ('police', 'NN'), ('twice', 'RB'), ('saying', 'VBG'), ('also', 'RB'), ('man', 'NN'), ('Central', 'NNP'), ('Park', 'NNP'), ('leash', 'NN'), ('dog', 'NN')]\n",
      "[('NN', 84), ('NNP', 62), ('JJ', 40), ('RB', 18), ('VBD', 16), ('VBG', 8), ('VBN', 6), ('IN', 4), ('JJS', 4), ('MD', 4), ('NNS', 4), ('DT', 2), ('CD', 2), ('VB', 2), ('VBP', 2)]\n",
      "\n"
     ]
    }
   ],
   "source": [
    "_main_list8 = []\n",
    "for sentence8 in _news_list9:\n",
    "    _token_list8 = word_tokenize(sentence8)\n",
    "    for _token8 in _token_list8:\n",
    "        _main_list8.append(_token8)\n",
    "\n",
    "# Removing more punctuations to avoid it during bigram tagging\n",
    "_tokenized_word_punc8 = []\n",
    "for _each_word8 in _main_list8:\n",
    "    if(re.sub('[\\W\\_]','',_each_word8)):\n",
    "        _tokenized_word_punc8.append(_each_word8)\n",
    "\n",
    "\n",
    "##Stop-words:\n",
    "stopwords = nltk.corpus.stopwords.words('english')\n",
    "wordlist = nltk.corpus.words.words()\n",
    "content8 = [_nonstop_word8 for _nonstop_word8 in _tokenized_word_punc8 if _nonstop_word8.lower() in wordlist if _nonstop_word8.lower() not in stopwords]\n",
    "print(content8)\n",
    "\n",
    "## Most Common Words::\n",
    "_dict = {}\n",
    "count = 0\n",
    "_counter8 = Counter()\n",
    "for content_word in content8:\n",
    "    _counter8[content_word]+=1\n",
    "print(_counter8)\n",
    "_most_common_word8= _counter8.most_common(10)\n",
    "print(_most_common_word8)\n",
    "\n",
    "## PO-tagging and Freq Dist:\n",
    "_pos_tagged_words8 = nltk.pos_tag(content)\n",
    "print(_pos_tagged_words8)\n",
    "fdist8 = nltk.FreqDist(tag for (word, tag) in _pos_tagged_words8)\n",
    "print(fdist8.most_common())\n",
    "\n",
    "## Collacations:\n",
    "_collac_text8 = nltk.Text(content8)\n",
    "_collac_text8.collocations(num=10,window_size=3)"
   ]
  },
  {
   "cell_type": "code",
   "execution_count": null,
   "metadata": {},
   "outputs": [],
   "source": [
    "## Page - 10"
   ]
  },
  {
   "cell_type": "code",
   "execution_count": 363,
   "metadata": {},
   "outputs": [
    {
     "name": "stdout",
     "output_type": "stream",
     "text": [
      "<title data-rh=\"true\">Trending - The New York Times</title>\n",
      "Trending news!: Biden Is Not Out of the Woods\n",
      "Trending news!: If You Enjoy Bird-Watching, It’s Time to Give Something Back\n",
      "Trending news!: Rest Better With Light Exercises\n",
      "Trending news!: It’s Not Easy Being an Optimist in Maine\n",
      "Trending news!: China Got Better. We Got Sicker. Thanks, Trump.\n",
      "Trending news!: Will We Choose the Right Side of History?\n",
      "Trending news!: My Brother Died and Reminded Me of These Life Lessons\n",
      "Trending news!: As Virus Spread, Reports of Trump Administration’s Private Briefings Fueled Sell-Off\n",
      "Trending news!: Manhattan Emptied Out During the Pandemic. But Big Tech Is Moving In.\n",
      "Trending news!: Bye-bye, Lindsey Graham? Jaime Harrison Chases a Democratic Dream\n",
      "Trending news!: The News Cycle Is Crushing Seattle’s Vibrant Restaurant Scene\n",
      "Trending news!: California’s 40 Million People Are Sick of Being Ignored\n",
      "Trending news!: A Dose of Optimism, as the Pandemic Rages On\n",
      "Trending news!: Massachusetts Town Begs Residents to Stop Calling About Fish\n",
      "Trending news!: This Year From Hell\n",
      "Trending news!: America Has No Reason to Be So Powerful\n",
      "Trending news!: How Y’all, Youse and You Guys Talk\n",
      "Trending news!: ‘This Is a War’: Cross-Border Fight Over Water Erupts in Mexico\n",
      "Trending news!: What Kamala Harris Learned About Power at Howard\n",
      "Trending news!: The Macho Appeal of Donald Trump\n",
      "Trending news!: How Y’all, Youse and You Guys Talk\n",
      "Trending news!: ‘We Need to Take Away Children,’ No Matter How Young, Justice Dept. Officials Said\n",
      "Trending news!: Trump Lashes Out at His Cabinet With Calls to Indict Political Rivals\n",
      "Trending news!: California Republican Party Admits It Placed Misleading Ballot Boxes Around State\n",
      "Trending news!: Amy Cooper Made 2nd 911 Call to Falsely Accuse Black Bird-Watcher\n",
      "Trending news!: F.B.I. Says Michigan Anti-Government Group Plotted to Kidnap Gov. Gretchen Whitmer\n",
      "Trending news!: A fly sat atop Mike Pence’s head for two minutes during the V.P. debate.\n",
      "Trending news!: First, a Vaccine Approval. Then ‘Chaos and Confusion.’\n",
      "Trending news!: White House Blocked C.D.C. From Requiring Masks on Public Transportation\n",
      "Trending news!: ‘I Feel Like I Have Dementia’: Brain Fog Plagues Covid Survivors\n",
      "Trending news!: How Much Would Trump’s Coronavirus Treatment Cost Most Americans?\n",
      "Trending news!: In a First, New England Journal of Medicine Joins Never-Trumpers\n",
      "Trending news!: Jim Dwyer, Pulitzer Prize-Winning Journalist, Dies at 63\n",
      "Trending news!: There Will Be No Trump Coup\n",
      "Trending news!: Megan Thee Stallion: Why I Speak Up for Black Women\n",
      "Trending news!: An Arrest in Canada Casts a Shadow on a New York Times Star, and The Times\n",
      "Trending news!: Trump’s doctor says he’s completed his Covid-19 treatments and can return to ‘public engagements’ on Saturday.\n",
      "Trending news!: Who’s the Tax Cheat: The Lady in Jail or the Man in the White House?\n",
      "Trending news!: Trump Campaign Suggests Omarosa Manigault Newman Pay for $1 Million in Ad Spending\n",
      "Trending news!: Trump’s Covid Treatments Were Tested in Cells Derived From Fetal Tissue\n",
      "Trending news!: As Virus Spread, Reports of Trump Administration’s Private Briefings Fueled Sell-Off\n",
      "Trending news!: NBC Faces Blowback for Holding Trump’s Town Hall Opposite Biden’s\n",
      "Trending news!: Massachusetts Town Begs Residents to Stop Calling About Fish\n",
      "Trending news!: Lindsey Graham, running for re-election, says his reference to ‘the good old days of segregation’ was sarcastic.\n",
      "Trending news!: ‘Straight to Gunshots’: How a U.S. Task Force Killed an Antifa Activist\n",
      "Trending news!: Amy Cooper Made 2nd 911 Call to Falsely Accuse Black Bird-Watcher\n",
      "Trending news!: California Republican Party Admits It Placed Misleading Ballot Boxes Around State\n",
      "Trending news!: Megan Thee Stallion: Why I Speak Up for Black Women\n",
      "Trending news!: How Y’all, Youse and You Guys Talk\n",
      "Trending news!: Biden Is Not Out of the Woods\n",
      "Trending news!: Trump ‘kisses dictators’ butts,’ Senator Ben Sasse, a Republican, tells constituents.\n",
      "Trending news!: Riled Up: Misinformation Stokes Calls for Violence on Election Day\n",
      "Trending news!: Amy Coney Barrett Confirmation Hearings: Highlights from Day 4\n",
      "Trending news!: Christie Says He Was ‘Wrong’ Not to Wear Masks at White House\n",
      "Trending news!: Barrett, Declining to Detail Legal Views, Says She Will Not Be ‘a Pawn’ of Trump\n",
      "Trending news!: Erin Wall, 44, Dies; Acclaimed Soprano in Mozart and Strauss\n",
      "Trending news!: Trump Campaign Suggests Omarosa Manigault Newman Pay for $1 Million in Ad Spending\n",
      "Trending news!: Hearings Behind Them, Republicans Close In on Barrett Confirmation\n",
      "Trending news!: 8 Million Have Slipped Into Poverty Since May as Federal Aid Has Dried Up\n",
      "Trending news!: ‘This Is a War’: Cross-Border Fight Over Water Erupts in Mexico\n"
     ]
    }
   ],
   "source": [
    "## Page 9\n",
    "html = uReq(\"https://www.nytimes.com/trending/?pagetype=Homepage&action=click&module=Most%20Popular\")\n",
    "page_soup20 = soup(html.read(), 'html.parser');\n",
    "_news_list21 = []\n",
    "print(page_soup20.title)\n",
    "\n",
    "_most_popular1 = page_soup20.findAll('li')\n",
    "for news1 in _most_popular1:\n",
    "        x1 = news1.find('h2',attrs={'class':'css-7tzlyn'})\n",
    "        if x1 != None:\n",
    "            print(\"Trending news!:\",x1.get_text())"
   ]
  },
  {
   "cell_type": "code",
   "execution_count": 372,
   "metadata": {},
   "outputs": [
    {
     "name": "stdout",
     "output_type": "stream",
     "text": [
      "<title data-rh=\"true\">New York Restaurant Reviews - The New York Times</title>\n",
      "Hotel Name:: Kokomo\n",
      "Cuisine Caribbean\n",
      "Address:: Williamsburg\n",
      "REviews:: Every night is a celebration at Kokomo, which may be the pandemic’s best scene restaurant — a social magnet for the age of social distancing.\n",
      "Hotel Name:: Rangoon\n",
      "Cuisine Southeast Asian\n",
      "Address:: Prospect Heights\n",
      "REviews:: Myo Moe, the chef of this Burmese restaurant, grew up in Myanmar. She interprets the country’s cuisine with a blend of fidelity and freedom that seems new to New York City.\n",
      "Hotel Name:: El Encebollado de Rossy\n",
      "Cuisine Latin American\n",
      "Address:: Bushwick\n",
      "REviews:: El Encebollado de Rossy serves homey and expertly prepared versions of coastal Ecuadorean specialties. On the weekends, the chef and co-owner Rossy Alarcón arrives at 4 a.m. to begin making stock for her encebollado, a fish soup thickened with yuca and garnished with paper-thin slices of red onion.\n",
      "Hotel Name:: Pastrami Masters\n",
      "Cuisine Deli, Middle Eastern\n",
      "Address:: East Williamsburg\n",
      "REviews:: Pastrami Masters is perhaps the city’s only halal Jewish deli with a sideline in Lebanese cuisine. The corned beef, pastrami and braised brisket are nearly identical to the ones at David’s Brisket House in Bedford-Stuyvesant, which has the same owners.\n",
      "Hotel Name:: Rice & Miso\n",
      "Cuisine Japanese\n",
      "Address:: Boerum Hill\n",
      "REviews:: At this counter-service restaurant in Boerum Hill, Brooklyn, which opened in 2017, the owner Mika Hatsushima uses brown rice and organic ingredients for a healthier take on the comfort food she ate as a child in Tokyo.\n",
      "Hotel Name:: Le Crocodile\n",
      "Cuisine French\n",
      "Address:: Williamsburg\n",
      "REviews:: The menu at Jake Leiber and Aidan O’Neal’s second restaurant is long, with so many dishes you’re not quite sure at first whether two chefs whose best-known creation is a pancake will be able to keep up. They do that and then some.\n",
      "Hotel Name:: Hamido Seafood\n",
      "Cuisine Middle Eastern\n",
      "Address:: Astoria\n",
      "REviews:: At this lively restaurant run by Moghared Mansy, known as Rudy, and his cousin Mohamed Abuker, who grew up in the ancient port city of Alexandria, Egypt, diners line up at a counter to choose from a jewelry-case array of seafood.\n",
      "Hotel Name:: Noods n’ Chill\n",
      "Cuisine Thai\n",
      "Address:: Williamsburg\n",
      "REviews:: Noods n’ Chill is the newest outpost from the team behind Plant Love House, which opened in Elmhurst, Queens, in 2014 and expanded to Prospect Heights and Kensington, Brooklyn.\n",
      "Hotel Name:: Caleta 111 Cevicheria\n",
      "Cuisine Latin American\n",
      "Address:: Richmond Hill\n",
      "REviews:: Lime juice jolts through almost every dish that leaves Luis Caballero’s end of a long counter that is, in fact, the restaurant’s entire kitchen.\n",
      "Hotel Name:: JoJu\n",
      "Cuisine Asian, Southeast Asian, Vietnamese\n",
      "Address:: Elmhurst\n",
      "REviews:: The first JoJu opened in 2011 on a crowded strip of Elmhurst, Queens, selling Vietnamese banh mi in wax-paper egg-roll bags off a menu in Chinese and English. Eight years later, a second JoJu appeared on Fifth Avenue in Midtown Manhattan, with iPad kiosks and branded takeout boxes in lemongrass-green. The banh mi remain exemplary, if not wholly traditional, with classic pâté and quivery head cheese offered alongside Korean bulgogi. Twice-fried fries come heaped with pickled daikon and carrots, cilantro and jalapeño, and lashed with spicy mayo, a demi-glace of pork stock and the kind of bright-hot green sauce that anoints Peruvian roast chicken. The chef, Julie Wong, said, “I wanted to embrace Queens as a melting pot.”\n"
     ]
    }
   ],
   "source": [
    "## Page 9\n",
    "html = uReq(\"https://www.nytimes.com/reviews/dining\")\n",
    "page_soup21 = soup(html.read(), 'html.parser');\n",
    "_news_list21 = []\n",
    "print(page_soup21.title)\n",
    "\n",
    "\n",
    "_most_popular1 = page_soup21.findAll('li',attrs={'class':'css-1hks1bt'})\n",
    "for x1 in _most_popular1:\n",
    "    print(\"Hotel Name::\",x1.find('h2').get_text())\n",
    "    print(\"Cuisine\",x1.find('li',attrs={'itemprop':'servesCuisine'}).get_text())\n",
    "    print(\"Address::\",x1.find('li',attrs={'itemprop':'addressLocality'}).get_text())\n",
    "    print(\"REviews::\",x1.find('p',attrs={'class':'css-1wz52ds'}).get_text())"
   ]
  },
  {
   "cell_type": "code",
   "execution_count": 407,
   "metadata": {},
   "outputs": [
    {
     "name": "stdout",
     "output_type": "stream",
     "text": [
      "<title data-rh=\"true\">Frugal Traveler - The New York Times</title>\n",
      "Live Updates Headlines: The Deal Not Taken\n",
      "updates:: During one frantic week, incredible travel offers emerged, only to evaporate as soon as the reality of taking advantage of them during a pandemic was weighed.\n",
      "Live Updates Headlines: Join the Club, Save Some Money\n",
      "updates:: Safari deals at Costco; discount lift tickets at Sam’s Club. Add AARP and AAA into the mix of memberships that offer savings on travel.\n",
      "Live Updates Headlines: Who Needs a Caribbean Yacht When You Can Take the Ferry?\n",
      "updates:: In the British Virgin Islands, get cheap maritime thrills and rub shoulders with locals on one of the region’s most convenient ferry systems.\n",
      "Live Updates Headlines: Your Next Vacation, Paid For With Points\n",
      "updates:: All those points you’ve been saving have a purpose: a stay at a fabulous resort in the Caribbean or another warm-weather destination.\n",
      "Live Updates Headlines: A Traveler’s Guide to the Best Bets in Las Vegas\n",
      "updates:: Take the bus, look for daytime performances, eat tacos and splurge on museums that immerse you in Vegas lore.\n",
      "Live Updates Headlines: In the Cruise World, This Isn’t Winter. It’s Wave Season.\n",
      "updates:: During the annual deal-making ritual, cruise-goers can snap up savings that generally aren’t available the rest of the year.\n",
      "Live Updates Headlines: Christmas (on the Cheap) in January\n",
      "updates:: Looking for seasonal cheer without inflated prices? Then take your holiday spirit on the road — after Christmas.\n",
      "Live Updates Headlines: Money-Saving Secrets From Ski Bums\n",
      "updates:: To get nitty-gritty, budget-saving tips, we turned to ski-town locals and winter fanatics for advice.\n",
      "Live Updates Headlines: For the Best Travel Deals, Get Into the Black Friday Spirit!\n",
      "updates:: The post-Thanksgiving sales frenzy isn’t just for gift-shopping. Travelers can find significant discounts on hotel stays, tours and even cruises.\n",
      "Live Updates Headlines: The New Long Weekend\n",
      "updates:: Does a Saturday-to-Monday weekend mean savings and fewer crowds? We tested the model in four cities.\n"
     ]
    }
   ],
   "source": [
    "## Page 9\n",
    "html = uReq(\"https://www.nytimes.com/column/frugal-traveler\")\n",
    "page_soup24 = soup(html.read(), 'html.parser');\n",
    "_news_list24 = []\n",
    "print(page_soup24.title)\n",
    "\n",
    "_traveltips =  page_soup24.find('section', attrs={'id':'stream-panel'}).findAll(\"li\")\n",
    "for _traveltipslnews in _traveltips:\n",
    "    _traveltipslheadings = _traveltipslnews.find(\"a\").find(\"h2\")\n",
    "    _traveltipslstorys = _traveltipslnews.find(\"a\").find(\"p\")\n",
    "    if (_traveltipslheadings != None and _traveltipslstorys !=None):\n",
    "        _traveltipslheading = _traveltipslheadings.get_text()\n",
    "        _traveltipslstory =  _traveltipslstorys.get_text()\n",
    "        print(\"Live Updates Headlines:\",_traveltipslheading)\n",
    "        print(\"updates::\",_traveltipslstory)\n",
    "        _news_list24.append(_traveltipslstory)"
   ]
  },
  {
   "cell_type": "code",
   "execution_count": 408,
   "metadata": {},
   "outputs": [
    {
     "name": "stdout",
     "output_type": "stream",
     "text": [
      "<title data-rh=\"true\">36 Hours - The New York Times</title>\n",
      "Live Updates Headlines: A Travel Story Where the Readers Take Us Away\n",
      "updates:: Does a Saturday-to-Monday weekend mean savings and fewer crowds? We tested the model in four cities.\n",
      "Live Updates Headlines: 36 Hours in … Wherever You Are\n",
      "updates:: Does a Saturday-to-Monday weekend mean savings and fewer crowds? We tested the model in four cities.\n",
      "Live Updates Headlines: 36 Hours in … Wherever You Are? We’re Turning to Our Readers\n",
      "updates:: Does a Saturday-to-Monday weekend mean savings and fewer crowds? We tested the model in four cities.\n",
      "Live Updates Headlines: 36 Hours in Aruba\n",
      "updates:: Does a Saturday-to-Monday weekend mean savings and fewer crowds? We tested the model in four cities.\n",
      "Live Updates Headlines: 36 Hours in Zermatt\n",
      "updates:: Does a Saturday-to-Monday weekend mean savings and fewer crowds? We tested the model in four cities.\n",
      "Live Updates Headlines: 36 Hours in Queenstown, New Zealand\n",
      "updates:: Does a Saturday-to-Monday weekend mean savings and fewer crowds? We tested the model in four cities.\n",
      "Live Updates Headlines: 36 Hours in Basel\n",
      "updates:: Does a Saturday-to-Monday weekend mean savings and fewer crowds? We tested the model in four cities.\n",
      "Live Updates Headlines: 36 Hours in Niseko\n",
      "updates:: Does a Saturday-to-Monday weekend mean savings and fewer crowds? We tested the model in four cities.\n",
      "Live Updates Headlines: 36 Hours in Curaçao\n",
      "updates:: Does a Saturday-to-Monday weekend mean savings and fewer crowds? We tested the model in four cities.\n",
      "Live Updates Headlines: 36 Hours in Whistler\n",
      "updates:: Does a Saturday-to-Monday weekend mean savings and fewer crowds? We tested the model in four cities.\n"
     ]
    }
   ],
   "source": [
    "## Page 9\n",
    "html = uReq(\"https://www.nytimes.com/column/36-hours\")\n",
    "page_soup25 = soup(html.read(), 'html.parser');\n",
    "_news_list25 = []\n",
    "print(page_soup25.title)\n",
    "\n",
    "_hrs36 =  page_soup25.find('section', attrs={'id':'stream-panel'}).findAll(\"li\")\n",
    "for _hrs36plan in _hrs36:\n",
    "    _hrs36planlheadings = _hrs36plan.find(\"a\").find(\"h2\")\n",
    "    _hrs36planlstorys = _hrs36plan.find(\"a\").find(\"p\")\n",
    "    if (_hrs36planlheadings != None and _traveltipslstorys !=None):\n",
    "        _hrs36planlheading = _hrs36planlheadings.get_text()\n",
    "        _hrs36planlstory =  _traveltipslstorys.get_text()\n",
    "        print(\"Live Updates Headlines:\",_hrs36planlheading)\n",
    "        print(\"updates::\",_hrs36planlstory)\n",
    "        _news_list24.append(_hrs36planlstory)"
   ]
  },
  {
   "cell_type": "code",
   "execution_count": 430,
   "metadata": {},
   "outputs": [
    {
     "name": "stdout",
     "output_type": "stream",
     "text": [
      "<title data-rh=\"true\">Best Sellers - The New York Times</title>\n",
      "##FICTIONAL BOOK SECTION##\n",
      "Book:: TROUBLES IN PARADISE by by Elin Hilderbrand --- The final installment of the trilogy that includes “Winter in Paradise” and “What Happens in Paradise.”\n",
      "Book:: THE SEARCHER by by Tana French --- After a divorce, a former Chicago police officer resettles in an Irish village where a boy goes missing.\n",
      "Book:: THE RETURN by by Nicholas Sparks --- A doctor serving in the Navy in Afghanistan goes back to North Carolina where two women change his life.\n",
      "Book:: LEAVE THE WORLD BEHIND by by Rumaan Alam --- A family vacation in an isolated part of Long Island is thrown into confusion when the home’s owners return claiming New York City is having a blackout.\n",
      "Book:: THE INVISIBLE LIFE OF ADDIE LARUE by by V.E. Schwab --- A Faustian bargain comes with a curse that affects the adventure Addie LaRue has across centuries.\n",
      "### Non-Fictional Books###\n",
      "Book:: HUMANS by by Brandon Stanton --- Photos and stories of people from over 40 countries collected by the creator of “Humans of New York.”\n",
      "Book:: IS THIS ANYTHING? by by Jerry Seinfeld --- The comedian shares material he collected in an accordion folder over the last 45 years.\n",
      "Book:: THE 99% INVISIBLE CITY by by Roman Mars and Kurt Kohlstedt --- A look at the design and architecture of various and sometimes unexpected elements that make cities function.\n",
      "Book:: RAGE by by Bob Woodward --- Based on 17 on-the-record interviews with President Trump and other reporting, the Pulitzer Prize-winning journalist details the president’s perspective on multiple crises.\n",
      "Book:: CASTE by by Isabel Wilkerson --- The Pulitzer Prize-winning journalist examines aspects of caste systems across civilizations and reveals a rigid hierarchy in America today.\n",
      "### Paper track Books###\n",
      "Book:: WALK THE WIRE by by David Baldacci --- The sixth book in the Memory Man series. Decker and Jamison investigate a murder in a North Dakota town in a fracking boom.\n",
      "Book:: THE INSTITUTE by by Stephen King --- Children with special talents are abducted and sequestered in an institution where the sinister staff seeks to extract their gifts through harsh methods.\n",
      "Book:: THEN SHE WAS GONE by by Lisa Jewell --- Ten years after her daughter disappears, a woman tries to get her life in order but remains haunted by unanswered questions.\n",
      "Book:: THE RISE OF MAGICKS by by Nora Roberts --- The third book in the Chronicles of the One series. Fallon Swift goes up against an old foe.\n",
      "Book:: CILKA'S JOURNEY by by Heather Morris --- A 16-year-old, who sleeps with a concentration camp commandant in order to survive, is sentenced to a Siberian prison camp where she cares for the ill.\n",
      "### Children Books###\n",
      "Book:: ROWLEY JEFFERSON'S AWESOME FRIENDLY ADVENTURE by by Jeff Kinney --- Roland and Garg the Barbarian embark on a quest to save Roland's mom from the White Warlock.\n",
      "Book:: THE ONE AND ONLY BOB by by Katherine Applegate. Illustrated by Patricia Castelao --- In this sequel to \"The One and Only Ivan,\" Bob sets out on a dangerous journey in search of his long-lost sister.\n",
      "Book:: A TALE OF WITCHCRAFT... by by Chris Colfer --- In this sequel to “A Tale of Magic...” a mysterious new witch arrives at the academy with dark intentions.\n",
      "Book:: WOLFPACK by by Abby Wambach --- Inspiring the next generation to change the world.\n",
      "Book:: TRISTAN STRONG DESTROYS THE WORLD by by Kwame Mbalia --- Tristan must save his grandmother from the Shamble Man.\n"
     ]
    }
   ],
   "source": [
    "html = uReq(\"https://www.nytimes.com/books/best-sellers/\")\n",
    "page_soup26 = soup(html.read(), 'html.parser');\n",
    "_news_list26 = []\n",
    "print(page_soup26.title)\n",
    "print(\"##FICTIONAL BOOK SECTION##\")\n",
    "_fictionalbooks =  page_soup26.find('section', attrs={'class':'css-1efiz68 e8j42380'}).findAll('li')\n",
    "for _books in _fictionalbooks:\n",
    "    if(_books.find(\"h3\") != None):\n",
    "        _bookname = _books.find(\"h3\")\n",
    "        _author = _books.find(\"p\",attrs={'itemprop':'author'})\n",
    "        _discription = _books.find(\"p\",attrs={'itemprop':'description'})\n",
    "        print(\"Book::\",_bookname.get_text(),\"by\",_author.get_text(),\"---\",_discription.get_text())\n",
    "print(\"### Non-Fictional Books###\")       \n",
    "_nonfictionalbooks =  page_soup26.find('section', attrs={'aria-labelledby':'combined-print-and-e-book-nonfiction'}).findAll('li')\n",
    "for _nfbooks in _nonfictionalbooks:\n",
    "    if(_nfbooks.find(\"h3\") != None):\n",
    "        _nfbookname = _nfbooks.find(\"h3\")\n",
    "        _nfauthor = _nfbooks.find(\"p\",attrs={'itemprop':'author'})\n",
    "        _nfdiscription = _nfbooks.find(\"p\",attrs={'itemprop':'description'})\n",
    "        print(\"Book::\",_nfbookname.get_text(),\"by\",_nfauthor.get_text(),\"---\",_nfdiscription.get_text())\n",
    "\n",
    "print(\"### Paper track Books###\")   \n",
    "_papertrackbooks =  page_soup26.find('section', attrs={'aria-labelledby':'trade-fiction-paperback'}).findAll('li')\n",
    "for _ptbooks in _papertrackbooks:\n",
    "    if(_ptbooks.find(\"h3\") != None):\n",
    "        _ptbookname = _ptbooks.find(\"h3\")\n",
    "        _ptauthor = _ptbooks.find(\"p\",attrs={'itemprop':'author'})\n",
    "        _ptdiscription = _ptbooks.find(\"p\",attrs={'itemprop':'description'})\n",
    "        print(\"Book::\",_ptbookname.get_text(),\"by\",_ptauthor.get_text(),\"---\",_ptdiscription.get_text())\n",
    "        \n",
    "print(\"### Children Books###\")   \n",
    "_childrenbooks =  page_soup26.find('section', attrs={'aria-labelledby':'childrens-middle-grade-hardcover'}).findAll('li')\n",
    "for _childbooks in _childrenbooks:\n",
    "    if(_childbooks.find(\"h3\") != None):\n",
    "        _childbookname = _childbooks.find(\"h3\")\n",
    "        _childauthor = _childbooks.find(\"p\",attrs={'itemprop':'author'})\n",
    "        _childdiscription = _childbooks.find(\"p\",attrs={'itemprop':'description'})\n",
    "        print(\"Book::\",_childbookname.get_text(),\"by\",_childauthor.get_text(),\"---\",_childdiscription.get_text())"
   ]
  },
  {
   "cell_type": "code",
   "execution_count": 432,
   "metadata": {},
   "outputs": [
    {
     "name": "stdout",
     "output_type": "stream",
     "text": [
      "<title data-rh=\"true\">Crime - The New York Times</title>\n",
      "Live Updates Headlines: Louise Penny’s Most Haunting Novel Yet\n",
      "updates:: In her crime fiction column, Marilyn Stasio weighs in on four new books, including the 16th Inspector Armand Gamache mystery.\n",
      "Live Updates Headlines: Bodies of Evidence\n",
      "updates:: In her new Crime column, Marilyn Stasio ranges from an Alpine chalet to the sunny streets of Los Angeles to the venerable British city of Bath.\n",
      "Live Updates Headlines: The Impossible Case of a Japanese Locked-Room Mystery\n",
      "updates:: Marilyn Stasio recommends two recently reissued novels by Seishi Yokomizo, as well as the latest books from Denise Mina and T. Jefferson Parker.\n",
      "Live Updates Headlines: Plucky Characters? Ugh. Make Mine Prickly and Difficult.\n",
      "updates:: Marilyn Stasio finds much to like in the latest batch of crime novels, filled with abrasive, unpleasant sorts.\n",
      "Live Updates Headlines: Stabbed in the Convent, Murdered in the Yard\n",
      "updates:: In the newest batch of crime novels, bodies accumulate at a rather alarming rate.\n",
      "Live Updates Headlines: Murder, Murder, Everywhere\n",
      "updates:: In Marilyn Stasio’s new column, the bodies pile up so fast it’s hard to keep count.\n",
      "Live Updates Headlines: Who Says Crime Doesn’t Pay? In These Novels, It Does\n",
      "updates:: Marilyn Stasio investigates summer’s newest mysteries.\n",
      "Live Updates Headlines: Beautiful Places to Die\n",
      "updates:: In these new crime novels, the settings — mountain hamlets, Antarctic ice fields, French sheep farms — may look bucolic. They are not.\n",
      "Live Updates Headlines: Rape, Torture, Murder, Beheadings — All in a Day’s Work for Marilyn Stasio\n",
      "updates:: This week’s Crime column includes a computer gamer who is handy with a Samurai sword and a 14-year-old girl who solves a murder in an amusement park.\n",
      "Live Updates Headlines: The Scenes of the Crimes: Landfalls, Stadiums and Creepy Blogs\n",
      "updates:: In her latest crime fiction column, Marilyn Stasio travels to some decidedly strange places.\n"
     ]
    }
   ],
   "source": [
    "## Page 9\n",
    "html = uReq(\"https://www.nytimes.com/column/crime\")\n",
    "page_soup27 = soup(html.read(), 'html.parser');\n",
    "_news_list27 = []\n",
    "print(page_soup27.title)\n",
    "\n",
    "_crimebooks =  page_soup27.find('section', attrs={'id':'collection-crime'}).findAll(\"li\")\n",
    "for _crimebooklist in _crimebooks:\n",
    "    _crimebooklheadings = _crimebooklist.find(\"a\").find(\"h2\")\n",
    "    _crimebooklstorys = _crimebooklist.find(\"a\").find(\"p\")\n",
    "    if (_crimebooklheadings != None and _crimebooklstorys !=None):\n",
    "        _crimebooklheading = _crimebooklheadings.get_text()\n",
    "        _crimebooklstory =  _crimebooklstorys.get_text()\n",
    "        print(\"Live Updates Headlines:\",_crimebooklheading)\n",
    "        print(\"updates::\",_crimebooklstory)\n",
    "        _news_list27.append(_crimebooklstory)"
   ]
  },
  {
   "cell_type": "code",
   "execution_count": 434,
   "metadata": {},
   "outputs": [
    {
     "name": "stdout",
     "output_type": "stream",
     "text": [
      "<title data-rh=\"true\">Children’s Books - The New York Times</title>\n",
      "Live Updates Headlines: 3 Illustrated Novels With Animal Magnetism\n",
      "updates:: With nods to “Winnie the Pooh,” “The Wind in the Willows,” “Frog and Toad” and “Charlotte’s Web,” three animal-centric novels help revive a genre.\n",
      "Live Updates Headlines: 8 Picture Books About Ordinary Kids’ Everyday Activism\n",
      "updates:: From making soup to creating a butterfly garden, everyone can do something.\n",
      "Live Updates Headlines: Black Boyhood and Its Superpowers\n",
      "updates:: Isaiah Dunn has a superhero alter ego who gets his powers from eating beans and rice. Nnamdi is transformed by his anger into a seven-foot-tall hulk.\n",
      "Live Updates Headlines: An Unflinching Child’s-Eye View of Sexual Abuse\n",
      "updates:: The 10-year-old narrator of Kimberly Brubaker Bradley’s “Fighting Words” eases her way into sharing the awful truth of what she and her sister survived.\n",
      "Live Updates Headlines: Two Suicidal Teens, Four Possible Paths\n",
      "updates:: Aaron and Tillie are strangers, until they meet on a bridge. Bill Konigsberg’s new novel explores where four different plotlines could take them.\n",
      "Live Updates Headlines: A Son’s Future, a Father’s Final Down\n",
      "updates:: In Jacqueline Woodson’s “Before the Ever After,” a boy struggles to move forward as his pro football star father’s memory fades.\n",
      "Live Updates Headlines: From Iran to America, One Epic Tale at a Time\n",
      "updates:: A modern-day Scheherazade uses storytelling to survive the fifth grade.\n",
      "Live Updates Headlines: Catching the Buzz: A Young C.E.O. on Her Lemonade Business, Which Was Inspired by Bees\n",
      "updates:: Mikaila Ulmer’s “Bee Fearless” is that rarest of book breeds: the middle grade memoir.\n",
      "Live Updates Headlines: Children in a World Gone Mad: 5 Kids’ Books Set During World War II\n",
      "updates:: Tributes to family connect these four novels and a memoir, honoring the too-easily-broken bonds that sustain children across the globe.\n",
      "Live Updates Headlines: Updating the ‘You Go Girl’ Book Collection\n",
      "updates:: New children’s books published to mark the 19th Amendment’s 100th anniversary provide a wider lens than Alice Paul and dig deeper than “Girls Rule!”\n"
     ]
    }
   ],
   "source": [
    "## Page 9\n",
    "html = uReq(\"https://www.nytimes.com/column/childrens-books\")\n",
    "page_soup28 = soup(html.read(), 'html.parser');\n",
    "_news_list28 = []\n",
    "print(page_soup28.title)\n",
    "\n",
    "_childbookslist =  page_soup28.find('section', attrs={'id':'stream-panel'}).findAll(\"li\")\n",
    "for _childbooklist in _childbookslist:\n",
    "    _childbooklheadings = _childbooklist.find(\"a\").find(\"h2\")\n",
    "    _childbooklstorys = _childbooklist.find(\"a\").find(\"p\")\n",
    "    if (_childbooklheadings != None and _childbooklstorys !=None):\n",
    "        _childbooklheading = _childbooklheadings.get_text()\n",
    "        _childbooklstory =  _childbooklstorys.get_text()\n",
    "        print(\"Live Updates Headlines:\",_childbooklheading)\n",
    "        print(\"updates::\",_childbooklstory)\n",
    "        _news_list28.append(_childbooklstory)"
   ]
  },
  {
   "cell_type": "code",
   "execution_count": 472,
   "metadata": {},
   "outputs": [
    {
     "name": "stdout",
     "output_type": "stream",
     "text": [
      "<title data-rh=\"true\">Covid in the U.S.: Latest Map and Case Count - The New York Times</title>\n",
      "Cases\n",
      "8.0 million\n",
      "59,713\n",
      "+23%\n",
      "Deaths\n",
      "217,546\n",
      "1,009\n",
      "Flat\n"
     ]
    }
   ],
   "source": [
    "## Page 9\n",
    "html = uReq(\"https://www.nytimes.com/interactive/2020/us/coronavirus-us-cases.html?action=click&module=Top%20Stories&pgtype=Homepage\")\n",
    "page_soup29 = soup(html.read(), 'html.parser');\n",
    "_news_list29 = []\n",
    "print(page_soup29.title)\n",
    "\n",
    "_table=  page_soup29.find('table', attrs={'class':'counts__table'}).findAll(\"tr\")\n",
    "for _tr in _table:\n",
    "    _data = _tr.findAll('td')\n",
    "    for _each_item in _data:\n",
    "        print(_each_item.find('span').get_text())"
   ]
  },
  {
   "cell_type": "code",
   "execution_count": 473,
   "metadata": {},
   "outputs": [
    {
     "name": "stdout",
     "output_type": "stream",
     "text": [
      "<title data-rh=\"true\">Global Health - The New York Times</title>\n",
      "Live Updates Headlines: A Simple Way to Save Lives as Covid-19 Hits Poorer Nations.\n",
      "updates:: Aid agencies are scrambling to get oxygen equipment to low-income countries where the coronavirus is rapidly spreading.\n",
      "Live Updates Headlines: C.D.C. and W.H.O. Offers to Help China Have Been Ignored for Weeks\n",
      "updates:: Privately, Chinese doctors say they need outside expertise. But Beijing, without saying why, has shown no interest so far.\n",
      "Live Updates Headlines: Another H.I.V. Vaccine Fails a Trial, Disappointing Researchers\n",
      "updates:: After more than 30 years of research, 1.7 million people are still infected each year with the virus that causes AIDS.\n",
      "Live Updates Headlines: Wuhan Coronavirus Looks Increasingly Like a Pandemic, Experts Say\n",
      "updates:: Rapidly rising caseloads alarm researchers, who fear the virus may make its way across the globe. But scientists cannot yet predict how many deaths may result.\n",
      "Live Updates Headlines: Mask Hoarders May Raise Risk of a Coronavirus Outbreak in the U.S.\n",
      "updates:: Stores are selling out of masks, and health care workers risk infection if they cannot get the protective gear.\n",
      "Live Updates Headlines: Where Surgeons Don’t Bother With Checklists\n",
      "updates:: In many poor countries, older surgeons resist being questioned, and operations are more often emergencies, which leaves less time to review checklists.\n",
      "Live Updates Headlines: China Identifies New Virus Causing Pneumonialike Illness\n",
      "updates:: The new coronavirus doesn’t appear to be readily spread by humans, but researchers caution that more study is needed.\n",
      "Live Updates Headlines: The Flu Season May Yet Turn Ugly, C.D.C. Warns\n",
      "updates:: Almost as many people are falling ill as did two years ago, in what was a particularly severe flu season. But this season’s virus is unusual, and it’s too early to tell how dangerous.\n",
      "Live Updates Headlines: 200,000 Uninsured Americans to Get Free H.I.V.-Prevention Drugs\n",
      "updates:: A new government program will provide donated drugs through major drugstore chains.\n",
      "Live Updates Headlines: New Strawberry-Flavored H.I.V. Drugs for Babies Are Offered at $1 a Day\n",
      "updates:: Thousands of infants are doomed to early deaths each year, in part because pediatric medicines come in hard pills or bitter syrups that need refrigeration.\n"
     ]
    }
   ],
   "source": [
    "html = uReq(\"https://www.nytimes.com/column/global-health\")\n",
    "page_soup30 = soup(html.read(), 'html.parser');\n",
    "_news_list30 = []\n",
    "print(page_soup30.title)\n",
    "\n",
    "_healthtips =  page_soup30.find('section', attrs={'id':'stream-panel'}).findAll(\"li\")\n",
    "for _healthtip in _healthtips:\n",
    "    _healthtiplheadings = _healthtip.find(\"a\").find(\"h2\")\n",
    "    _healthtiplstorys = _healthtip.find(\"a\").find(\"p\")\n",
    "    if (_healthtiplheadings != None and _healthtiplstorys !=None):\n",
    "        _healthtiplheading = _healthtiplheadings.get_text()\n",
    "        _healthtiplstory =  _healthtiplstorys.get_text()\n",
    "        print(\"Live Updates Headlines:\",_healthtiplheading)\n",
    "        print(\"updates::\",_healthtiplstory)\n",
    "        _news_list30.append(_healthtiplstory)"
   ]
  },
  {
   "cell_type": "code",
   "execution_count": 483,
   "metadata": {},
   "outputs": [
    {
     "data": {
      "text/plain": [
       "15"
      ]
     },
     "execution_count": 483,
     "metadata": {},
     "output_type": "execute_result"
    }
   ],
   "source": [
    "writer.writerow(('ddd','eeee','ffff'))"
   ]
  },
  {
   "cell_type": "code",
   "execution_count": 23,
   "metadata": {},
   "outputs": [],
   "source": [
    "csvFile.close()"
   ]
  },
  {
   "cell_type": "code",
   "execution_count": 2,
   "metadata": {},
   "outputs": [],
   "source": [
    "import pandas as pd"
   ]
  },
  {
   "cell_type": "code",
   "execution_count": 29,
   "metadata": {},
   "outputs": [],
   "source": [
    "newsFeeds = pd.read_csv('newsFeeds.csv', header=0,encoding='cp1252')"
   ]
  },
  {
   "cell_type": "code",
   "execution_count": 30,
   "metadata": {},
   "outputs": [
    {
     "data": {
      "text/html": [
       "<div>\n",
       "<style scoped>\n",
       "    .dataframe tbody tr th:only-of-type {\n",
       "        vertical-align: middle;\n",
       "    }\n",
       "\n",
       "    .dataframe tbody tr th {\n",
       "        vertical-align: top;\n",
       "    }\n",
       "\n",
       "    .dataframe thead th {\n",
       "        text-align: right;\n",
       "    }\n",
       "</style>\n",
       "<table border=\"1\" class=\"dataframe\">\n",
       "  <thead>\n",
       "    <tr style=\"text-align: right;\">\n",
       "      <th></th>\n",
       "      <th>Headlines</th>\n",
       "      <th>DetailedNews</th>\n",
       "      <th>Category</th>\n",
       "    </tr>\n",
       "  </thead>\n",
       "  <tbody>\n",
       "    <tr>\n",
       "      <th>0</th>\n",
       "      <td>What to Watch For in the Final Day of Barrett’...</td>\n",
       "      <td>Questioning is over and senators have one more...</td>\n",
       "      <td>Breaking News</td>\n",
       "    </tr>\n",
       "    <tr>\n",
       "      <th>1</th>\n",
       "      <td>Nearly 900,000 Filed New State Unemployment Cl...</td>\n",
       "      <td>Employers continued to shed workers at a stagg...</td>\n",
       "      <td>Breaking News</td>\n",
       "    </tr>\n",
       "    <tr>\n",
       "      <th>2</th>\n",
       "      <td>As Trump’s Language Grows More Heated, Fears R...</td>\n",
       "      <td>The plot to kidnap Michigan’s governor is only...</td>\n",
       "      <td>Breaking News</td>\n",
       "    </tr>\n",
       "    <tr>\n",
       "      <th>3</th>\n",
       "      <td>‘Diamond Sweet 16’ Party Leaves 37 Infected an...</td>\n",
       "      <td>More than 80 people attended the Sept. 25 birt...</td>\n",
       "      <td>Breaking News</td>\n",
       "    </tr>\n",
       "    <tr>\n",
       "      <th>4</th>\n",
       "      <td>Europe, Which Thought It Had the Virus Tamed, ...</td>\n",
       "      <td>London will face tighter restrictions and Fran...</td>\n",
       "      <td>Breaking News in Short</td>\n",
       "    </tr>\n",
       "  </tbody>\n",
       "</table>\n",
       "</div>"
      ],
      "text/plain": [
       "                                           Headlines  \\\n",
       "0  What to Watch For in the Final Day of Barrett’...   \n",
       "1  Nearly 900,000 Filed New State Unemployment Cl...   \n",
       "2  As Trump’s Language Grows More Heated, Fears R...   \n",
       "3  ‘Diamond Sweet 16’ Party Leaves 37 Infected an...   \n",
       "4  Europe, Which Thought It Had the Virus Tamed, ...   \n",
       "\n",
       "                                        DetailedNews                Category  \n",
       "0  Questioning is over and senators have one more...           Breaking News  \n",
       "1  Employers continued to shed workers at a stagg...           Breaking News  \n",
       "2  The plot to kidnap Michigan’s governor is only...           Breaking News  \n",
       "3  More than 80 people attended the Sept. 25 birt...           Breaking News  \n",
       "4  London will face tighter restrictions and Fran...  Breaking News in Short  "
      ]
     },
     "execution_count": 30,
     "metadata": {},
     "output_type": "execute_result"
    }
   ],
   "source": [
    "newsFeeds.head()"
   ]
  },
  {
   "cell_type": "code",
   "execution_count": 31,
   "metadata": {},
   "outputs": [
    {
     "data": {
      "text/plain": [
       "0               Breaking News\n",
       "1               Breaking News\n",
       "2               Breaking News\n",
       "3               Breaking News\n",
       "4      Breaking News in Short\n",
       "                ...          \n",
       "374    Real Estate Short News\n",
       "375    Real Estate Short News\n",
       "376    Real Estate Short News\n",
       "377    Real Estate Short News\n",
       "378    Real Estate Short News\n",
       "Name: Category, Length: 379, dtype: object"
      ]
     },
     "execution_count": 31,
     "metadata": {},
     "output_type": "execute_result"
    }
   ],
   "source": [
    "newsFeeds.Category"
   ]
  },
  {
   "cell_type": "code",
   "execution_count": 34,
   "metadata": {},
   "outputs": [
    {
     "data": {
      "image/png": "[encoded data removed]",
      "text/plain": [
       "<Figure size 432x288 with 1 Axes>"
      ]
     },
     "metadata": {
      "needs_background": "light"
     },
     "output_type": "display_data"
    },
    {
     "data": {
      "text/plain": [
       "<matplotlib.axes._subplots.AxesSubplot at 0xc592940>"
      ]
     },
     "execution_count": 34,
     "metadata": {},
     "output_type": "execute_result"
    }
   ],
   "source": [
    "from nltk.probability import ConditionalFreqDist\n",
    "cfdist = ConditionalFreqDist()\n",
    "for category in set(newsFeeds.Category):\n",
    "    for eahc in surnames.Category:\n",
    "        if((category == eahc) and (category in ['Breaking News','World News','US- Breaking News','Political Breaking News','Business- Breaking News','Technology -Breaking News','Science - Breaking News','Health News','Sports Trending News','Arts Trending News','Style Fashion News','Real Estate Booming News','Food- Smoking News'])):\n",
    "            cfdist[category][eahc]+=1\n",
    "        \n",
    "cfdist.plot()"
   ]
  },
  {
   "cell_type": "code",
   "execution_count": 38,
   "metadata": {},
   "outputs": [],
   "source": [
    "file1 = open('./data/crime-and-punishment.txt')\n",
    "CRIME_AND_PUNISHMENT = file1.read()\n",
    "file1.close()"
   ]
  },
  {
   "cell_type": "code",
   "execution_count": 41,
   "metadata": {},
   "outputs": [
    {
     "name": "stdout",
     "output_type": "stream",
     "text": [
      "Enter a filename:mbox-short.txt\n",
      "./data/mbox-short.txt\n",
      "iupui.edu 8\n",
      "umich.edu 7\n",
      "uct.ac.za 6\n",
      "media.berkeley.edu 4\n",
      "caret.cam.ac.uk 1\n",
      "gmail.com 1\n"
     ]
    }
   ],
   "source": [
    "_dict={}\n",
    "count = 0\n",
    "## Assuming the text values are inside \"data\" folder\n",
    "\n",
    "filename = input(\"Enter a filename:\")\n",
    "fileloc = \"./data/\"+filename\n",
    "print(fileloc)\n",
    "try:\n",
    "    file = open(fileloc,'r')\n",
    "    for line in file:\n",
    "            if(line.startswith('From ')):\n",
    "                _lst = (line.split()[1].split(\"@\"))\n",
    "                if(_dict.get(_lst[1]) == None):\n",
    "                    _dict[_lst[1]]= count + 1\n",
    "                else:\n",
    "                    _dict[_lst[1]] = _dict.get(_lst[1])+1\n",
    "\n",
    "\n",
    "    _sorted_val = sorted(_dict.items(), key=lambda x: x[1], reverse=True)\n",
    "    for key,value in _sorted_val:\n",
    "           print(key,value)\n",
    "except:\n",
    "    print(\"Either File Not Present/Some Problem in opening file. Please check it!\")"
   ]
  },
  {
   "cell_type": "code",
   "execution_count": null,
   "metadata": {},
   "outputs": [],
   "source": []
  }
 ],
 "metadata": {
  "kernelspec": {
   "display_name": "Python 3",
   "language": "python",
   "name": "python3"
  },
  "language_info": {
   "codemirror_mode": {
    "name": "ipython",
    "version": 3
   },
   "file_extension": ".py",
   "mimetype": "text/x-python",
   "name": "python",
   "nbconvert_exporter": "python",
   "pygments_lexer": "ipython3",
   "version": "3.8.3"
  }
 },
 "nbformat": 4,
 "nbformat_minor": 4
}
