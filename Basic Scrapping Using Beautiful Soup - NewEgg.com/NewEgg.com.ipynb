{
 "cells": [
  {
   "cell_type": "code",
   "execution_count": 2,
   "metadata": {
    "scrolled": true
   },
   "outputs": [
    {
     "name": "stdout",
     "output_type": "stream",
     "text": [
      "Requirement already satisfied: BeautifulSoup4 in c:\\users\\sony\\anaconda3\\lib\\site-packages (4.9.1)\n",
      "Requirement already satisfied: soupsieve>1.2 in c:\\users\\sony\\anaconda3\\lib\\site-packages (from BeautifulSoup4) (2.0.1)\n"
     ]
    }
   ],
   "source": [
    "! pip install BeautifulSoup4"
   ]
  },
  {
   "cell_type": "code",
   "execution_count": 3,
   "metadata": {},
   "outputs": [],
   "source": [
    "from bs4 import BeautifulSoup"
   ]
  },
  {
   "cell_type": "code",
   "execution_count": 10,
   "metadata": {},
   "outputs": [],
   "source": [
    "import bs4"
   ]
  },
  {
   "cell_type": "code",
   "execution_count": 12,
   "metadata": {},
   "outputs": [],
   "source": [
    "from urllib.request import urlopen as uReq"
   ]
  },
  {
   "cell_type": "code",
   "execution_count": 13,
   "metadata": {},
   "outputs": [],
   "source": [
    "from bs4 import BeautifulSoup as soup"
   ]
  },
  {
   "cell_type": "code",
   "execution_count": 14,
   "metadata": {},
   "outputs": [],
   "source": [
    "myUrl = 'https://www.newegg.com/p/pl?d=graphic+cards+for+gaming'"
   ]
  },
  {
   "cell_type": "code",
   "execution_count": 15,
   "metadata": {},
   "outputs": [],
   "source": [
    "uClient = uReq(myUrl)"
   ]
  },
  {
   "cell_type": "code",
   "execution_count": 16,
   "metadata": {},
   "outputs": [],
   "source": [
    "page_html = uClient.read()"
   ]
  },
  {
   "cell_type": "code",
   "execution_count": 17,
   "metadata": {},
   "outputs": [],
   "source": [
    "uClient.close()"
   ]
  },
  {
   "cell_type": "code",
   "execution_count": 19,
   "metadata": {},
   "outputs": [],
   "source": [
    "page_soup = soup(page_html,\"html.parser\")"
   ]
  },
  {
   "cell_type": "code",
   "execution_count": 20,
   "metadata": {},
   "outputs": [
    {
     "data": {
      "text/plain": [
       "<h1 class=\"page-title-text\">\"graphic cards for gaming\"</h1>"
      ]
     },
     "execution_count": 20,
     "metadata": {},
     "output_type": "execute_result"
    }
   ],
   "source": [
    "page_soup.h1"
   ]
  },
  {
   "cell_type": "code",
   "execution_count": 21,
   "metadata": {},
   "outputs": [
    {
     "data": {
      "text/plain": [
       "<p class=\"item-msg\"><a class=\"shipped-by-newegg\" href=\"https://kb.newegg.com/knowledge-base/shipped-by-newegg/\">Shipped by Newegg</a></p>"
      ]
     },
     "execution_count": 21,
     "metadata": {},
     "output_type": "execute_result"
    }
   ],
   "source": [
    "page_soup.p"
   ]
  },
  {
   "cell_type": "code",
   "execution_count": 28,
   "metadata": {},
   "outputs": [],
   "source": [
    "page_container = page_soup.findAll(\"div\",{\"class\":\"item-action\"})"
   ]
  },
  {
   "cell_type": "code",
   "execution_count": 29,
   "metadata": {},
   "outputs": [
    {
     "data": {
      "text/plain": [
       "36"
      ]
     },
     "execution_count": 29,
     "metadata": {},
     "output_type": "execute_result"
    }
   ],
   "source": [
    "len(page_container)"
   ]
  },
  {
   "cell_type": "code",
   "execution_count": 30,
   "metadata": {},
   "outputs": [
    {
     "data": {
      "text/plain": [
       "<div class=\"item-action\"><ul class=\"price\"><li class=\"price-was\"></li><li class=\"price-map\"> </li><li class=\"price-current\"><span class=\"price-current-label\"></span>$<strong>299</strong><sup>.99</sup> <a class=\"price-current-num\" href=\"https://www.newegg.com/msi-geforce-gtx-1660-ti-gtx-1660-ti-gaming-x-6g/p/N82E16814137391?Item=N82E16814137391&amp;Description=graphic+cards+for+gaming&amp;buyingoptions=New\">(13 Offers)</a><span class=\"price-current-range\"><abbr title=\"to\">–</abbr></span></li><li class=\"price-save\"></li><li class=\"price-note\"><span class=\"price-note-dollar\">$269.99</span><span class=\"price-note-label\"> after </span><span class=\"price-note-dollar\">$30.00</span><span class=\"price-note-label\"> rebate card</span></li><li class=\"price-ship\">Free Shipping</li></ul><p class=\"item-msg\"><a class=\"shipped-by-newegg\" href=\"https://kb.newegg.com/knowledge-base/shipped-by-newegg/\">Shipped by Newegg</a></p><div class=\"item-operate\"><div class=\"item-button-area\"><button class=\"btn btn-mini\" title=\"View Details \">View Details <i class=\"fas fa-caret-right\"></i></button></div><div class=\"item-compare-box\"><label class=\"form-checkbox\"><input autocomplete=\"off\" type=\"checkbox\"/><span class=\"form-checkbox-title\">Compare</span></label></div></div></div>"
      ]
     },
     "execution_count": 30,
     "metadata": {},
     "output_type": "execute_result"
    }
   ],
   "source": [
    "page_container[0]"
   ]
  },
  {
   "cell_type": "code",
   "execution_count": 34,
   "metadata": {},
   "outputs": [
    {
     "data": {
      "text/plain": [
       "[<li class=\"price-was\"></li>,\n",
       " <li class=\"price-map\"> </li>,\n",
       " <li class=\"price-current\"><span class=\"price-current-label\"></span>$<strong>299</strong><sup>.99</sup> <a class=\"price-current-num\" href=\"https://www.newegg.com/msi-geforce-gtx-1660-ti-gtx-1660-ti-gaming-x-6g/p/N82E16814137391?Item=N82E16814137391&amp;Description=graphic+cards+for+gaming&amp;buyingoptions=New\">(13 Offers)</a><span class=\"price-current-range\"><abbr title=\"to\">–</abbr></span></li>,\n",
       " <li class=\"price-save\"></li>,\n",
       " <li class=\"price-note\"><span class=\"price-note-dollar\">$269.99</span><span class=\"price-note-label\"> after </span><span class=\"price-note-dollar\">$30.00</span><span class=\"price-note-label\"> rebate card</span></li>,\n",
       " <li class=\"price-ship\">Free Shipping</li>]"
      ]
     },
     "execution_count": 34,
     "metadata": {},
     "output_type": "execute_result"
    }
   ],
   "source": [
    "page_container[0].findAll(\"li\")"
   ]
  },
  {
   "cell_type": "code",
   "execution_count": 35,
   "metadata": {},
   "outputs": [
    {
     "data": {
      "text/plain": [
       "[<li class=\"price-note\"><span class=\"price-note-dollar\">$269.99</span><span class=\"price-note-label\"> after </span><span class=\"price-note-dollar\">$30.00</span><span class=\"price-note-label\"> rebate card</span></li>]"
      ]
     },
     "execution_count": 35,
     "metadata": {},
     "output_type": "execute_result"
    }
   ],
   "source": [
    "page_container[0].findAll(\"li\",{\"class\":\"price-note\"})"
   ]
  },
  {
   "cell_type": "code",
   "execution_count": 38,
   "metadata": {},
   "outputs": [
    {
     "data": {
      "text/plain": [
       "<span class=\"price-note-dollar\">$269.99</span>"
      ]
     },
     "execution_count": 38,
     "metadata": {},
     "output_type": "execute_result"
    }
   ],
   "source": [
    "page_container[0].findAll(\"span\",{\"class\":\"price-note-dollar\"})[0]"
   ]
  },
  {
   "cell_type": "code",
   "execution_count": 46,
   "metadata": {},
   "outputs": [
    {
     "name": "stdout",
     "output_type": "stream",
     "text": [
      "$269.99\n",
      "$354.99\n",
      "$149.45\n",
      "$179.99\n",
      "$349.99\n",
      "$169.99\n",
      "$219.99\n",
      "$224.99\n"
     ]
    }
   ],
   "source": [
    "for container in page_container:\n",
    "    if(container.findAll(\"span\",{\"class\":\"price-note-dollar\"})!= []):\n",
    "        prices = container.findAll(\"span\",{\"class\":\"price-note-dollar\"})[0].text\n",
    "        print(prices)"
   ]
  },
  {
   "cell_type": "code",
   "execution_count": null,
   "metadata": {},
   "outputs": [],
   "source": []
  },
  {
   "cell_type": "code",
   "execution_count": null,
   "metadata": {},
   "outputs": [],
   "source": []
  }
 ],
 "metadata": {
  "kernelspec": {
   "display_name": "Python 3",
   "language": "python",
   "name": "python3"
  },
  "language_info": {
   "codemirror_mode": {
    "name": "ipython",
    "version": 3
   },
   "file_extension": ".py",
   "mimetype": "text/x-python",
   "name": "python",
   "nbconvert_exporter": "python",
   "pygments_lexer": "ipython3",
   "version": "3.8.3"
  }
 },
 "nbformat": 4,
 "nbformat_minor": 4
}
