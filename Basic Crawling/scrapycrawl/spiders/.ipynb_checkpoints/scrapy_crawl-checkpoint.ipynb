{
 "cells": [
  {
   "cell_type": "code",
   "execution_count": 1,
   "metadata": {},
   "outputs": [],
   "source": [
    "import scrapy"
   ]
  },
  {
   "cell_type": "code",
   "execution_count": null,
   "metadata": {},
   "outputs": [],
   "source": [
    "class scrapy_crawl(scrapy.Spider):\n",
    "    name = \"posts\"\n",
    "    urls = [\"https://blog.scrapinghub.com/page/1/\"]\n",
    "    \n",
    "    def parse(self,response):\n",
    "        page = response.url.split('/')[-1]\n",
    "        filename = 'posts-%s.html' %page\n",
    "        with open(filename,'wb')as f:\n",
    "            f.write(response.body)\n",
    "    "
   ]
  }
 ],
 "metadata": {
  "kernelspec": {
   "display_name": "Python 3",
   "language": "python",
   "name": "python3"
  },
  "language_info": {
   "codemirror_mode": {
    "name": "ipython",
    "version": 3
   },
   "file_extension": ".py",
   "mimetype": "text/x-python",
   "name": "python",
   "nbconvert_exporter": "python",
   "pygments_lexer": "ipython3",
   "version": "3.8.3"
  }
 },
 "nbformat": 4,
 "nbformat_minor": 4
}
